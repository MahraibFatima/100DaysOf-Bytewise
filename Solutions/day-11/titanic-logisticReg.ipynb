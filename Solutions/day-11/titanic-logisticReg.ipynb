{
 "cells": [
  {
   "cell_type": "markdown",
   "id": "05150287",
   "metadata": {
    "papermill": {
     "duration": 0.006537,
     "end_time": "2024-07-28T20:21:51.144144",
     "exception": false,
     "start_time": "2024-07-28T20:21:51.137607",
     "status": "completed"
    },
    "tags": []
   },
   "source": [
    "## Importing Libraries"
   ]
  },
  {
   "cell_type": "code",
   "execution_count": 1,
   "id": "88ffd99a",
   "metadata": {
    "_cell_guid": "b1076dfc-b9ad-4769-8c92-a6c4dae69d19",
    "_uuid": "8f2839f25d086af736a60e9eeb907d3b93b6e0e5",
    "execution": {
     "iopub.execute_input": "2024-07-28T20:21:51.158109Z",
     "iopub.status.busy": "2024-07-28T20:21:51.157674Z",
     "iopub.status.idle": "2024-07-28T20:21:53.900636Z",
     "shell.execute_reply": "2024-07-28T20:21:53.899393Z"
    },
    "papermill": {
     "duration": 2.75324,
     "end_time": "2024-07-28T20:21:53.903462",
     "exception": false,
     "start_time": "2024-07-28T20:21:51.150222",
     "status": "completed"
    },
    "tags": []
   },
   "outputs": [],
   "source": [
    "import pandas as pd\n",
    "import numpy as np\n",
    "import seaborn as sns\n",
    "import matplotlib.pyplot as plt\n",
    "%matplotlib inline\n",
    "sns.set(color_codes=True)\n",
    "\n",
    "from sklearn.model_selection import train_test_split\n",
    "from sklearn.preprocessing import StandardScaler, OneHotEncoder\n",
    "from sklearn.compose import ColumnTransformer\n",
    "from sklearn.pipeline import Pipeline\n",
    "from sklearn.linear_model import LogisticRegression\n",
    "from sklearn.metrics import accuracy_score , roc_curve  ,  roc_auc_score"
   ]
  },
  {
   "cell_type": "markdown",
   "id": "2073ebe5",
   "metadata": {
    "papermill": {
     "duration": 0.005857,
     "end_time": "2024-07-28T20:21:53.915745",
     "exception": false,
     "start_time": "2024-07-28T20:21:53.909888",
     "status": "completed"
    },
    "tags": []
   },
   "source": [
    "## Overview"
   ]
  },
  {
   "cell_type": "code",
   "execution_count": 2,
   "id": "8484ec41",
   "metadata": {
    "execution": {
     "iopub.execute_input": "2024-07-28T20:21:53.930338Z",
     "iopub.status.busy": "2024-07-28T20:21:53.929698Z",
     "iopub.status.idle": "2024-07-28T20:21:53.951414Z",
     "shell.execute_reply": "2024-07-28T20:21:53.950309Z"
    },
    "papermill": {
     "duration": 0.032213,
     "end_time": "2024-07-28T20:21:53.954087",
     "exception": false,
     "start_time": "2024-07-28T20:21:53.921874",
     "status": "completed"
    },
    "tags": []
   },
   "outputs": [],
   "source": [
    "train_data = pd.read_csv(\"/kaggle/input/titanic/train.csv\")"
   ]
  },
  {
   "cell_type": "code",
   "execution_count": 3,
   "id": "b4624464",
   "metadata": {
    "execution": {
     "iopub.execute_input": "2024-07-28T20:21:53.968229Z",
     "iopub.status.busy": "2024-07-28T20:21:53.967808Z",
     "iopub.status.idle": "2024-07-28T20:21:53.996095Z",
     "shell.execute_reply": "2024-07-28T20:21:53.994611Z"
    },
    "papermill": {
     "duration": 0.038289,
     "end_time": "2024-07-28T20:21:53.998622",
     "exception": false,
     "start_time": "2024-07-28T20:21:53.960333",
     "status": "completed"
    },
    "tags": []
   },
   "outputs": [
    {
     "data": {
      "text/html": [
       "<div>\n",
       "<style scoped>\n",
       "    .dataframe tbody tr th:only-of-type {\n",
       "        vertical-align: middle;\n",
       "    }\n",
       "\n",
       "    .dataframe tbody tr th {\n",
       "        vertical-align: top;\n",
       "    }\n",
       "\n",
       "    .dataframe thead th {\n",
       "        text-align: right;\n",
       "    }\n",
       "</style>\n",
       "<table border=\"1\" class=\"dataframe\">\n",
       "  <thead>\n",
       "    <tr style=\"text-align: right;\">\n",
       "      <th></th>\n",
       "      <th>PassengerId</th>\n",
       "      <th>Survived</th>\n",
       "      <th>Pclass</th>\n",
       "      <th>Name</th>\n",
       "      <th>Sex</th>\n",
       "      <th>Age</th>\n",
       "      <th>SibSp</th>\n",
       "      <th>Parch</th>\n",
       "      <th>Ticket</th>\n",
       "      <th>Fare</th>\n",
       "      <th>Cabin</th>\n",
       "      <th>Embarked</th>\n",
       "    </tr>\n",
       "  </thead>\n",
       "  <tbody>\n",
       "    <tr>\n",
       "      <th>0</th>\n",
       "      <td>1</td>\n",
       "      <td>0</td>\n",
       "      <td>3</td>\n",
       "      <td>Braund, Mr. Owen Harris</td>\n",
       "      <td>male</td>\n",
       "      <td>22.0</td>\n",
       "      <td>1</td>\n",
       "      <td>0</td>\n",
       "      <td>A/5 21171</td>\n",
       "      <td>7.2500</td>\n",
       "      <td>NaN</td>\n",
       "      <td>S</td>\n",
       "    </tr>\n",
       "    <tr>\n",
       "      <th>1</th>\n",
       "      <td>2</td>\n",
       "      <td>1</td>\n",
       "      <td>1</td>\n",
       "      <td>Cumings, Mrs. John Bradley (Florence Briggs Th...</td>\n",
       "      <td>female</td>\n",
       "      <td>38.0</td>\n",
       "      <td>1</td>\n",
       "      <td>0</td>\n",
       "      <td>PC 17599</td>\n",
       "      <td>71.2833</td>\n",
       "      <td>C85</td>\n",
       "      <td>C</td>\n",
       "    </tr>\n",
       "    <tr>\n",
       "      <th>2</th>\n",
       "      <td>3</td>\n",
       "      <td>1</td>\n",
       "      <td>3</td>\n",
       "      <td>Heikkinen, Miss. Laina</td>\n",
       "      <td>female</td>\n",
       "      <td>26.0</td>\n",
       "      <td>0</td>\n",
       "      <td>0</td>\n",
       "      <td>STON/O2. 3101282</td>\n",
       "      <td>7.9250</td>\n",
       "      <td>NaN</td>\n",
       "      <td>S</td>\n",
       "    </tr>\n",
       "    <tr>\n",
       "      <th>3</th>\n",
       "      <td>4</td>\n",
       "      <td>1</td>\n",
       "      <td>1</td>\n",
       "      <td>Futrelle, Mrs. Jacques Heath (Lily May Peel)</td>\n",
       "      <td>female</td>\n",
       "      <td>35.0</td>\n",
       "      <td>1</td>\n",
       "      <td>0</td>\n",
       "      <td>113803</td>\n",
       "      <td>53.1000</td>\n",
       "      <td>C123</td>\n",
       "      <td>S</td>\n",
       "    </tr>\n",
       "    <tr>\n",
       "      <th>4</th>\n",
       "      <td>5</td>\n",
       "      <td>0</td>\n",
       "      <td>3</td>\n",
       "      <td>Allen, Mr. William Henry</td>\n",
       "      <td>male</td>\n",
       "      <td>35.0</td>\n",
       "      <td>0</td>\n",
       "      <td>0</td>\n",
       "      <td>373450</td>\n",
       "      <td>8.0500</td>\n",
       "      <td>NaN</td>\n",
       "      <td>S</td>\n",
       "    </tr>\n",
       "  </tbody>\n",
       "</table>\n",
       "</div>"
      ],
      "text/plain": [
       "   PassengerId  Survived  Pclass  \\\n",
       "0            1         0       3   \n",
       "1            2         1       1   \n",
       "2            3         1       3   \n",
       "3            4         1       1   \n",
       "4            5         0       3   \n",
       "\n",
       "                                                Name     Sex   Age  SibSp  \\\n",
       "0                            Braund, Mr. Owen Harris    male  22.0      1   \n",
       "1  Cumings, Mrs. John Bradley (Florence Briggs Th...  female  38.0      1   \n",
       "2                             Heikkinen, Miss. Laina  female  26.0      0   \n",
       "3       Futrelle, Mrs. Jacques Heath (Lily May Peel)  female  35.0      1   \n",
       "4                           Allen, Mr. William Henry    male  35.0      0   \n",
       "\n",
       "   Parch            Ticket     Fare Cabin Embarked  \n",
       "0      0         A/5 21171   7.2500   NaN        S  \n",
       "1      0          PC 17599  71.2833   C85        C  \n",
       "2      0  STON/O2. 3101282   7.9250   NaN        S  \n",
       "3      0            113803  53.1000  C123        S  \n",
       "4      0            373450   8.0500   NaN        S  "
      ]
     },
     "execution_count": 3,
     "metadata": {},
     "output_type": "execute_result"
    }
   ],
   "source": [
    "train_data.head()"
   ]
  },
  {
   "cell_type": "code",
   "execution_count": 4,
   "id": "8a893e18",
   "metadata": {
    "execution": {
     "iopub.execute_input": "2024-07-28T20:21:54.013826Z",
     "iopub.status.busy": "2024-07-28T20:21:54.012773Z",
     "iopub.status.idle": "2024-07-28T20:21:54.025004Z",
     "shell.execute_reply": "2024-07-28T20:21:54.023945Z"
    },
    "papermill": {
     "duration": 0.022416,
     "end_time": "2024-07-28T20:21:54.027628",
     "exception": false,
     "start_time": "2024-07-28T20:21:54.005212",
     "status": "completed"
    },
    "tags": []
   },
   "outputs": [],
   "source": [
    "test_data = pd.read_csv(\"/kaggle/input/titanic/test.csv\")"
   ]
  },
  {
   "cell_type": "code",
   "execution_count": 5,
   "id": "352e64fd",
   "metadata": {
    "execution": {
     "iopub.execute_input": "2024-07-28T20:21:54.042639Z",
     "iopub.status.busy": "2024-07-28T20:21:54.041900Z",
     "iopub.status.idle": "2024-07-28T20:21:54.063784Z",
     "shell.execute_reply": "2024-07-28T20:21:54.062595Z"
    },
    "papermill": {
     "duration": 0.032035,
     "end_time": "2024-07-28T20:21:54.066124",
     "exception": false,
     "start_time": "2024-07-28T20:21:54.034089",
     "status": "completed"
    },
    "tags": []
   },
   "outputs": [
    {
     "data": {
      "text/html": [
       "<div>\n",
       "<style scoped>\n",
       "    .dataframe tbody tr th:only-of-type {\n",
       "        vertical-align: middle;\n",
       "    }\n",
       "\n",
       "    .dataframe tbody tr th {\n",
       "        vertical-align: top;\n",
       "    }\n",
       "\n",
       "    .dataframe thead th {\n",
       "        text-align: right;\n",
       "    }\n",
       "</style>\n",
       "<table border=\"1\" class=\"dataframe\">\n",
       "  <thead>\n",
       "    <tr style=\"text-align: right;\">\n",
       "      <th></th>\n",
       "      <th>PassengerId</th>\n",
       "      <th>Pclass</th>\n",
       "      <th>Name</th>\n",
       "      <th>Sex</th>\n",
       "      <th>Age</th>\n",
       "      <th>SibSp</th>\n",
       "      <th>Parch</th>\n",
       "      <th>Ticket</th>\n",
       "      <th>Fare</th>\n",
       "      <th>Cabin</th>\n",
       "      <th>Embarked</th>\n",
       "    </tr>\n",
       "  </thead>\n",
       "  <tbody>\n",
       "    <tr>\n",
       "      <th>113</th>\n",
       "      <td>1005</td>\n",
       "      <td>3</td>\n",
       "      <td>Buckley, Miss. Katherine</td>\n",
       "      <td>female</td>\n",
       "      <td>18.5</td>\n",
       "      <td>0</td>\n",
       "      <td>0</td>\n",
       "      <td>329944</td>\n",
       "      <td>7.2833</td>\n",
       "      <td>NaN</td>\n",
       "      <td>Q</td>\n",
       "    </tr>\n",
       "    <tr>\n",
       "      <th>39</th>\n",
       "      <td>931</td>\n",
       "      <td>3</td>\n",
       "      <td>Hee, Mr. Ling</td>\n",
       "      <td>male</td>\n",
       "      <td>NaN</td>\n",
       "      <td>0</td>\n",
       "      <td>0</td>\n",
       "      <td>1601</td>\n",
       "      <td>56.4958</td>\n",
       "      <td>NaN</td>\n",
       "      <td>S</td>\n",
       "    </tr>\n",
       "    <tr>\n",
       "      <th>405</th>\n",
       "      <td>1297</td>\n",
       "      <td>2</td>\n",
       "      <td>Nourney, Mr. Alfred (Baron von Drachstedt\")\"</td>\n",
       "      <td>male</td>\n",
       "      <td>20.0</td>\n",
       "      <td>0</td>\n",
       "      <td>0</td>\n",
       "      <td>SC/PARIS 2166</td>\n",
       "      <td>13.8625</td>\n",
       "      <td>D38</td>\n",
       "      <td>C</td>\n",
       "    </tr>\n",
       "    <tr>\n",
       "      <th>373</th>\n",
       "      <td>1265</td>\n",
       "      <td>2</td>\n",
       "      <td>Harbeck, Mr. William H</td>\n",
       "      <td>male</td>\n",
       "      <td>44.0</td>\n",
       "      <td>0</td>\n",
       "      <td>0</td>\n",
       "      <td>248746</td>\n",
       "      <td>13.0000</td>\n",
       "      <td>NaN</td>\n",
       "      <td>S</td>\n",
       "    </tr>\n",
       "    <tr>\n",
       "      <th>289</th>\n",
       "      <td>1181</td>\n",
       "      <td>3</td>\n",
       "      <td>Ford, Mr. Arthur</td>\n",
       "      <td>male</td>\n",
       "      <td>NaN</td>\n",
       "      <td>0</td>\n",
       "      <td>0</td>\n",
       "      <td>A/5 1478</td>\n",
       "      <td>8.0500</td>\n",
       "      <td>NaN</td>\n",
       "      <td>S</td>\n",
       "    </tr>\n",
       "  </tbody>\n",
       "</table>\n",
       "</div>"
      ],
      "text/plain": [
       "     PassengerId  Pclass                                          Name  \\\n",
       "113         1005       3                      Buckley, Miss. Katherine   \n",
       "39           931       3                                 Hee, Mr. Ling   \n",
       "405         1297       2  Nourney, Mr. Alfred (Baron von Drachstedt\")\"   \n",
       "373         1265       2                        Harbeck, Mr. William H   \n",
       "289         1181       3                              Ford, Mr. Arthur   \n",
       "\n",
       "        Sex   Age  SibSp  Parch         Ticket     Fare Cabin Embarked  \n",
       "113  female  18.5      0      0         329944   7.2833   NaN        Q  \n",
       "39     male   NaN      0      0           1601  56.4958   NaN        S  \n",
       "405    male  20.0      0      0  SC/PARIS 2166  13.8625   D38        C  \n",
       "373    male  44.0      0      0         248746  13.0000   NaN        S  \n",
       "289    male   NaN      0      0       A/5 1478   8.0500   NaN        S  "
      ]
     },
     "execution_count": 5,
     "metadata": {},
     "output_type": "execute_result"
    }
   ],
   "source": [
    "test_data.sample(5)"
   ]
  },
  {
   "cell_type": "code",
   "execution_count": 6,
   "id": "fc578c39",
   "metadata": {
    "execution": {
     "iopub.execute_input": "2024-07-28T20:21:54.081386Z",
     "iopub.status.busy": "2024-07-28T20:21:54.080611Z",
     "iopub.status.idle": "2024-07-28T20:21:54.088048Z",
     "shell.execute_reply": "2024-07-28T20:21:54.086997Z"
    },
    "papermill": {
     "duration": 0.0175,
     "end_time": "2024-07-28T20:21:54.090192",
     "exception": false,
     "start_time": "2024-07-28T20:21:54.072692",
     "status": "completed"
    },
    "tags": []
   },
   "outputs": [
    {
     "name": "stdout",
     "output_type": "stream",
     "text": [
      "% of women who survived: 0.7420382165605095\n"
     ]
    }
   ],
   "source": [
    "women = train_data.loc[train_data.Sex == 'female'][\"Survived\"]\n",
    "rate_women = sum(women)/len(women)\n",
    "\n",
    "print(\"% of women who survived:\", rate_women)"
   ]
  },
  {
   "cell_type": "code",
   "execution_count": 7,
   "id": "5d56bfac",
   "metadata": {
    "execution": {
     "iopub.execute_input": "2024-07-28T20:21:54.105336Z",
     "iopub.status.busy": "2024-07-28T20:21:54.104926Z",
     "iopub.status.idle": "2024-07-28T20:21:54.110065Z",
     "shell.execute_reply": "2024-07-28T20:21:54.109041Z"
    },
    "papermill": {
     "duration": 0.015476,
     "end_time": "2024-07-28T20:21:54.112460",
     "exception": false,
     "start_time": "2024-07-28T20:21:54.096984",
     "status": "completed"
    },
    "tags": []
   },
   "outputs": [],
   "source": [
    "y = train_data[\"Survived\"]\n",
    "\n",
    "features = [\"Pclass\", \"Sex\", \"SibSp\", \"Parch\"]"
   ]
  },
  {
   "cell_type": "code",
   "execution_count": 8,
   "id": "9d0a38d7",
   "metadata": {
    "execution": {
     "iopub.execute_input": "2024-07-28T20:21:54.128562Z",
     "iopub.status.busy": "2024-07-28T20:21:54.127587Z",
     "iopub.status.idle": "2024-07-28T20:21:54.134756Z",
     "shell.execute_reply": "2024-07-28T20:21:54.133751Z"
    },
    "papermill": {
     "duration": 0.017977,
     "end_time": "2024-07-28T20:21:54.137266",
     "exception": false,
     "start_time": "2024-07-28T20:21:54.119289",
     "status": "completed"
    },
    "tags": []
   },
   "outputs": [
    {
     "name": "stdout",
     "output_type": "stream",
     "text": [
      "% of men who survived: 0.18890814558058924\n"
     ]
    }
   ],
   "source": [
    "men = train_data.loc[train_data.Sex == 'male'][\"Survived\"]\n",
    "rate_men = sum(men)/len(men)\n",
    "\n",
    "print(\"% of men who survived:\", rate_men)"
   ]
  },
  {
   "cell_type": "code",
   "execution_count": 9,
   "id": "5b783009",
   "metadata": {
    "execution": {
     "iopub.execute_input": "2024-07-28T20:21:54.152377Z",
     "iopub.status.busy": "2024-07-28T20:21:54.152009Z",
     "iopub.status.idle": "2024-07-28T20:21:54.168160Z",
     "shell.execute_reply": "2024-07-28T20:21:54.167144Z"
    },
    "papermill": {
     "duration": 0.026428,
     "end_time": "2024-07-28T20:21:54.170501",
     "exception": false,
     "start_time": "2024-07-28T20:21:54.144073",
     "status": "completed"
    },
    "tags": []
   },
   "outputs": [
    {
     "data": {
      "text/html": [
       "<div>\n",
       "<style scoped>\n",
       "    .dataframe tbody tr th:only-of-type {\n",
       "        vertical-align: middle;\n",
       "    }\n",
       "\n",
       "    .dataframe tbody tr th {\n",
       "        vertical-align: top;\n",
       "    }\n",
       "\n",
       "    .dataframe thead th {\n",
       "        text-align: right;\n",
       "    }\n",
       "</style>\n",
       "<table border=\"1\" class=\"dataframe\">\n",
       "  <thead>\n",
       "    <tr style=\"text-align: right;\">\n",
       "      <th></th>\n",
       "      <th>Pclass</th>\n",
       "      <th>Sex</th>\n",
       "      <th>SibSp</th>\n",
       "      <th>Parch</th>\n",
       "    </tr>\n",
       "  </thead>\n",
       "  <tbody>\n",
       "    <tr>\n",
       "      <th>0</th>\n",
       "      <td>3</td>\n",
       "      <td>male</td>\n",
       "      <td>1</td>\n",
       "      <td>0</td>\n",
       "    </tr>\n",
       "    <tr>\n",
       "      <th>1</th>\n",
       "      <td>1</td>\n",
       "      <td>female</td>\n",
       "      <td>1</td>\n",
       "      <td>0</td>\n",
       "    </tr>\n",
       "    <tr>\n",
       "      <th>2</th>\n",
       "      <td>3</td>\n",
       "      <td>female</td>\n",
       "      <td>0</td>\n",
       "      <td>0</td>\n",
       "    </tr>\n",
       "    <tr>\n",
       "      <th>3</th>\n",
       "      <td>1</td>\n",
       "      <td>female</td>\n",
       "      <td>1</td>\n",
       "      <td>0</td>\n",
       "    </tr>\n",
       "    <tr>\n",
       "      <th>4</th>\n",
       "      <td>3</td>\n",
       "      <td>male</td>\n",
       "      <td>0</td>\n",
       "      <td>0</td>\n",
       "    </tr>\n",
       "  </tbody>\n",
       "</table>\n",
       "</div>"
      ],
      "text/plain": [
       "   Pclass     Sex  SibSp  Parch\n",
       "0       3    male      1      0\n",
       "1       1  female      1      0\n",
       "2       3  female      0      0\n",
       "3       1  female      1      0\n",
       "4       3    male      0      0"
      ]
     },
     "execution_count": 9,
     "metadata": {},
     "output_type": "execute_result"
    }
   ],
   "source": [
    "train_data[features].head()"
   ]
  },
  {
   "cell_type": "code",
   "execution_count": 10,
   "id": "d271697c",
   "metadata": {
    "execution": {
     "iopub.execute_input": "2024-07-28T20:21:54.185962Z",
     "iopub.status.busy": "2024-07-28T20:21:54.185544Z",
     "iopub.status.idle": "2024-07-28T20:21:54.194209Z",
     "shell.execute_reply": "2024-07-28T20:21:54.193197Z"
    },
    "papermill": {
     "duration": 0.019299,
     "end_time": "2024-07-28T20:21:54.196729",
     "exception": false,
     "start_time": "2024-07-28T20:21:54.177430",
     "status": "completed"
    },
    "tags": []
   },
   "outputs": [
    {
     "data": {
      "text/plain": [
       "PassengerId      0\n",
       "Survived         0\n",
       "Pclass           0\n",
       "Name             0\n",
       "Sex              0\n",
       "Age            177\n",
       "SibSp            0\n",
       "Parch            0\n",
       "Ticket           0\n",
       "Fare             0\n",
       "Cabin          687\n",
       "Embarked         2\n",
       "dtype: int64"
      ]
     },
     "execution_count": 10,
     "metadata": {},
     "output_type": "execute_result"
    }
   ],
   "source": [
    "train_data.isnull().sum()"
   ]
  },
  {
   "cell_type": "markdown",
   "id": "5ba7b2c8",
   "metadata": {
    "papermill": {
     "duration": 0.006643,
     "end_time": "2024-07-28T20:21:54.210401",
     "exception": false,
     "start_time": "2024-07-28T20:21:54.203758",
     "status": "completed"
    },
    "tags": []
   },
   "source": [
    "## Handling Outliers"
   ]
  },
  {
   "cell_type": "markdown",
   "id": "6855cbc4",
   "metadata": {
    "papermill": {
     "duration": 0.006828,
     "end_time": "2024-07-28T20:21:54.224164",
     "exception": false,
     "start_time": "2024-07-28T20:21:54.217336",
     "status": "completed"
    },
    "tags": []
   },
   "source": [
    "### Droping Cabin col\n",
    "> Cabin has 687 missing values while total values are 891.\n",
    "\n",
    "> Missing values are more than 80% of data\n"
   ]
  },
  {
   "cell_type": "code",
   "execution_count": 11,
   "id": "b2203e7f",
   "metadata": {
    "execution": {
     "iopub.execute_input": "2024-07-28T20:21:54.240438Z",
     "iopub.status.busy": "2024-07-28T20:21:54.239660Z",
     "iopub.status.idle": "2024-07-28T20:21:54.245917Z",
     "shell.execute_reply": "2024-07-28T20:21:54.244822Z"
    },
    "papermill": {
     "duration": 0.01699,
     "end_time": "2024-07-28T20:21:54.248387",
     "exception": false,
     "start_time": "2024-07-28T20:21:54.231397",
     "status": "completed"
    },
    "tags": []
   },
   "outputs": [],
   "source": [
    "train_data= train_data.drop(labels='Cabin', axis=1)"
   ]
  },
  {
   "cell_type": "markdown",
   "id": "e04ecfc4",
   "metadata": {
    "papermill": {
     "duration": 0.007076,
     "end_time": "2024-07-28T20:21:54.262604",
     "exception": false,
     "start_time": "2024-07-28T20:21:54.255528",
     "status": "completed"
    },
    "tags": []
   },
   "source": [
    "## Mean imputation"
   ]
  },
  {
   "cell_type": "code",
   "execution_count": 12,
   "id": "812afe33",
   "metadata": {
    "execution": {
     "iopub.execute_input": "2024-07-28T20:21:54.279227Z",
     "iopub.status.busy": "2024-07-28T20:21:54.278561Z",
     "iopub.status.idle": "2024-07-28T20:21:54.285965Z",
     "shell.execute_reply": "2024-07-28T20:21:54.284781Z"
    },
    "papermill": {
     "duration": 0.018593,
     "end_time": "2024-07-28T20:21:54.288258",
     "exception": false,
     "start_time": "2024-07-28T20:21:54.269665",
     "status": "completed"
    },
    "tags": []
   },
   "outputs": [],
   "source": [
    "train_data['Age'] = train_data['Age'].fillna(train_data['Age'].mean())"
   ]
  },
  {
   "cell_type": "markdown",
   "id": "f661db49",
   "metadata": {
    "papermill": {
     "duration": 0.008399,
     "end_time": "2024-07-28T20:21:54.304079",
     "exception": false,
     "start_time": "2024-07-28T20:21:54.295680",
     "status": "completed"
    },
    "tags": []
   },
   "source": [
    "## Mode Imputation"
   ]
  },
  {
   "cell_type": "code",
   "execution_count": 13,
   "id": "40e1cf86",
   "metadata": {
    "execution": {
     "iopub.execute_input": "2024-07-28T20:21:54.320854Z",
     "iopub.status.busy": "2024-07-28T20:21:54.319869Z",
     "iopub.status.idle": "2024-07-28T20:21:54.327946Z",
     "shell.execute_reply": "2024-07-28T20:21:54.326853Z"
    },
    "papermill": {
     "duration": 0.018807,
     "end_time": "2024-07-28T20:21:54.330319",
     "exception": false,
     "start_time": "2024-07-28T20:21:54.311512",
     "status": "completed"
    },
    "tags": []
   },
   "outputs": [],
   "source": [
    "train_data['Embarked'] = train_data['Embarked'].fillna(train_data['Embarked'].mode()[0])"
   ]
  },
  {
   "cell_type": "code",
   "execution_count": 14,
   "id": "294e37d7",
   "metadata": {
    "execution": {
     "iopub.execute_input": "2024-07-28T20:21:54.347652Z",
     "iopub.status.busy": "2024-07-28T20:21:54.346574Z",
     "iopub.status.idle": "2024-07-28T20:21:54.355774Z",
     "shell.execute_reply": "2024-07-28T20:21:54.354801Z"
    },
    "papermill": {
     "duration": 0.020563,
     "end_time": "2024-07-28T20:21:54.358039",
     "exception": false,
     "start_time": "2024-07-28T20:21:54.337476",
     "status": "completed"
    },
    "tags": []
   },
   "outputs": [
    {
     "data": {
      "text/plain": [
       "0"
      ]
     },
     "execution_count": 14,
     "metadata": {},
     "output_type": "execute_result"
    }
   ],
   "source": [
    "train_data.isnull().sum().sum()"
   ]
  },
  {
   "cell_type": "markdown",
   "id": "d7e43292",
   "metadata": {
    "papermill": {
     "duration": 0.006772,
     "end_time": "2024-07-28T20:21:54.372047",
     "exception": false,
     "start_time": "2024-07-28T20:21:54.365275",
     "status": "completed"
    },
    "tags": []
   },
   "source": [
    "## One-Hot Encoding"
   ]
  },
  {
   "cell_type": "code",
   "execution_count": 15,
   "id": "ed1b8981",
   "metadata": {
    "execution": {
     "iopub.execute_input": "2024-07-28T20:21:54.388745Z",
     "iopub.status.busy": "2024-07-28T20:21:54.388338Z",
     "iopub.status.idle": "2024-07-28T20:21:54.404057Z",
     "shell.execute_reply": "2024-07-28T20:21:54.402789Z"
    },
    "papermill": {
     "duration": 0.027083,
     "end_time": "2024-07-28T20:21:54.406826",
     "exception": false,
     "start_time": "2024-07-28T20:21:54.379743",
     "status": "completed"
    },
    "tags": []
   },
   "outputs": [],
   "source": [
    "X = pd.get_dummies(train_data[features])\n",
    "X_test = pd.get_dummies(test_data[features])"
   ]
  },
  {
   "cell_type": "code",
   "execution_count": 16,
   "id": "b9ab1c12",
   "metadata": {
    "execution": {
     "iopub.execute_input": "2024-07-28T20:21:54.422858Z",
     "iopub.status.busy": "2024-07-28T20:21:54.422400Z",
     "iopub.status.idle": "2024-07-28T20:21:54.434545Z",
     "shell.execute_reply": "2024-07-28T20:21:54.433493Z"
    },
    "papermill": {
     "duration": 0.022877,
     "end_time": "2024-07-28T20:21:54.436871",
     "exception": false,
     "start_time": "2024-07-28T20:21:54.413994",
     "status": "completed"
    },
    "tags": []
   },
   "outputs": [
    {
     "data": {
      "text/html": [
       "<div>\n",
       "<style scoped>\n",
       "    .dataframe tbody tr th:only-of-type {\n",
       "        vertical-align: middle;\n",
       "    }\n",
       "\n",
       "    .dataframe tbody tr th {\n",
       "        vertical-align: top;\n",
       "    }\n",
       "\n",
       "    .dataframe thead th {\n",
       "        text-align: right;\n",
       "    }\n",
       "</style>\n",
       "<table border=\"1\" class=\"dataframe\">\n",
       "  <thead>\n",
       "    <tr style=\"text-align: right;\">\n",
       "      <th></th>\n",
       "      <th>Pclass</th>\n",
       "      <th>SibSp</th>\n",
       "      <th>Parch</th>\n",
       "      <th>Sex_female</th>\n",
       "      <th>Sex_male</th>\n",
       "    </tr>\n",
       "  </thead>\n",
       "  <tbody>\n",
       "    <tr>\n",
       "      <th>0</th>\n",
       "      <td>3</td>\n",
       "      <td>1</td>\n",
       "      <td>0</td>\n",
       "      <td>False</td>\n",
       "      <td>True</td>\n",
       "    </tr>\n",
       "    <tr>\n",
       "      <th>1</th>\n",
       "      <td>1</td>\n",
       "      <td>1</td>\n",
       "      <td>0</td>\n",
       "      <td>True</td>\n",
       "      <td>False</td>\n",
       "    </tr>\n",
       "    <tr>\n",
       "      <th>2</th>\n",
       "      <td>3</td>\n",
       "      <td>0</td>\n",
       "      <td>0</td>\n",
       "      <td>True</td>\n",
       "      <td>False</td>\n",
       "    </tr>\n",
       "    <tr>\n",
       "      <th>3</th>\n",
       "      <td>1</td>\n",
       "      <td>1</td>\n",
       "      <td>0</td>\n",
       "      <td>True</td>\n",
       "      <td>False</td>\n",
       "    </tr>\n",
       "    <tr>\n",
       "      <th>4</th>\n",
       "      <td>3</td>\n",
       "      <td>0</td>\n",
       "      <td>0</td>\n",
       "      <td>False</td>\n",
       "      <td>True</td>\n",
       "    </tr>\n",
       "  </tbody>\n",
       "</table>\n",
       "</div>"
      ],
      "text/plain": [
       "   Pclass  SibSp  Parch  Sex_female  Sex_male\n",
       "0       3      1      0       False      True\n",
       "1       1      1      0        True     False\n",
       "2       3      0      0        True     False\n",
       "3       1      1      0        True     False\n",
       "4       3      0      0       False      True"
      ]
     },
     "execution_count": 16,
     "metadata": {},
     "output_type": "execute_result"
    }
   ],
   "source": [
    "X.head()"
   ]
  },
  {
   "cell_type": "code",
   "execution_count": 17,
   "id": "43e87664",
   "metadata": {
    "execution": {
     "iopub.execute_input": "2024-07-28T20:21:54.453643Z",
     "iopub.status.busy": "2024-07-28T20:21:54.453255Z",
     "iopub.status.idle": "2024-07-28T20:21:54.460652Z",
     "shell.execute_reply": "2024-07-28T20:21:54.459579Z"
    },
    "papermill": {
     "duration": 0.019119,
     "end_time": "2024-07-28T20:21:54.463276",
     "exception": false,
     "start_time": "2024-07-28T20:21:54.444157",
     "status": "completed"
    },
    "tags": []
   },
   "outputs": [],
   "source": [
    "X_train, X_test, y_train, y_test = train_test_split(X, y, test_size=0.3, random_state=42)"
   ]
  },
  {
   "cell_type": "code",
   "execution_count": 18,
   "id": "7c090871",
   "metadata": {
    "execution": {
     "iopub.execute_input": "2024-07-28T20:21:54.480590Z",
     "iopub.status.busy": "2024-07-28T20:21:54.480168Z",
     "iopub.status.idle": "2024-07-28T20:21:54.504338Z",
     "shell.execute_reply": "2024-07-28T20:21:54.503270Z"
    },
    "papermill": {
     "duration": 0.036051,
     "end_time": "2024-07-28T20:21:54.506699",
     "exception": false,
     "start_time": "2024-07-28T20:21:54.470648",
     "status": "completed"
    },
    "tags": []
   },
   "outputs": [
    {
     "data": {
      "text/html": [
       "<style>#sk-container-id-1 {color: black;background-color: white;}#sk-container-id-1 pre{padding: 0;}#sk-container-id-1 div.sk-toggleable {background-color: white;}#sk-container-id-1 label.sk-toggleable__label {cursor: pointer;display: block;width: 100%;margin-bottom: 0;padding: 0.3em;box-sizing: border-box;text-align: center;}#sk-container-id-1 label.sk-toggleable__label-arrow:before {content: \"▸\";float: left;margin-right: 0.25em;color: #696969;}#sk-container-id-1 label.sk-toggleable__label-arrow:hover:before {color: black;}#sk-container-id-1 div.sk-estimator:hover label.sk-toggleable__label-arrow:before {color: black;}#sk-container-id-1 div.sk-toggleable__content {max-height: 0;max-width: 0;overflow: hidden;text-align: left;background-color: #f0f8ff;}#sk-container-id-1 div.sk-toggleable__content pre {margin: 0.2em;color: black;border-radius: 0.25em;background-color: #f0f8ff;}#sk-container-id-1 input.sk-toggleable__control:checked~div.sk-toggleable__content {max-height: 200px;max-width: 100%;overflow: auto;}#sk-container-id-1 input.sk-toggleable__control:checked~label.sk-toggleable__label-arrow:before {content: \"▾\";}#sk-container-id-1 div.sk-estimator input.sk-toggleable__control:checked~label.sk-toggleable__label {background-color: #d4ebff;}#sk-container-id-1 div.sk-label input.sk-toggleable__control:checked~label.sk-toggleable__label {background-color: #d4ebff;}#sk-container-id-1 input.sk-hidden--visually {border: 0;clip: rect(1px 1px 1px 1px);clip: rect(1px, 1px, 1px, 1px);height: 1px;margin: -1px;overflow: hidden;padding: 0;position: absolute;width: 1px;}#sk-container-id-1 div.sk-estimator {font-family: monospace;background-color: #f0f8ff;border: 1px dotted black;border-radius: 0.25em;box-sizing: border-box;margin-bottom: 0.5em;}#sk-container-id-1 div.sk-estimator:hover {background-color: #d4ebff;}#sk-container-id-1 div.sk-parallel-item::after {content: \"\";width: 100%;border-bottom: 1px solid gray;flex-grow: 1;}#sk-container-id-1 div.sk-label:hover label.sk-toggleable__label {background-color: #d4ebff;}#sk-container-id-1 div.sk-serial::before {content: \"\";position: absolute;border-left: 1px solid gray;box-sizing: border-box;top: 0;bottom: 0;left: 50%;z-index: 0;}#sk-container-id-1 div.sk-serial {display: flex;flex-direction: column;align-items: center;background-color: white;padding-right: 0.2em;padding-left: 0.2em;position: relative;}#sk-container-id-1 div.sk-item {position: relative;z-index: 1;}#sk-container-id-1 div.sk-parallel {display: flex;align-items: stretch;justify-content: center;background-color: white;position: relative;}#sk-container-id-1 div.sk-item::before, #sk-container-id-1 div.sk-parallel-item::before {content: \"\";position: absolute;border-left: 1px solid gray;box-sizing: border-box;top: 0;bottom: 0;left: 50%;z-index: -1;}#sk-container-id-1 div.sk-parallel-item {display: flex;flex-direction: column;z-index: 1;position: relative;background-color: white;}#sk-container-id-1 div.sk-parallel-item:first-child::after {align-self: flex-end;width: 50%;}#sk-container-id-1 div.sk-parallel-item:last-child::after {align-self: flex-start;width: 50%;}#sk-container-id-1 div.sk-parallel-item:only-child::after {width: 0;}#sk-container-id-1 div.sk-dashed-wrapped {border: 1px dashed gray;margin: 0 0.4em 0.5em 0.4em;box-sizing: border-box;padding-bottom: 0.4em;background-color: white;}#sk-container-id-1 div.sk-label label {font-family: monospace;font-weight: bold;display: inline-block;line-height: 1.2em;}#sk-container-id-1 div.sk-label-container {text-align: center;}#sk-container-id-1 div.sk-container {/* jupyter's `normalize.less` sets `[hidden] { display: none; }` but bootstrap.min.css set `[hidden] { display: none !important; }` so we also need the `!important` here to be able to override the default hidden behavior on the sphinx rendered scikit-learn.org. See: https://github.com/scikit-learn/scikit-learn/issues/21755 */display: inline-block !important;position: relative;}#sk-container-id-1 div.sk-text-repr-fallback {display: none;}</style><div id=\"sk-container-id-1\" class=\"sk-top-container\"><div class=\"sk-text-repr-fallback\"><pre>LogisticRegression()</pre><b>In a Jupyter environment, please rerun this cell to show the HTML representation or trust the notebook. <br />On GitHub, the HTML representation is unable to render, please try loading this page with nbviewer.org.</b></div><div class=\"sk-container\" hidden><div class=\"sk-item\"><div class=\"sk-estimator sk-toggleable\"><input class=\"sk-toggleable__control sk-hidden--visually\" id=\"sk-estimator-id-1\" type=\"checkbox\" checked><label for=\"sk-estimator-id-1\" class=\"sk-toggleable__label sk-toggleable__label-arrow\">LogisticRegression</label><div class=\"sk-toggleable__content\"><pre>LogisticRegression()</pre></div></div></div></div></div>"
      ],
      "text/plain": [
       "LogisticRegression()"
      ]
     },
     "execution_count": 18,
     "metadata": {},
     "output_type": "execute_result"
    }
   ],
   "source": [
    "#X_train , X_test , y_train ,y_test = train_test_split(X,y,test_size=0.2,random_state=42)\n",
    "model = LogisticRegression()\n",
    "model.fit(X_train, y_train)"
   ]
  },
  {
   "cell_type": "code",
   "execution_count": 19,
   "id": "606fdb50",
   "metadata": {
    "execution": {
     "iopub.execute_input": "2024-07-28T20:21:54.523784Z",
     "iopub.status.busy": "2024-07-28T20:21:54.523392Z",
     "iopub.status.idle": "2024-07-28T20:21:54.532459Z",
     "shell.execute_reply": "2024-07-28T20:21:54.531494Z"
    },
    "papermill": {
     "duration": 0.020397,
     "end_time": "2024-07-28T20:21:54.534781",
     "exception": false,
     "start_time": "2024-07-28T20:21:54.514384",
     "status": "completed"
    },
    "tags": []
   },
   "outputs": [],
   "source": [
    "y_prob = model.predict_proba(X_test)[:, 1]  # probabilities for the positive class\n",
    "y_pred = model.predict(X_test)  "
   ]
  },
  {
   "cell_type": "code",
   "execution_count": 20,
   "id": "60e8140f",
   "metadata": {
    "execution": {
     "iopub.execute_input": "2024-07-28T20:21:54.553254Z",
     "iopub.status.busy": "2024-07-28T20:21:54.552532Z",
     "iopub.status.idle": "2024-07-28T20:21:54.564081Z",
     "shell.execute_reply": "2024-07-28T20:21:54.562685Z"
    },
    "papermill": {
     "duration": 0.023327,
     "end_time": "2024-07-28T20:21:54.566418",
     "exception": false,
     "start_time": "2024-07-28T20:21:54.543091",
     "status": "completed"
    },
    "tags": []
   },
   "outputs": [
    {
     "name": "stdout",
     "output_type": "stream",
     "text": [
      "ROC-AUC Score: 86.00%\n"
     ]
    }
   ],
   "source": [
    "roc_auc = roc_auc_score(y_test, y_prob)\n",
    "print(f'ROC-AUC Score: {(roc_auc*100):.2f}%')\n"
   ]
  }
 ],
 "metadata": {
  "kaggle": {
   "accelerator": "none",
   "dataSources": [
    {
     "databundleVersionId": 26502,
     "sourceId": 3136,
     "sourceType": "competition"
    }
   ],
   "dockerImageVersionId": 30626,
   "isGpuEnabled": false,
   "isInternetEnabled": true,
   "language": "python",
   "sourceType": "notebook"
  },
  "kernelspec": {
   "display_name": "Python 3",
   "language": "python",
   "name": "python3"
  },
  "language_info": {
   "codemirror_mode": {
    "name": "ipython",
    "version": 3
   },
   "file_extension": ".py",
   "mimetype": "text/x-python",
   "name": "python",
   "nbconvert_exporter": "python",
   "pygments_lexer": "ipython3",
   "version": "3.10.12"
  },
  "papermill": {
   "default_parameters": {},
   "duration": 7.994316,
   "end_time": "2024-07-28T20:21:55.195391",
   "environment_variables": {},
   "exception": null,
   "input_path": "__notebook__.ipynb",
   "output_path": "__notebook__.ipynb",
   "parameters": {},
   "start_time": "2024-07-28T20:21:47.201075",
   "version": "2.4.0"
  }
 },
 "nbformat": 4,
 "nbformat_minor": 5
}
