{
 "cells": [
  {
   "cell_type": "markdown",
   "id": "c7c066d9",
   "metadata": {
    "papermill": {
     "duration": 0.00783,
     "end_time": "2024-07-28T19:28:46.125994",
     "exception": false,
     "start_time": "2024-07-28T19:28:46.118164",
     "status": "completed"
    },
    "tags": []
   },
   "source": [
    "## Importing Libraries"
   ]
  },
  {
   "cell_type": "code",
   "execution_count": 1,
   "id": "9e79b5ff",
   "metadata": {
    "_cell_guid": "b1076dfc-b9ad-4769-8c92-a6c4dae69d19",
    "_uuid": "8f2839f25d086af736a60e9eeb907d3b93b6e0e5",
    "execution": {
     "iopub.execute_input": "2024-07-28T19:28:46.142654Z",
     "iopub.status.busy": "2024-07-28T19:28:46.142272Z",
     "iopub.status.idle": "2024-07-28T19:28:49.230378Z",
     "shell.execute_reply": "2024-07-28T19:28:49.229126Z"
    },
    "papermill": {
     "duration": 3.099679,
     "end_time": "2024-07-28T19:28:49.233054",
     "exception": false,
     "start_time": "2024-07-28T19:28:46.133375",
     "status": "completed"
    },
    "tags": []
   },
   "outputs": [],
   "source": [
    "import numpy as np\n",
    "import pandas as pd\n",
    "import matplotlib.pyplot as plt\n",
    "import seaborn as sns\n",
    "from sklearn.model_selection import train_test_split\n",
    "from sklearn.tree import DecisionTreeClassifier\n",
    "from sklearn.preprocessing import LabelEncoder\n",
    "from sklearn.metrics import accuracy_score, precision_score, recall_score, confusion_matrix\n",
    "import warnings\n",
    "warnings.filterwarnings('ignore')\n",
    "\n",
    "from sklearn.datasets import load_iris"
   ]
  },
  {
   "cell_type": "markdown",
   "id": "81b3fe56",
   "metadata": {
    "papermill": {
     "duration": 0.007242,
     "end_time": "2024-07-28T19:28:49.248258",
     "exception": false,
     "start_time": "2024-07-28T19:28:49.241016",
     "status": "completed"
    },
    "tags": []
   },
   "source": [
    "## Overview"
   ]
  },
  {
   "cell_type": "code",
   "execution_count": 2,
   "id": "74a86c3f",
   "metadata": {
    "execution": {
     "iopub.execute_input": "2024-07-28T19:28:49.265054Z",
     "iopub.status.busy": "2024-07-28T19:28:49.264544Z",
     "iopub.status.idle": "2024-07-28T19:28:49.279717Z",
     "shell.execute_reply": "2024-07-28T19:28:49.277635Z"
    },
    "papermill": {
     "duration": 0.0271,
     "end_time": "2024-07-28T19:28:49.282753",
     "exception": false,
     "start_time": "2024-07-28T19:28:49.255653",
     "status": "completed"
    },
    "tags": []
   },
   "outputs": [],
   "source": [
    "iris = load_iris()"
   ]
  },
  {
   "cell_type": "code",
   "execution_count": 3,
   "id": "b31f54f6",
   "metadata": {
    "execution": {
     "iopub.execute_input": "2024-07-28T19:28:49.306747Z",
     "iopub.status.busy": "2024-07-28T19:28:49.305409Z",
     "iopub.status.idle": "2024-07-28T19:28:49.312971Z",
     "shell.execute_reply": "2024-07-28T19:28:49.311666Z"
    },
    "papermill": {
     "duration": 0.022234,
     "end_time": "2024-07-28T19:28:49.315919",
     "exception": false,
     "start_time": "2024-07-28T19:28:49.293685",
     "status": "completed"
    },
    "tags": []
   },
   "outputs": [
    {
     "name": "stdout",
     "output_type": "stream",
     "text": [
      "[[5.1 3.5 1.4 0.2]\n",
      " [4.9 3.  1.4 0.2]\n",
      " [4.7 3.2 1.3 0.2]\n",
      " [4.6 3.1 1.5 0.2]\n",
      " [5.  3.6 1.4 0.2]]\n"
     ]
    }
   ],
   "source": [
    "print(iris.data[:5])"
   ]
  },
  {
   "cell_type": "markdown",
   "id": "1b7a143f",
   "metadata": {
    "papermill": {
     "duration": 0.010926,
     "end_time": "2024-07-28T19:28:49.338080",
     "exception": false,
     "start_time": "2024-07-28T19:28:49.327154",
     "status": "completed"
    },
    "tags": []
   },
   "source": [
    "### np array to df"
   ]
  },
  {
   "cell_type": "code",
   "execution_count": 4,
   "id": "484d03e9",
   "metadata": {
    "execution": {
     "iopub.execute_input": "2024-07-28T19:28:49.357969Z",
     "iopub.status.busy": "2024-07-28T19:28:49.357594Z",
     "iopub.status.idle": "2024-07-28T19:28:49.365546Z",
     "shell.execute_reply": "2024-07-28T19:28:49.364086Z"
    },
    "papermill": {
     "duration": 0.021407,
     "end_time": "2024-07-28T19:28:49.368288",
     "exception": false,
     "start_time": "2024-07-28T19:28:49.346881",
     "status": "completed"
    },
    "tags": []
   },
   "outputs": [],
   "source": [
    "iris_df = pd.DataFrame(data=iris.data, columns=iris.feature_names)"
   ]
  },
  {
   "cell_type": "code",
   "execution_count": 5,
   "id": "04b3a74c",
   "metadata": {
    "execution": {
     "iopub.execute_input": "2024-07-28T19:28:49.385256Z",
     "iopub.status.busy": "2024-07-28T19:28:49.384841Z",
     "iopub.status.idle": "2024-07-28T19:28:49.411178Z",
     "shell.execute_reply": "2024-07-28T19:28:49.410013Z"
    },
    "papermill": {
     "duration": 0.0377,
     "end_time": "2024-07-28T19:28:49.413605",
     "exception": false,
     "start_time": "2024-07-28T19:28:49.375905",
     "status": "completed"
    },
    "tags": []
   },
   "outputs": [
    {
     "data": {
      "text/html": [
       "<div>\n",
       "<style scoped>\n",
       "    .dataframe tbody tr th:only-of-type {\n",
       "        vertical-align: middle;\n",
       "    }\n",
       "\n",
       "    .dataframe tbody tr th {\n",
       "        vertical-align: top;\n",
       "    }\n",
       "\n",
       "    .dataframe thead th {\n",
       "        text-align: right;\n",
       "    }\n",
       "</style>\n",
       "<table border=\"1\" class=\"dataframe\">\n",
       "  <thead>\n",
       "    <tr style=\"text-align: right;\">\n",
       "      <th></th>\n",
       "      <th>sepal length (cm)</th>\n",
       "      <th>sepal width (cm)</th>\n",
       "      <th>petal length (cm)</th>\n",
       "      <th>petal width (cm)</th>\n",
       "    </tr>\n",
       "  </thead>\n",
       "  <tbody>\n",
       "    <tr>\n",
       "      <th>0</th>\n",
       "      <td>5.1</td>\n",
       "      <td>3.5</td>\n",
       "      <td>1.4</td>\n",
       "      <td>0.2</td>\n",
       "    </tr>\n",
       "    <tr>\n",
       "      <th>1</th>\n",
       "      <td>4.9</td>\n",
       "      <td>3.0</td>\n",
       "      <td>1.4</td>\n",
       "      <td>0.2</td>\n",
       "    </tr>\n",
       "    <tr>\n",
       "      <th>2</th>\n",
       "      <td>4.7</td>\n",
       "      <td>3.2</td>\n",
       "      <td>1.3</td>\n",
       "      <td>0.2</td>\n",
       "    </tr>\n",
       "    <tr>\n",
       "      <th>3</th>\n",
       "      <td>4.6</td>\n",
       "      <td>3.1</td>\n",
       "      <td>1.5</td>\n",
       "      <td>0.2</td>\n",
       "    </tr>\n",
       "    <tr>\n",
       "      <th>4</th>\n",
       "      <td>5.0</td>\n",
       "      <td>3.6</td>\n",
       "      <td>1.4</td>\n",
       "      <td>0.2</td>\n",
       "    </tr>\n",
       "  </tbody>\n",
       "</table>\n",
       "</div>"
      ],
      "text/plain": [
       "   sepal length (cm)  sepal width (cm)  petal length (cm)  petal width (cm)\n",
       "0                5.1               3.5                1.4               0.2\n",
       "1                4.9               3.0                1.4               0.2\n",
       "2                4.7               3.2                1.3               0.2\n",
       "3                4.6               3.1                1.5               0.2\n",
       "4                5.0               3.6                1.4               0.2"
      ]
     },
     "execution_count": 5,
     "metadata": {},
     "output_type": "execute_result"
    }
   ],
   "source": [
    "iris_df.head(5)"
   ]
  },
  {
   "cell_type": "code",
   "execution_count": 6,
   "id": "64c9f824",
   "metadata": {
    "execution": {
     "iopub.execute_input": "2024-07-28T19:28:49.430868Z",
     "iopub.status.busy": "2024-07-28T19:28:49.430434Z",
     "iopub.status.idle": "2024-07-28T19:28:49.452432Z",
     "shell.execute_reply": "2024-07-28T19:28:49.451163Z"
    },
    "papermill": {
     "duration": 0.033465,
     "end_time": "2024-07-28T19:28:49.454826",
     "exception": false,
     "start_time": "2024-07-28T19:28:49.421361",
     "status": "completed"
    },
    "tags": []
   },
   "outputs": [
    {
     "data": {
      "text/html": [
       "<div>\n",
       "<style scoped>\n",
       "    .dataframe tbody tr th:only-of-type {\n",
       "        vertical-align: middle;\n",
       "    }\n",
       "\n",
       "    .dataframe tbody tr th {\n",
       "        vertical-align: top;\n",
       "    }\n",
       "\n",
       "    .dataframe thead th {\n",
       "        text-align: right;\n",
       "    }\n",
       "</style>\n",
       "<table border=\"1\" class=\"dataframe\">\n",
       "  <thead>\n",
       "    <tr style=\"text-align: right;\">\n",
       "      <th></th>\n",
       "      <th>sepal length (cm)</th>\n",
       "      <th>sepal width (cm)</th>\n",
       "      <th>petal length (cm)</th>\n",
       "      <th>petal width (cm)</th>\n",
       "    </tr>\n",
       "  </thead>\n",
       "  <tbody>\n",
       "    <tr>\n",
       "      <th>84</th>\n",
       "      <td>5.4</td>\n",
       "      <td>3.0</td>\n",
       "      <td>4.5</td>\n",
       "      <td>1.5</td>\n",
       "    </tr>\n",
       "    <tr>\n",
       "      <th>97</th>\n",
       "      <td>6.2</td>\n",
       "      <td>2.9</td>\n",
       "      <td>4.3</td>\n",
       "      <td>1.3</td>\n",
       "    </tr>\n",
       "    <tr>\n",
       "      <th>95</th>\n",
       "      <td>5.7</td>\n",
       "      <td>3.0</td>\n",
       "      <td>4.2</td>\n",
       "      <td>1.2</td>\n",
       "    </tr>\n",
       "    <tr>\n",
       "      <th>25</th>\n",
       "      <td>5.0</td>\n",
       "      <td>3.0</td>\n",
       "      <td>1.6</td>\n",
       "      <td>0.2</td>\n",
       "    </tr>\n",
       "    <tr>\n",
       "      <th>96</th>\n",
       "      <td>5.7</td>\n",
       "      <td>2.9</td>\n",
       "      <td>4.2</td>\n",
       "      <td>1.3</td>\n",
       "    </tr>\n",
       "  </tbody>\n",
       "</table>\n",
       "</div>"
      ],
      "text/plain": [
       "    sepal length (cm)  sepal width (cm)  petal length (cm)  petal width (cm)\n",
       "84                5.4               3.0                4.5               1.5\n",
       "97                6.2               2.9                4.3               1.3\n",
       "95                5.7               3.0                4.2               1.2\n",
       "25                5.0               3.0                1.6               0.2\n",
       "96                5.7               2.9                4.2               1.3"
      ]
     },
     "execution_count": 6,
     "metadata": {},
     "output_type": "execute_result"
    }
   ],
   "source": [
    "iris_df.sample(5)"
   ]
  },
  {
   "cell_type": "code",
   "execution_count": 7,
   "id": "6a35a2d7",
   "metadata": {
    "execution": {
     "iopub.execute_input": "2024-07-28T19:28:49.472435Z",
     "iopub.status.busy": "2024-07-28T19:28:49.472033Z",
     "iopub.status.idle": "2024-07-28T19:28:49.479169Z",
     "shell.execute_reply": "2024-07-28T19:28:49.478052Z"
    },
    "papermill": {
     "duration": 0.018718,
     "end_time": "2024-07-28T19:28:49.481540",
     "exception": false,
     "start_time": "2024-07-28T19:28:49.462822",
     "status": "completed"
    },
    "tags": []
   },
   "outputs": [
    {
     "data": {
      "text/plain": [
       "(150, 4)"
      ]
     },
     "execution_count": 7,
     "metadata": {},
     "output_type": "execute_result"
    }
   ],
   "source": [
    "iris_df.shape"
   ]
  },
  {
   "cell_type": "code",
   "execution_count": 8,
   "id": "7dcea618",
   "metadata": {
    "execution": {
     "iopub.execute_input": "2024-07-28T19:28:49.499759Z",
     "iopub.status.busy": "2024-07-28T19:28:49.499371Z",
     "iopub.status.idle": "2024-07-28T19:28:49.507237Z",
     "shell.execute_reply": "2024-07-28T19:28:49.506071Z"
    },
    "papermill": {
     "duration": 0.020106,
     "end_time": "2024-07-28T19:28:49.509587",
     "exception": false,
     "start_time": "2024-07-28T19:28:49.489481",
     "status": "completed"
    },
    "tags": []
   },
   "outputs": [
    {
     "data": {
      "text/plain": [
       "0"
      ]
     },
     "execution_count": 8,
     "metadata": {},
     "output_type": "execute_result"
    }
   ],
   "source": [
    "iris_df.isnull().sum().sum()"
   ]
  },
  {
   "cell_type": "code",
   "execution_count": 9,
   "id": "0062e213",
   "metadata": {
    "execution": {
     "iopub.execute_input": "2024-07-28T19:28:49.528059Z",
     "iopub.status.busy": "2024-07-28T19:28:49.527244Z",
     "iopub.status.idle": "2024-07-28T19:28:49.551593Z",
     "shell.execute_reply": "2024-07-28T19:28:49.550264Z"
    },
    "papermill": {
     "duration": 0.036349,
     "end_time": "2024-07-28T19:28:49.554141",
     "exception": false,
     "start_time": "2024-07-28T19:28:49.517792",
     "status": "completed"
    },
    "tags": []
   },
   "outputs": [
    {
     "name": "stdout",
     "output_type": "stream",
     "text": [
      "<class 'pandas.core.frame.DataFrame'>\n",
      "RangeIndex: 150 entries, 0 to 149\n",
      "Data columns (total 4 columns):\n",
      " #   Column             Non-Null Count  Dtype  \n",
      "---  ------             --------------  -----  \n",
      " 0   sepal length (cm)  150 non-null    float64\n",
      " 1   sepal width (cm)   150 non-null    float64\n",
      " 2   petal length (cm)  150 non-null    float64\n",
      " 3   petal width (cm)   150 non-null    float64\n",
      "dtypes: float64(4)\n",
      "memory usage: 4.8 KB\n"
     ]
    }
   ],
   "source": [
    "iris_df.info()"
   ]
  },
  {
   "cell_type": "markdown",
   "id": "ffb013f8",
   "metadata": {
    "papermill": {
     "duration": 0.007838,
     "end_time": "2024-07-28T19:28:49.570420",
     "exception": false,
     "start_time": "2024-07-28T19:28:49.562582",
     "status": "completed"
    },
    "tags": []
   },
   "source": [
    "## Basic Statistics"
   ]
  },
  {
   "cell_type": "code",
   "execution_count": 10,
   "id": "24348859",
   "metadata": {
    "execution": {
     "iopub.execute_input": "2024-07-28T19:28:49.588660Z",
     "iopub.status.busy": "2024-07-28T19:28:49.588252Z",
     "iopub.status.idle": "2024-07-28T19:28:49.612548Z",
     "shell.execute_reply": "2024-07-28T19:28:49.611504Z"
    },
    "papermill": {
     "duration": 0.036408,
     "end_time": "2024-07-28T19:28:49.615100",
     "exception": false,
     "start_time": "2024-07-28T19:28:49.578692",
     "status": "completed"
    },
    "tags": []
   },
   "outputs": [
    {
     "data": {
      "text/html": [
       "<div>\n",
       "<style scoped>\n",
       "    .dataframe tbody tr th:only-of-type {\n",
       "        vertical-align: middle;\n",
       "    }\n",
       "\n",
       "    .dataframe tbody tr th {\n",
       "        vertical-align: top;\n",
       "    }\n",
       "\n",
       "    .dataframe thead th {\n",
       "        text-align: right;\n",
       "    }\n",
       "</style>\n",
       "<table border=\"1\" class=\"dataframe\">\n",
       "  <thead>\n",
       "    <tr style=\"text-align: right;\">\n",
       "      <th></th>\n",
       "      <th>sepal length (cm)</th>\n",
       "      <th>sepal width (cm)</th>\n",
       "      <th>petal length (cm)</th>\n",
       "      <th>petal width (cm)</th>\n",
       "    </tr>\n",
       "  </thead>\n",
       "  <tbody>\n",
       "    <tr>\n",
       "      <th>count</th>\n",
       "      <td>150.000000</td>\n",
       "      <td>150.000000</td>\n",
       "      <td>150.000000</td>\n",
       "      <td>150.000000</td>\n",
       "    </tr>\n",
       "    <tr>\n",
       "      <th>mean</th>\n",
       "      <td>5.843333</td>\n",
       "      <td>3.057333</td>\n",
       "      <td>3.758000</td>\n",
       "      <td>1.199333</td>\n",
       "    </tr>\n",
       "    <tr>\n",
       "      <th>std</th>\n",
       "      <td>0.828066</td>\n",
       "      <td>0.435866</td>\n",
       "      <td>1.765298</td>\n",
       "      <td>0.762238</td>\n",
       "    </tr>\n",
       "    <tr>\n",
       "      <th>min</th>\n",
       "      <td>4.300000</td>\n",
       "      <td>2.000000</td>\n",
       "      <td>1.000000</td>\n",
       "      <td>0.100000</td>\n",
       "    </tr>\n",
       "    <tr>\n",
       "      <th>25%</th>\n",
       "      <td>5.100000</td>\n",
       "      <td>2.800000</td>\n",
       "      <td>1.600000</td>\n",
       "      <td>0.300000</td>\n",
       "    </tr>\n",
       "    <tr>\n",
       "      <th>50%</th>\n",
       "      <td>5.800000</td>\n",
       "      <td>3.000000</td>\n",
       "      <td>4.350000</td>\n",
       "      <td>1.300000</td>\n",
       "    </tr>\n",
       "    <tr>\n",
       "      <th>75%</th>\n",
       "      <td>6.400000</td>\n",
       "      <td>3.300000</td>\n",
       "      <td>5.100000</td>\n",
       "      <td>1.800000</td>\n",
       "    </tr>\n",
       "    <tr>\n",
       "      <th>max</th>\n",
       "      <td>7.900000</td>\n",
       "      <td>4.400000</td>\n",
       "      <td>6.900000</td>\n",
       "      <td>2.500000</td>\n",
       "    </tr>\n",
       "  </tbody>\n",
       "</table>\n",
       "</div>"
      ],
      "text/plain": [
       "       sepal length (cm)  sepal width (cm)  petal length (cm)  \\\n",
       "count         150.000000        150.000000         150.000000   \n",
       "mean            5.843333          3.057333           3.758000   \n",
       "std             0.828066          0.435866           1.765298   \n",
       "min             4.300000          2.000000           1.000000   \n",
       "25%             5.100000          2.800000           1.600000   \n",
       "50%             5.800000          3.000000           4.350000   \n",
       "75%             6.400000          3.300000           5.100000   \n",
       "max             7.900000          4.400000           6.900000   \n",
       "\n",
       "       petal width (cm)  \n",
       "count        150.000000  \n",
       "mean           1.199333  \n",
       "std            0.762238  \n",
       "min            0.100000  \n",
       "25%            0.300000  \n",
       "50%            1.300000  \n",
       "75%            1.800000  \n",
       "max            2.500000  "
      ]
     },
     "execution_count": 10,
     "metadata": {},
     "output_type": "execute_result"
    }
   ],
   "source": [
    "iris_df.describe()"
   ]
  },
  {
   "cell_type": "markdown",
   "id": "f0b93908",
   "metadata": {
    "papermill": {
     "duration": 0.008128,
     "end_time": "2024-07-28T19:28:49.631747",
     "exception": false,
     "start_time": "2024-07-28T19:28:49.623619",
     "status": "completed"
    },
    "tags": []
   },
   "source": [
    "### number of feature"
   ]
  },
  {
   "cell_type": "code",
   "execution_count": 11,
   "id": "92a222bf",
   "metadata": {
    "execution": {
     "iopub.execute_input": "2024-07-28T19:28:49.650373Z",
     "iopub.status.busy": "2024-07-28T19:28:49.649970Z",
     "iopub.status.idle": "2024-07-28T19:28:49.656622Z",
     "shell.execute_reply": "2024-07-28T19:28:49.655513Z"
    },
    "papermill": {
     "duration": 0.0186,
     "end_time": "2024-07-28T19:28:49.658951",
     "exception": false,
     "start_time": "2024-07-28T19:28:49.640351",
     "status": "completed"
    },
    "tags": []
   },
   "outputs": [
    {
     "data": {
      "text/plain": [
       "4"
      ]
     },
     "execution_count": 11,
     "metadata": {},
     "output_type": "execute_result"
    }
   ],
   "source": [
    "iris.data.shape[1]"
   ]
  },
  {
   "cell_type": "markdown",
   "id": "512f3c12",
   "metadata": {
    "papermill": {
     "duration": 0.010448,
     "end_time": "2024-07-28T19:28:49.678089",
     "exception": false,
     "start_time": "2024-07-28T19:28:49.667641",
     "status": "completed"
    },
    "tags": []
   },
   "source": [
    "### number of sample "
   ]
  },
  {
   "cell_type": "code",
   "execution_count": 12,
   "id": "380618c0",
   "metadata": {
    "execution": {
     "iopub.execute_input": "2024-07-28T19:28:49.697030Z",
     "iopub.status.busy": "2024-07-28T19:28:49.696600Z",
     "iopub.status.idle": "2024-07-28T19:28:49.703913Z",
     "shell.execute_reply": "2024-07-28T19:28:49.702613Z"
    },
    "papermill": {
     "duration": 0.019544,
     "end_time": "2024-07-28T19:28:49.706345",
     "exception": false,
     "start_time": "2024-07-28T19:28:49.686801",
     "status": "completed"
    },
    "tags": []
   },
   "outputs": [
    {
     "data": {
      "text/plain": [
       "150"
      ]
     },
     "execution_count": 12,
     "metadata": {},
     "output_type": "execute_result"
    }
   ],
   "source": [
    "iris.data.shape[0]"
   ]
  },
  {
   "cell_type": "code",
   "execution_count": 13,
   "id": "8a6ea5bf",
   "metadata": {
    "execution": {
     "iopub.execute_input": "2024-07-28T19:28:49.725555Z",
     "iopub.status.busy": "2024-07-28T19:28:49.724708Z",
     "iopub.status.idle": "2024-07-28T19:28:49.729540Z",
     "shell.execute_reply": "2024-07-28T19:28:49.728409Z"
    },
    "papermill": {
     "duration": 0.01696,
     "end_time": "2024-07-28T19:28:49.731975",
     "exception": false,
     "start_time": "2024-07-28T19:28:49.715015",
     "status": "completed"
    },
    "tags": []
   },
   "outputs": [],
   "source": [
    "import seaborn as sns\n",
    "import matplotlib.pyplot as plt"
   ]
  },
  {
   "cell_type": "code",
   "execution_count": 14,
   "id": "314dcb9c",
   "metadata": {
    "execution": {
     "iopub.execute_input": "2024-07-28T19:28:49.752547Z",
     "iopub.status.busy": "2024-07-28T19:28:49.751739Z",
     "iopub.status.idle": "2024-07-28T19:28:50.088086Z",
     "shell.execute_reply": "2024-07-28T19:28:50.086918Z"
    },
    "papermill": {
     "duration": 0.349924,
     "end_time": "2024-07-28T19:28:50.090731",
     "exception": false,
     "start_time": "2024-07-28T19:28:49.740807",
     "status": "completed"
    },
    "tags": []
   },
   "outputs": [
    {
     "data": {
      "image/png": "[encoded data removed]",
      "text/plain": [
       "<Figure size 640x480 with 1 Axes>"
      ]
     },
     "metadata": {},
     "output_type": "display_data"
    }
   ],
   "source": [
    "sns.histplot(data=iris_df['sepal length (cm)'], bins=10, kde=False)\n",
    "plt.title('Histogram of Sepal Length')\n",
    "plt.xlabel('Sepal Length (cm)')\n",
    "plt.ylabel('Frequency')\n",
    "plt.grid(True)\n",
    "plt.show()"
   ]
  },
  {
   "cell_type": "code",
   "execution_count": 15,
   "id": "7f3b1637",
   "metadata": {
    "execution": {
     "iopub.execute_input": "2024-07-28T19:28:50.112289Z",
     "iopub.status.busy": "2024-07-28T19:28:50.111025Z",
     "iopub.status.idle": "2024-07-28T19:28:50.418305Z",
     "shell.execute_reply": "2024-07-28T19:28:50.416918Z"
    },
    "papermill": {
     "duration": 0.320782,
     "end_time": "2024-07-28T19:28:50.421065",
     "exception": false,
     "start_time": "2024-07-28T19:28:50.100283",
     "status": "completed"
    },
    "tags": []
   },
   "outputs": [
    {
     "data": {
      "image/png": "[encoded data removed]",
      "text/plain": [
       "<Figure size 640x480 with 1 Axes>"
      ]
     },
     "metadata": {},
     "output_type": "display_data"
    }
   ],
   "source": [
    "sns.kdeplot(data=iris_df['sepal length (cm)'])\n",
    "plt.title('kdeplot of Sepal Length')\n",
    "plt.xlabel('Sepal Length (cm)')\n",
    "plt.ylabel('Frequency')\n",
    "plt.grid(True)\n",
    "plt.show()"
   ]
  },
  {
   "cell_type": "markdown",
   "id": "6ca21f05",
   "metadata": {
    "papermill": {
     "duration": 0.009257,
     "end_time": "2024-07-28T19:28:50.439877",
     "exception": false,
     "start_time": "2024-07-28T19:28:50.430620",
     "status": "completed"
    },
    "tags": []
   },
   "source": [
    "data is normal distributed, we can apply linear regression."
   ]
  },
  {
   "cell_type": "markdown",
   "id": "892ddb7f",
   "metadata": {
    "papermill": {
     "duration": 0.009645,
     "end_time": "2024-07-28T19:28:50.459214",
     "exception": false,
     "start_time": "2024-07-28T19:28:50.449569",
     "status": "completed"
    },
    "tags": []
   },
   "source": [
    "### train test split"
   ]
  },
  {
   "cell_type": "code",
   "execution_count": 16,
   "id": "c74672ac",
   "metadata": {
    "execution": {
     "iopub.execute_input": "2024-07-28T19:28:50.481160Z",
     "iopub.status.busy": "2024-07-28T19:28:50.480037Z",
     "iopub.status.idle": "2024-07-28T19:28:50.487851Z",
     "shell.execute_reply": "2024-07-28T19:28:50.486714Z"
    },
    "papermill": {
     "duration": 0.021434,
     "end_time": "2024-07-28T19:28:50.490371",
     "exception": false,
     "start_time": "2024-07-28T19:28:50.468937",
     "status": "completed"
    },
    "tags": []
   },
   "outputs": [
    {
     "name": "stdout",
     "output_type": "stream",
     "text": [
      "Training set size: (112, 4), Testing set size: (38, 4)\n"
     ]
    }
   ],
   "source": [
    "from sklearn.model_selection import train_test_split\n",
    "\n",
    "X = iris.data\n",
    "y = iris.target\n",
    "X_train, X_test, y_train, y_test = train_test_split(X,y, test_size=0.25, random_state=42)\n",
    "print(f\"Training set size: {X_train.shape}, Testing set size: {X_test.shape}\")"
   ]
  },
  {
   "cell_type": "code",
   "execution_count": 17,
   "id": "c7090364",
   "metadata": {
    "execution": {
     "iopub.execute_input": "2024-07-28T19:28:50.511379Z",
     "iopub.status.busy": "2024-07-28T19:28:50.510978Z",
     "iopub.status.idle": "2024-07-28T19:28:50.517915Z",
     "shell.execute_reply": "2024-07-28T19:28:50.516881Z"
    },
    "papermill": {
     "duration": 0.020285,
     "end_time": "2024-07-28T19:28:50.520254",
     "exception": false,
     "start_time": "2024-07-28T19:28:50.499969",
     "status": "completed"
    },
    "tags": []
   },
   "outputs": [
    {
     "data": {
      "text/plain": [
       "(112, 4)"
      ]
     },
     "execution_count": 17,
     "metadata": {},
     "output_type": "execute_result"
    }
   ],
   "source": [
    "X_train.shape"
   ]
  },
  {
   "cell_type": "code",
   "execution_count": 18,
   "id": "64cc804a",
   "metadata": {
    "execution": {
     "iopub.execute_input": "2024-07-28T19:28:50.541741Z",
     "iopub.status.busy": "2024-07-28T19:28:50.541329Z",
     "iopub.status.idle": "2024-07-28T19:28:50.548446Z",
     "shell.execute_reply": "2024-07-28T19:28:50.547231Z"
    },
    "papermill": {
     "duration": 0.020766,
     "end_time": "2024-07-28T19:28:50.550732",
     "exception": false,
     "start_time": "2024-07-28T19:28:50.529966",
     "status": "completed"
    },
    "tags": []
   },
   "outputs": [
    {
     "data": {
      "text/plain": [
       "(38, 4)"
      ]
     },
     "execution_count": 18,
     "metadata": {},
     "output_type": "execute_result"
    }
   ],
   "source": [
    "X_test.shape"
   ]
  },
  {
   "cell_type": "markdown",
   "id": "b40dd68b",
   "metadata": {
    "papermill": {
     "duration": 0.009625,
     "end_time": "2024-07-28T19:28:50.570375",
     "exception": false,
     "start_time": "2024-07-28T19:28:50.560750",
     "status": "completed"
    },
    "tags": []
   },
   "source": [
    "## LabelEncoding"
   ]
  },
  {
   "cell_type": "code",
   "execution_count": 19,
   "id": "4b52b809",
   "metadata": {
    "execution": {
     "iopub.execute_input": "2024-07-28T19:28:50.592173Z",
     "iopub.status.busy": "2024-07-28T19:28:50.591541Z",
     "iopub.status.idle": "2024-07-28T19:28:50.597066Z",
     "shell.execute_reply": "2024-07-28T19:28:50.595975Z"
    },
    "papermill": {
     "duration": 0.019069,
     "end_time": "2024-07-28T19:28:50.599388",
     "exception": false,
     "start_time": "2024-07-28T19:28:50.580319",
     "status": "completed"
    },
    "tags": []
   },
   "outputs": [],
   "source": [
    "label_encoder = LabelEncoder()\n",
    "y_encoded = label_encoder.fit_transform(y)"
   ]
  },
  {
   "cell_type": "code",
   "execution_count": 20,
   "id": "b7cb6cbd",
   "metadata": {
    "execution": {
     "iopub.execute_input": "2024-07-28T19:28:50.621649Z",
     "iopub.status.busy": "2024-07-28T19:28:50.621278Z",
     "iopub.status.idle": "2024-07-28T19:28:50.628274Z",
     "shell.execute_reply": "2024-07-28T19:28:50.627044Z"
    },
    "papermill": {
     "duration": 0.02142,
     "end_time": "2024-07-28T19:28:50.630760",
     "exception": false,
     "start_time": "2024-07-28T19:28:50.609340",
     "status": "completed"
    },
    "tags": []
   },
   "outputs": [],
   "source": [
    "X_train, X_test, y_train, y_test = train_test_split(X, y_encoded, test_size=0.2, random_state=42)\n"
   ]
  },
  {
   "cell_type": "markdown",
   "id": "f93116e9",
   "metadata": {
    "papermill": {
     "duration": 0.010646,
     "end_time": "2024-07-28T19:28:50.651657",
     "exception": false,
     "start_time": "2024-07-28T19:28:50.641011",
     "status": "completed"
    },
    "tags": []
   },
   "source": [
    "## Model Evaluation"
   ]
  },
  {
   "cell_type": "code",
   "execution_count": 21,
   "id": "0bae1aec",
   "metadata": {
    "execution": {
     "iopub.execute_input": "2024-07-28T19:28:50.673972Z",
     "iopub.status.busy": "2024-07-28T19:28:50.673544Z",
     "iopub.status.idle": "2024-07-28T19:28:50.686382Z",
     "shell.execute_reply": "2024-07-28T19:28:50.685267Z"
    },
    "papermill": {
     "duration": 0.026748,
     "end_time": "2024-07-28T19:28:50.688684",
     "exception": false,
     "start_time": "2024-07-28T19:28:50.661936",
     "status": "completed"
    },
    "tags": []
   },
   "outputs": [
    {
     "data": {
      "text/html": [
       "<style>#sk-container-id-1 {color: black;background-color: white;}#sk-container-id-1 pre{padding: 0;}#sk-container-id-1 div.sk-toggleable {background-color: white;}#sk-container-id-1 label.sk-toggleable__label {cursor: pointer;display: block;width: 100%;margin-bottom: 0;padding: 0.3em;box-sizing: border-box;text-align: center;}#sk-container-id-1 label.sk-toggleable__label-arrow:before {content: \"▸\";float: left;margin-right: 0.25em;color: #696969;}#sk-container-id-1 label.sk-toggleable__label-arrow:hover:before {color: black;}#sk-container-id-1 div.sk-estimator:hover label.sk-toggleable__label-arrow:before {color: black;}#sk-container-id-1 div.sk-toggleable__content {max-height: 0;max-width: 0;overflow: hidden;text-align: left;background-color: #f0f8ff;}#sk-container-id-1 div.sk-toggleable__content pre {margin: 0.2em;color: black;border-radius: 0.25em;background-color: #f0f8ff;}#sk-container-id-1 input.sk-toggleable__control:checked~div.sk-toggleable__content {max-height: 200px;max-width: 100%;overflow: auto;}#sk-container-id-1 input.sk-toggleable__control:checked~label.sk-toggleable__label-arrow:before {content: \"▾\";}#sk-container-id-1 div.sk-estimator input.sk-toggleable__control:checked~label.sk-toggleable__label {background-color: #d4ebff;}#sk-container-id-1 div.sk-label input.sk-toggleable__control:checked~label.sk-toggleable__label {background-color: #d4ebff;}#sk-container-id-1 input.sk-hidden--visually {border: 0;clip: rect(1px 1px 1px 1px);clip: rect(1px, 1px, 1px, 1px);height: 1px;margin: -1px;overflow: hidden;padding: 0;position: absolute;width: 1px;}#sk-container-id-1 div.sk-estimator {font-family: monospace;background-color: #f0f8ff;border: 1px dotted black;border-radius: 0.25em;box-sizing: border-box;margin-bottom: 0.5em;}#sk-container-id-1 div.sk-estimator:hover {background-color: #d4ebff;}#sk-container-id-1 div.sk-parallel-item::after {content: \"\";width: 100%;border-bottom: 1px solid gray;flex-grow: 1;}#sk-container-id-1 div.sk-label:hover label.sk-toggleable__label {background-color: #d4ebff;}#sk-container-id-1 div.sk-serial::before {content: \"\";position: absolute;border-left: 1px solid gray;box-sizing: border-box;top: 0;bottom: 0;left: 50%;z-index: 0;}#sk-container-id-1 div.sk-serial {display: flex;flex-direction: column;align-items: center;background-color: white;padding-right: 0.2em;padding-left: 0.2em;position: relative;}#sk-container-id-1 div.sk-item {position: relative;z-index: 1;}#sk-container-id-1 div.sk-parallel {display: flex;align-items: stretch;justify-content: center;background-color: white;position: relative;}#sk-container-id-1 div.sk-item::before, #sk-container-id-1 div.sk-parallel-item::before {content: \"\";position: absolute;border-left: 1px solid gray;box-sizing: border-box;top: 0;bottom: 0;left: 50%;z-index: -1;}#sk-container-id-1 div.sk-parallel-item {display: flex;flex-direction: column;z-index: 1;position: relative;background-color: white;}#sk-container-id-1 div.sk-parallel-item:first-child::after {align-self: flex-end;width: 50%;}#sk-container-id-1 div.sk-parallel-item:last-child::after {align-self: flex-start;width: 50%;}#sk-container-id-1 div.sk-parallel-item:only-child::after {width: 0;}#sk-container-id-1 div.sk-dashed-wrapped {border: 1px dashed gray;margin: 0 0.4em 0.5em 0.4em;box-sizing: border-box;padding-bottom: 0.4em;background-color: white;}#sk-container-id-1 div.sk-label label {font-family: monospace;font-weight: bold;display: inline-block;line-height: 1.2em;}#sk-container-id-1 div.sk-label-container {text-align: center;}#sk-container-id-1 div.sk-container {/* jupyter's `normalize.less` sets `[hidden] { display: none; }` but bootstrap.min.css set `[hidden] { display: none !important; }` so we also need the `!important` here to be able to override the default hidden behavior on the sphinx rendered scikit-learn.org. See: https://github.com/scikit-learn/scikit-learn/issues/21755 */display: inline-block !important;position: relative;}#sk-container-id-1 div.sk-text-repr-fallback {display: none;}</style><div id=\"sk-container-id-1\" class=\"sk-top-container\"><div class=\"sk-text-repr-fallback\"><pre>DecisionTreeClassifier()</pre><b>In a Jupyter environment, please rerun this cell to show the HTML representation or trust the notebook. <br />On GitHub, the HTML representation is unable to render, please try loading this page with nbviewer.org.</b></div><div class=\"sk-container\" hidden><div class=\"sk-item\"><div class=\"sk-estimator sk-toggleable\"><input class=\"sk-toggleable__control sk-hidden--visually\" id=\"sk-estimator-id-1\" type=\"checkbox\" checked><label for=\"sk-estimator-id-1\" class=\"sk-toggleable__label sk-toggleable__label-arrow\">DecisionTreeClassifier</label><div class=\"sk-toggleable__content\"><pre>DecisionTreeClassifier()</pre></div></div></div></div></div>"
      ],
      "text/plain": [
       "DecisionTreeClassifier()"
      ]
     },
     "execution_count": 21,
     "metadata": {},
     "output_type": "execute_result"
    }
   ],
   "source": [
    "model = DecisionTreeClassifier()\n",
    "model.fit(X_train, y_train)"
   ]
  },
  {
   "cell_type": "code",
   "execution_count": 22,
   "id": "5c143d8d",
   "metadata": {
    "execution": {
     "iopub.execute_input": "2024-07-28T19:28:50.710874Z",
     "iopub.status.busy": "2024-07-28T19:28:50.710489Z",
     "iopub.status.idle": "2024-07-28T19:28:50.716091Z",
     "shell.execute_reply": "2024-07-28T19:28:50.714708Z"
    },
    "papermill": {
     "duration": 0.019441,
     "end_time": "2024-07-28T19:28:50.718384",
     "exception": false,
     "start_time": "2024-07-28T19:28:50.698943",
     "status": "completed"
    },
    "tags": []
   },
   "outputs": [],
   "source": [
    "y_pred = model.predict(X_test)"
   ]
  },
  {
   "cell_type": "code",
   "execution_count": 23,
   "id": "6cb32ad2",
   "metadata": {
    "execution": {
     "iopub.execute_input": "2024-07-28T19:28:50.741355Z",
     "iopub.status.busy": "2024-07-28T19:28:50.740279Z",
     "iopub.status.idle": "2024-07-28T19:28:50.748582Z",
     "shell.execute_reply": "2024-07-28T19:28:50.747243Z"
    },
    "papermill": {
     "duration": 0.022116,
     "end_time": "2024-07-28T19:28:50.750741",
     "exception": false,
     "start_time": "2024-07-28T19:28:50.728625",
     "status": "completed"
    },
    "tags": []
   },
   "outputs": [
    {
     "name": "stdout",
     "output_type": "stream",
     "text": [
      "Accuracy: 1.0\n"
     ]
    }
   ],
   "source": [
    "accuracy = accuracy_score(y_test, y_pred)\n",
    "conf_matrix = confusion_matrix(y_test, y_pred)\n",
    "\n",
    "print(f'Accuracy: {accuracy}')"
   ]
  },
  {
   "cell_type": "code",
   "execution_count": 24,
   "id": "fcfa7e02",
   "metadata": {
    "execution": {
     "iopub.execute_input": "2024-07-28T19:28:50.773558Z",
     "iopub.status.busy": "2024-07-28T19:28:50.772719Z",
     "iopub.status.idle": "2024-07-28T19:28:51.061054Z",
     "shell.execute_reply": "2024-07-28T19:28:51.059629Z"
    },
    "papermill": {
     "duration": 0.30238,
     "end_time": "2024-07-28T19:28:51.063664",
     "exception": false,
     "start_time": "2024-07-28T19:28:50.761284",
     "status": "completed"
    },
    "tags": []
   },
   "outputs": [
    {
     "data": {
      "image/png": "[encoded data removed]",
      "text/plain": [
       "<Figure size 640x480 with 2 Axes>"
      ]
     },
     "metadata": {},
     "output_type": "display_data"
    }
   ],
   "source": [
    "sns.heatmap(conf_matrix, annot=True, fmt='d', cmap='Blues',\n",
    "            xticklabels=iris.target_names, yticklabels=iris.target_names)\n",
    "plt.xlabel('Predicted Labels')\n",
    "plt.ylabel('True Labels')\n",
    "plt.title('Confusion Matrix')\n",
    "plt.show()"
   ]
  },
  {
   "cell_type": "code",
   "execution_count": null,
   "id": "618787c3",
   "metadata": {
    "papermill": {
     "duration": 0.010451,
     "end_time": "2024-07-28T19:28:51.085017",
     "exception": false,
     "start_time": "2024-07-28T19:28:51.074566",
     "status": "completed"
    },
    "tags": []
   },
   "outputs": [],
   "source": []
  }
 ],
 "metadata": {
  "kaggle": {
   "accelerator": "none",
   "dataSources": [],
   "dockerImageVersionId": 30732,
   "isGpuEnabled": false,
   "isInternetEnabled": true,
   "language": "python",
   "sourceType": "notebook"
  },
  "kernelspec": {
   "display_name": "Python 3",
   "language": "python",
   "name": "python3"
  },
  "language_info": {
   "codemirror_mode": {
    "name": "ipython",
    "version": 3
   },
   "file_extension": ".py",
   "mimetype": "text/x-python",
   "name": "python",
   "nbconvert_exporter": "python",
   "pygments_lexer": "ipython3",
   "version": "3.10.13"
  },
  "papermill": {
   "default_parameters": {},
   "duration": 8.980581,
   "end_time": "2024-07-28T19:28:51.718154",
   "environment_variables": {},
   "exception": null,
   "input_path": "__notebook__.ipynb",
   "output_path": "__notebook__.ipynb",
   "parameters": {},
   "start_time": "2024-07-28T19:28:42.737573",
   "version": "2.5.0"
  }
 },
 "nbformat": 4,
 "nbformat_minor": 5
}
