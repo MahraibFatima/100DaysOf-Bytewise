{
 "cells": [
  {
   "cell_type": "markdown",
   "id": "ee4454b0",
   "metadata": {
    "papermill": {
     "duration": 0.006492,
     "end_time": "2024-07-12T06:15:39.557150",
     "exception": false,
     "start_time": "2024-07-12T06:15:39.550658",
     "status": "completed"
    },
    "tags": []
   },
   "source": [
    "####  Loading a dataset (e.g., the Boston Housing dataset from Scikit-Learn) and prepare the data for linear regression (e.g., split into training and testing sets).\n"
   ]
  },
  {
   "cell_type": "code",
   "execution_count": 1,
   "id": "df6e2896",
   "metadata": {
    "execution": {
     "iopub.execute_input": "2024-07-12T06:15:39.571442Z",
     "iopub.status.busy": "2024-07-12T06:15:39.570970Z",
     "iopub.status.idle": "2024-07-12T06:15:42.404409Z",
     "shell.execute_reply": "2024-07-12T06:15:42.403080Z"
    },
    "papermill": {
     "duration": 2.843694,
     "end_time": "2024-07-12T06:15:42.407140",
     "exception": false,
     "start_time": "2024-07-12T06:15:39.563446",
     "status": "completed"
    },
    "tags": []
   },
   "outputs": [],
   "source": [
    "import pandas as pd\n",
    "import numpy as np\n",
    "from sklearn.model_selection import train_test_split\n",
    "from sklearn.linear_model import LinearRegression\n",
    "from sklearn.metrics import mean_squared_error\n",
    "from sklearn.metrics import r2_score\n",
    "import matplotlib.pyplot as plt"
   ]
  },
  {
   "cell_type": "code",
   "execution_count": 2,
   "id": "538e7c0e",
   "metadata": {
    "execution": {
     "iopub.execute_input": "2024-07-12T06:15:42.421345Z",
     "iopub.status.busy": "2024-07-12T06:15:42.420750Z",
     "iopub.status.idle": "2024-07-12T06:15:42.435513Z",
     "shell.execute_reply": "2024-07-12T06:15:42.434090Z"
    },
    "papermill": {
     "duration": 0.026599,
     "end_time": "2024-07-12T06:15:42.439885",
     "exception": false,
     "start_time": "2024-07-12T06:15:42.413286",
     "status": "completed"
    },
    "tags": []
   },
   "outputs": [
    {
     "name": "stdout",
     "output_type": "stream",
     "text": [
      "['boston.csv']\n"
     ]
    }
   ],
   "source": [
    "import os\n",
    "\n",
    "directory_path = '/kaggle/input/boston'\n",
    "files = os.listdir(directory_path)\n",
    "print(files)\n"
   ]
  },
  {
   "cell_type": "code",
   "execution_count": 3,
   "id": "49307de2",
   "metadata": {
    "execution": {
     "iopub.execute_input": "2024-07-12T06:15:42.455197Z",
     "iopub.status.busy": "2024-07-12T06:15:42.454788Z",
     "iopub.status.idle": "2024-07-12T06:15:42.496760Z",
     "shell.execute_reply": "2024-07-12T06:15:42.495298Z"
    },
    "papermill": {
     "duration": 0.052844,
     "end_time": "2024-07-12T06:15:42.499833",
     "exception": false,
     "start_time": "2024-07-12T06:15:42.446989",
     "status": "completed"
    },
    "tags": []
   },
   "outputs": [
    {
     "name": "stdout",
     "output_type": "stream",
     "text": [
      "Shape of X_train: (404, 13)\n",
      "Shape of y_train: (404, 1)\n",
      "Shape of X_test: (102, 13)\n",
      "Shape of y_test: (102, 1)\n"
     ]
    }
   ],
   "source": [
    "data_house = pd.read_csv('/kaggle/input/boston/boston.csv')\n",
    "data  = pd.DataFrame(data_house,  columns=data_house.columns)\n",
    "\n",
    "X  = data.drop('MEDV', axis=1)\n",
    "y = data['MEDV'].values.reshape(-1, 1)  \n",
    "\n",
    "X_train , X_test , y_train , y_test = train_test_split(X,y, test_size=0.2, random_state=42)\n",
    "\n",
    "print(\"Shape of X_train:\", X_train.shape)\n",
    "print(\"Shape of y_train:\", y_train.shape)\n",
    "print(\"Shape of X_test:\", X_test.shape)\n",
    "print(\"Shape of y_test:\", y_test.shape)"
   ]
  },
  {
   "cell_type": "code",
   "execution_count": 4,
   "id": "72a8783e",
   "metadata": {
    "execution": {
     "iopub.execute_input": "2024-07-12T06:15:42.514291Z",
     "iopub.status.busy": "2024-07-12T06:15:42.513875Z",
     "iopub.status.idle": "2024-07-12T06:15:42.547250Z",
     "shell.execute_reply": "2024-07-12T06:15:42.545885Z"
    },
    "papermill": {
     "duration": 0.044003,
     "end_time": "2024-07-12T06:15:42.550149",
     "exception": false,
     "start_time": "2024-07-12T06:15:42.506146",
     "status": "completed"
    },
    "tags": []
   },
   "outputs": [
    {
     "data": {
      "text/html": [
       "<div>\n",
       "<style scoped>\n",
       "    .dataframe tbody tr th:only-of-type {\n",
       "        vertical-align: middle;\n",
       "    }\n",
       "\n",
       "    .dataframe tbody tr th {\n",
       "        vertical-align: top;\n",
       "    }\n",
       "\n",
       "    .dataframe thead th {\n",
       "        text-align: right;\n",
       "    }\n",
       "</style>\n",
       "<table border=\"1\" class=\"dataframe\">\n",
       "  <thead>\n",
       "    <tr style=\"text-align: right;\">\n",
       "      <th></th>\n",
       "      <th>CRIM</th>\n",
       "      <th>ZN</th>\n",
       "      <th>INDUS</th>\n",
       "      <th>CHAS</th>\n",
       "      <th>NOX</th>\n",
       "      <th>RM</th>\n",
       "      <th>AGE</th>\n",
       "      <th>DIS</th>\n",
       "      <th>RAD</th>\n",
       "      <th>TAX</th>\n",
       "      <th>PTRATIO</th>\n",
       "      <th>B</th>\n",
       "      <th>LSTAT</th>\n",
       "      <th>MEDV</th>\n",
       "    </tr>\n",
       "  </thead>\n",
       "  <tbody>\n",
       "    <tr>\n",
       "      <th>0</th>\n",
       "      <td>0.00632</td>\n",
       "      <td>18.0</td>\n",
       "      <td>2.31</td>\n",
       "      <td>0</td>\n",
       "      <td>0.538</td>\n",
       "      <td>6.575</td>\n",
       "      <td>65.2</td>\n",
       "      <td>4.0900</td>\n",
       "      <td>1</td>\n",
       "      <td>296.0</td>\n",
       "      <td>15.3</td>\n",
       "      <td>396.90</td>\n",
       "      <td>4.98</td>\n",
       "      <td>24.0</td>\n",
       "    </tr>\n",
       "    <tr>\n",
       "      <th>1</th>\n",
       "      <td>0.02731</td>\n",
       "      <td>0.0</td>\n",
       "      <td>7.07</td>\n",
       "      <td>0</td>\n",
       "      <td>0.469</td>\n",
       "      <td>6.421</td>\n",
       "      <td>78.9</td>\n",
       "      <td>4.9671</td>\n",
       "      <td>2</td>\n",
       "      <td>242.0</td>\n",
       "      <td>17.8</td>\n",
       "      <td>396.90</td>\n",
       "      <td>9.14</td>\n",
       "      <td>21.6</td>\n",
       "    </tr>\n",
       "    <tr>\n",
       "      <th>2</th>\n",
       "      <td>0.02729</td>\n",
       "      <td>0.0</td>\n",
       "      <td>7.07</td>\n",
       "      <td>0</td>\n",
       "      <td>0.469</td>\n",
       "      <td>7.185</td>\n",
       "      <td>61.1</td>\n",
       "      <td>4.9671</td>\n",
       "      <td>2</td>\n",
       "      <td>242.0</td>\n",
       "      <td>17.8</td>\n",
       "      <td>392.83</td>\n",
       "      <td>4.03</td>\n",
       "      <td>34.7</td>\n",
       "    </tr>\n",
       "    <tr>\n",
       "      <th>3</th>\n",
       "      <td>0.03237</td>\n",
       "      <td>0.0</td>\n",
       "      <td>2.18</td>\n",
       "      <td>0</td>\n",
       "      <td>0.458</td>\n",
       "      <td>6.998</td>\n",
       "      <td>45.8</td>\n",
       "      <td>6.0622</td>\n",
       "      <td>3</td>\n",
       "      <td>222.0</td>\n",
       "      <td>18.7</td>\n",
       "      <td>394.63</td>\n",
       "      <td>2.94</td>\n",
       "      <td>33.4</td>\n",
       "    </tr>\n",
       "    <tr>\n",
       "      <th>4</th>\n",
       "      <td>0.06905</td>\n",
       "      <td>0.0</td>\n",
       "      <td>2.18</td>\n",
       "      <td>0</td>\n",
       "      <td>0.458</td>\n",
       "      <td>7.147</td>\n",
       "      <td>54.2</td>\n",
       "      <td>6.0622</td>\n",
       "      <td>3</td>\n",
       "      <td>222.0</td>\n",
       "      <td>18.7</td>\n",
       "      <td>396.90</td>\n",
       "      <td>5.33</td>\n",
       "      <td>36.2</td>\n",
       "    </tr>\n",
       "  </tbody>\n",
       "</table>\n",
       "</div>"
      ],
      "text/plain": [
       "      CRIM    ZN  INDUS  CHAS    NOX     RM   AGE     DIS  RAD    TAX  \\\n",
       "0  0.00632  18.0   2.31     0  0.538  6.575  65.2  4.0900    1  296.0   \n",
       "1  0.02731   0.0   7.07     0  0.469  6.421  78.9  4.9671    2  242.0   \n",
       "2  0.02729   0.0   7.07     0  0.469  7.185  61.1  4.9671    2  242.0   \n",
       "3  0.03237   0.0   2.18     0  0.458  6.998  45.8  6.0622    3  222.0   \n",
       "4  0.06905   0.0   2.18     0  0.458  7.147  54.2  6.0622    3  222.0   \n",
       "\n",
       "   PTRATIO       B  LSTAT  MEDV  \n",
       "0     15.3  396.90   4.98  24.0  \n",
       "1     17.8  396.90   9.14  21.6  \n",
       "2     17.8  392.83   4.03  34.7  \n",
       "3     18.7  394.63   2.94  33.4  \n",
       "4     18.7  396.90   5.33  36.2  "
      ]
     },
     "execution_count": 4,
     "metadata": {},
     "output_type": "execute_result"
    }
   ],
   "source": [
    "data.head()"
   ]
  },
  {
   "cell_type": "markdown",
   "id": "c98c70ca",
   "metadata": {
    "papermill": {
     "duration": 0.006874,
     "end_time": "2024-07-12T06:15:42.563926",
     "exception": false,
     "start_time": "2024-07-12T06:15:42.557052",
     "status": "completed"
    },
    "tags": []
   },
   "source": [
    "#### Implementing linear regression using Scikit-Learn. Fit the model to the training data.\n"
   ]
  },
  {
   "cell_type": "code",
   "execution_count": 5,
   "id": "2062dfc3",
   "metadata": {
    "execution": {
     "iopub.execute_input": "2024-07-12T06:15:42.579167Z",
     "iopub.status.busy": "2024-07-12T06:15:42.578778Z",
     "iopub.status.idle": "2024-07-12T06:15:42.614591Z",
     "shell.execute_reply": "2024-07-12T06:15:42.613394Z"
    },
    "papermill": {
     "duration": 0.046673,
     "end_time": "2024-07-12T06:15:42.617464",
     "exception": false,
     "start_time": "2024-07-12T06:15:42.570791",
     "status": "completed"
    },
    "tags": []
   },
   "outputs": [
    {
     "data": {
      "text/html": [
       "<style>#sk-container-id-1 {color: black;background-color: white;}#sk-container-id-1 pre{padding: 0;}#sk-container-id-1 div.sk-toggleable {background-color: white;}#sk-container-id-1 label.sk-toggleable__label {cursor: pointer;display: block;width: 100%;margin-bottom: 0;padding: 0.3em;box-sizing: border-box;text-align: center;}#sk-container-id-1 label.sk-toggleable__label-arrow:before {content: \"▸\";float: left;margin-right: 0.25em;color: #696969;}#sk-container-id-1 label.sk-toggleable__label-arrow:hover:before {color: black;}#sk-container-id-1 div.sk-estimator:hover label.sk-toggleable__label-arrow:before {color: black;}#sk-container-id-1 div.sk-toggleable__content {max-height: 0;max-width: 0;overflow: hidden;text-align: left;background-color: #f0f8ff;}#sk-container-id-1 div.sk-toggleable__content pre {margin: 0.2em;color: black;border-radius: 0.25em;background-color: #f0f8ff;}#sk-container-id-1 input.sk-toggleable__control:checked~div.sk-toggleable__content {max-height: 200px;max-width: 100%;overflow: auto;}#sk-container-id-1 input.sk-toggleable__control:checked~label.sk-toggleable__label-arrow:before {content: \"▾\";}#sk-container-id-1 div.sk-estimator input.sk-toggleable__control:checked~label.sk-toggleable__label {background-color: #d4ebff;}#sk-container-id-1 div.sk-label input.sk-toggleable__control:checked~label.sk-toggleable__label {background-color: #d4ebff;}#sk-container-id-1 input.sk-hidden--visually {border: 0;clip: rect(1px 1px 1px 1px);clip: rect(1px, 1px, 1px, 1px);height: 1px;margin: -1px;overflow: hidden;padding: 0;position: absolute;width: 1px;}#sk-container-id-1 div.sk-estimator {font-family: monospace;background-color: #f0f8ff;border: 1px dotted black;border-radius: 0.25em;box-sizing: border-box;margin-bottom: 0.5em;}#sk-container-id-1 div.sk-estimator:hover {background-color: #d4ebff;}#sk-container-id-1 div.sk-parallel-item::after {content: \"\";width: 100%;border-bottom: 1px solid gray;flex-grow: 1;}#sk-container-id-1 div.sk-label:hover label.sk-toggleable__label {background-color: #d4ebff;}#sk-container-id-1 div.sk-serial::before {content: \"\";position: absolute;border-left: 1px solid gray;box-sizing: border-box;top: 0;bottom: 0;left: 50%;z-index: 0;}#sk-container-id-1 div.sk-serial {display: flex;flex-direction: column;align-items: center;background-color: white;padding-right: 0.2em;padding-left: 0.2em;position: relative;}#sk-container-id-1 div.sk-item {position: relative;z-index: 1;}#sk-container-id-1 div.sk-parallel {display: flex;align-items: stretch;justify-content: center;background-color: white;position: relative;}#sk-container-id-1 div.sk-item::before, #sk-container-id-1 div.sk-parallel-item::before {content: \"\";position: absolute;border-left: 1px solid gray;box-sizing: border-box;top: 0;bottom: 0;left: 50%;z-index: -1;}#sk-container-id-1 div.sk-parallel-item {display: flex;flex-direction: column;z-index: 1;position: relative;background-color: white;}#sk-container-id-1 div.sk-parallel-item:first-child::after {align-self: flex-end;width: 50%;}#sk-container-id-1 div.sk-parallel-item:last-child::after {align-self: flex-start;width: 50%;}#sk-container-id-1 div.sk-parallel-item:only-child::after {width: 0;}#sk-container-id-1 div.sk-dashed-wrapped {border: 1px dashed gray;margin: 0 0.4em 0.5em 0.4em;box-sizing: border-box;padding-bottom: 0.4em;background-color: white;}#sk-container-id-1 div.sk-label label {font-family: monospace;font-weight: bold;display: inline-block;line-height: 1.2em;}#sk-container-id-1 div.sk-label-container {text-align: center;}#sk-container-id-1 div.sk-container {/* jupyter's `normalize.less` sets `[hidden] { display: none; }` but bootstrap.min.css set `[hidden] { display: none !important; }` so we also need the `!important` here to be able to override the default hidden behavior on the sphinx rendered scikit-learn.org. See: https://github.com/scikit-learn/scikit-learn/issues/21755 */display: inline-block !important;position: relative;}#sk-container-id-1 div.sk-text-repr-fallback {display: none;}</style><div id=\"sk-container-id-1\" class=\"sk-top-container\"><div class=\"sk-text-repr-fallback\"><pre>LinearRegression()</pre><b>In a Jupyter environment, please rerun this cell to show the HTML representation or trust the notebook. <br />On GitHub, the HTML representation is unable to render, please try loading this page with nbviewer.org.</b></div><div class=\"sk-container\" hidden><div class=\"sk-item\"><div class=\"sk-estimator sk-toggleable\"><input class=\"sk-toggleable__control sk-hidden--visually\" id=\"sk-estimator-id-1\" type=\"checkbox\" checked><label for=\"sk-estimator-id-1\" class=\"sk-toggleable__label sk-toggleable__label-arrow\">LinearRegression</label><div class=\"sk-toggleable__content\"><pre>LinearRegression()</pre></div></div></div></div></div>"
      ],
      "text/plain": [
       "LinearRegression()"
      ]
     },
     "execution_count": 5,
     "metadata": {},
     "output_type": "execute_result"
    }
   ],
   "source": [
    "model = LinearRegression()\n",
    "model.fit(X_train, y_train)"
   ]
  },
  {
   "cell_type": "markdown",
   "id": "5075752d",
   "metadata": {
    "papermill": {
     "duration": 0.007076,
     "end_time": "2024-07-12T06:15:42.631709",
     "exception": false,
     "start_time": "2024-07-12T06:15:42.624633",
     "status": "completed"
    },
    "tags": []
   },
   "source": [
    "####  Predicting the target variable for the test set using the fitted linear regression model.\n"
   ]
  },
  {
   "cell_type": "code",
   "execution_count": 6,
   "id": "96b324d6",
   "metadata": {
    "execution": {
     "iopub.execute_input": "2024-07-12T06:15:42.648277Z",
     "iopub.status.busy": "2024-07-12T06:15:42.647891Z",
     "iopub.status.idle": "2024-07-12T06:15:42.660446Z",
     "shell.execute_reply": "2024-07-12T06:15:42.659251Z"
    },
    "papermill": {
     "duration": 0.023969,
     "end_time": "2024-07-12T06:15:42.663111",
     "exception": false,
     "start_time": "2024-07-12T06:15:42.639142",
     "status": "completed"
    },
    "tags": []
   },
   "outputs": [
    {
     "data": {
      "text/plain": [
       "array([[28.99672362],\n",
       "       [36.02556534],\n",
       "       [14.81694405],\n",
       "       [25.03197915],\n",
       "       [18.76987992],\n",
       "       [23.25442929],\n",
       "       [17.66253818],\n",
       "       [14.34119   ],\n",
       "       [23.01320703],\n",
       "       [20.63245597],\n",
       "       [24.90850512],\n",
       "       [18.63883645],\n",
       "       [-6.08842184],\n",
       "       [21.75834668],\n",
       "       [19.23922576],\n",
       "       [26.19319733],\n",
       "       [20.64773313],\n",
       "       [ 5.79472718],\n",
       "       [40.50033966],\n",
       "       [17.61289074],\n",
       "       [27.24909479],\n",
       "       [30.06625441],\n",
       "       [11.34179277],\n",
       "       [24.16077616],\n",
       "       [17.86058499],\n",
       "       [15.83609765],\n",
       "       [22.78148106],\n",
       "       [14.57704449],\n",
       "       [22.43626052],\n",
       "       [19.19631835],\n",
       "       [22.43383455],\n",
       "       [25.21979081],\n",
       "       [25.93909562],\n",
       "       [17.70162434],\n",
       "       [16.76911711],\n",
       "       [16.95125411],\n",
       "       [31.23340153],\n",
       "       [20.13246729],\n",
       "       [23.76579011],\n",
       "       [24.6322925 ],\n",
       "       [13.94204955],\n",
       "       [32.25576301],\n",
       "       [42.67251161],\n",
       "       [17.32745046],\n",
       "       [27.27618614],\n",
       "       [16.99310991],\n",
       "       [14.07009109],\n",
       "       [25.90341861],\n",
       "       [20.29485982],\n",
       "       [29.95339638],\n",
       "       [21.28860173],\n",
       "       [34.34451856],\n",
       "       [16.04739105],\n",
       "       [26.22562412],\n",
       "       [39.53939798],\n",
       "       [22.57950697],\n",
       "       [18.84531367],\n",
       "       [32.72531661],\n",
       "       [25.0673037 ],\n",
       "       [12.88628956],\n",
       "       [22.68221908],\n",
       "       [30.48287757],\n",
       "       [31.52626806],\n",
       "       [15.90148607],\n",
       "       [20.22094826],\n",
       "       [16.71089812],\n",
       "       [20.52384893],\n",
       "       [25.96356264],\n",
       "       [30.61607978],\n",
       "       [11.59783023],\n",
       "       [20.51232627],\n",
       "       [27.48111878],\n",
       "       [11.01962332],\n",
       "       [15.68096344],\n",
       "       [23.79316251],\n",
       "       [ 6.19929359],\n",
       "       [21.6039073 ],\n",
       "       [41.41377225],\n",
       "       [18.76548695],\n",
       "       [ 8.87931901],\n",
       "       [20.83076916],\n",
       "       [13.25620627],\n",
       "       [20.73963699],\n",
       "       [ 9.36482222],\n",
       "       [23.22444271],\n",
       "       [31.9155003 ],\n",
       "       [19.10228271],\n",
       "       [25.51579303],\n",
       "       [29.04256769],\n",
       "       [20.14358566],\n",
       "       [25.5859787 ],\n",
       "       [ 5.70159447],\n",
       "       [20.09474756],\n",
       "       [14.95069156],\n",
       "       [12.50395648],\n",
       "       [20.72635294],\n",
       "       [24.73957161],\n",
       "       [-0.164237  ],\n",
       "       [13.68486682],\n",
       "       [16.18359697],\n",
       "       [22.27621999],\n",
       "       [24.47902364]])"
      ]
     },
     "execution_count": 6,
     "metadata": {},
     "output_type": "execute_result"
    }
   ],
   "source": [
    "predicted_prices = model.predict(X_test)\n",
    "predicted_prices"
   ]
  },
  {
   "cell_type": "markdown",
   "id": "c58f862b",
   "metadata": {
    "papermill": {
     "duration": 0.007429,
     "end_time": "2024-07-12T06:15:42.677860",
     "exception": false,
     "start_time": "2024-07-12T06:15:42.670431",
     "status": "completed"
    },
    "tags": []
   },
   "source": [
    "#### Calculating the Mean Squared Error (MSE) of the linear regression model on the test set.\n"
   ]
  },
  {
   "cell_type": "code",
   "execution_count": 7,
   "id": "feff0666",
   "metadata": {
    "execution": {
     "iopub.execute_input": "2024-07-12T06:15:42.694179Z",
     "iopub.status.busy": "2024-07-12T06:15:42.693767Z",
     "iopub.status.idle": "2024-07-12T06:15:42.702715Z",
     "shell.execute_reply": "2024-07-12T06:15:42.701373Z"
    },
    "papermill": {
     "duration": 0.020388,
     "end_time": "2024-07-12T06:15:42.705509",
     "exception": false,
     "start_time": "2024-07-12T06:15:42.685121",
     "status": "completed"
    },
    "tags": []
   },
   "outputs": [
    {
     "data": {
      "text/plain": [
       "24.291119474973478"
      ]
     },
     "execution_count": 7,
     "metadata": {},
     "output_type": "execute_result"
    }
   ],
   "source": [
    "Mse  = mean_squared_error(y_test,predicted_prices)\n",
    "Mse"
   ]
  },
  {
   "cell_type": "markdown",
   "id": "b0c245cf",
   "metadata": {
    "papermill": {
     "duration": 0.006983,
     "end_time": "2024-07-12T06:15:42.720733",
     "exception": false,
     "start_time": "2024-07-12T06:15:42.713750",
     "status": "completed"
    },
    "tags": []
   },
   "source": [
    "####  Calculating the R-squared value of the linear regression model on the test set.\n"
   ]
  },
  {
   "cell_type": "code",
   "execution_count": 8,
   "id": "e89cf3fe",
   "metadata": {
    "execution": {
     "iopub.execute_input": "2024-07-12T06:15:42.737475Z",
     "iopub.status.busy": "2024-07-12T06:15:42.737033Z",
     "iopub.status.idle": "2024-07-12T06:15:42.746812Z",
     "shell.execute_reply": "2024-07-12T06:15:42.745496Z"
    },
    "papermill": {
     "duration": 0.021658,
     "end_time": "2024-07-12T06:15:42.749730",
     "exception": false,
     "start_time": "2024-07-12T06:15:42.728072",
     "status": "completed"
    },
    "tags": []
   },
   "outputs": [
    {
     "data": {
      "text/plain": [
       "0.6687594935356326"
      ]
     },
     "execution_count": 8,
     "metadata": {},
     "output_type": "execute_result"
    }
   ],
   "source": [
    "r2_Score = r2_score(y_test,predicted_prices)\n",
    "r2_Score"
   ]
  },
  {
   "cell_type": "markdown",
   "id": "e8f30296",
   "metadata": {
    "papermill": {
     "duration": 0.00724,
     "end_time": "2024-07-12T06:15:42.765111",
     "exception": false,
     "start_time": "2024-07-12T06:15:42.757871",
     "status": "completed"
    },
    "tags": []
   },
   "source": [
    "#### Plotting the regression line along with the actual data points to visually assess the model's performance."
   ]
  },
  {
   "cell_type": "code",
   "execution_count": 9,
   "id": "20d568e1",
   "metadata": {
    "execution": {
     "iopub.execute_input": "2024-07-12T06:15:42.783077Z",
     "iopub.status.busy": "2024-07-12T06:15:42.782648Z",
     "iopub.status.idle": "2024-07-12T06:15:43.283785Z",
     "shell.execute_reply": "2024-07-12T06:15:43.282644Z"
    },
    "papermill": {
     "duration": 0.513894,
     "end_time": "2024-07-12T06:15:43.286440",
     "exception": false,
     "start_time": "2024-07-12T06:15:42.772546",
     "status": "completed"
    },
    "tags": []
   },
   "outputs": [
    {
     "data": {
      "image/png": "[encoded data removed]",
      "text/plain": [
       "<Figure size 640x480 with 1 Axes>"
      ]
     },
     "metadata": {},
     "output_type": "display_data"
    }
   ],
   "source": [
    "predicted_prices = model.predict(X_test)\n",
    "\n",
    "plt.scatter(y_test, predicted_prices, color='blue', label='Predicted vs Actual')\n",
    "plt.plot(y_test, y_test, color='red', linewidth=2, label='Perfect Prediction')\n",
    "plt.xlabel('Actual Prices (MEDV)')\n",
    "plt.ylabel('Predicted Prices (MEDV)')\n",
    "plt.title('Boston House Price Prediction')\n",
    "plt.legend()\n",
    "plt.show()\n"
   ]
  },
  {
   "cell_type": "markdown",
   "id": "d5324b4e",
   "metadata": {
    "papermill": {
     "duration": 0.008199,
     "end_time": "2024-07-12T06:15:43.302831",
     "exception": false,
     "start_time": "2024-07-12T06:15:43.294632",
     "status": "completed"
    },
    "tags": []
   },
   "source": [
    "#### Evaluating the model's performance by comparing the predicted values with the actual values. Create a scatter plot of the predicted vs. actual values.\n"
   ]
  },
  {
   "cell_type": "code",
   "execution_count": 10,
   "id": "e6e4acba",
   "metadata": {
    "execution": {
     "iopub.execute_input": "2024-07-12T06:15:43.321137Z",
     "iopub.status.busy": "2024-07-12T06:15:43.320723Z",
     "iopub.status.idle": "2024-07-12T06:15:43.700401Z",
     "shell.execute_reply": "2024-07-12T06:15:43.698869Z"
    },
    "papermill": {
     "duration": 0.392355,
     "end_time": "2024-07-12T06:15:43.703543",
     "exception": false,
     "start_time": "2024-07-12T06:15:43.311188",
     "status": "completed"
    },
    "tags": []
   },
   "outputs": [
    {
     "name": "stdout",
     "output_type": "stream",
     "text": [
      "Mean Squared Error (MSE): 24.291119474973478\n",
      "R-squared (R²) value: 0.6687594935356326\n"
     ]
    },
    {
     "data": {
      "image/png": "[encoded data removed]",
      "text/plain": [
       "<Figure size 640x480 with 1 Axes>"
      ]
     },
     "metadata": {},
     "output_type": "display_data"
    }
   ],
   "source": [
    "mse = mean_squared_error(y_test, predicted_prices)\n",
    "print(f\"Mean Squared Error (MSE): {mse}\")\n",
    "\n",
    "\n",
    "r2 = r2_score(y_test, predicted_prices)\n",
    "print(f\"R-squared (R²) value: {r2}\")\n",
    "\n",
    "\n",
    "plt.scatter(y_test, predicted_prices, color='blue', label='Actual vs Predicted')\n",
    "plt.plot(y_test, y_test, color='red', linewidth=2, label='Perfect Prediction')\n",
    "plt.xlabel('Actual Prices')\n",
    "plt.ylabel('Predicted Prices')\n",
    "plt.title('Actual vs. Predicted Prices')\n",
    "plt.legend()\n",
    "plt.show()\n",
    "\n",
    "\n"
   ]
  },
  {
   "cell_type": "code",
   "execution_count": null,
   "id": "5c5c6fdd",
   "metadata": {
    "papermill": {
     "duration": 0.009259,
     "end_time": "2024-07-12T06:15:43.721796",
     "exception": false,
     "start_time": "2024-07-12T06:15:43.712537",
     "status": "completed"
    },
    "tags": []
   },
   "outputs": [],
   "source": []
  }
 ],
 "metadata": {
  "kaggle": {
   "accelerator": "none",
   "dataSources": [
    {
     "datasetId": 5375948,
     "sourceId": 8935739,
     "sourceType": "datasetVersion"
    }
   ],
   "dockerImageVersionId": 30746,
   "isGpuEnabled": false,
   "isInternetEnabled": true,
   "language": "python",
   "sourceType": "notebook"
  },
  "kernelspec": {
   "display_name": "Python 3",
   "language": "python",
   "name": "python3"
  },
  "language_info": {
   "codemirror_mode": {
    "name": "ipython",
    "version": 3
   },
   "file_extension": ".py",
   "mimetype": "text/x-python",
   "name": "python",
   "nbconvert_exporter": "python",
   "pygments_lexer": "ipython3",
   "version": "3.10.13"
  },
  "papermill": {
   "default_parameters": {},
   "duration": 8.173025,
   "end_time": "2024-07-12T06:15:44.356222",
   "environment_variables": {},
   "exception": null,
   "input_path": "__notebook__.ipynb",
   "output_path": "__notebook__.ipynb",
   "parameters": {},
   "start_time": "2024-07-12T06:15:36.183197",
   "version": "2.5.0"
  }
 },
 "nbformat": 4,
 "nbformat_minor": 5
}
