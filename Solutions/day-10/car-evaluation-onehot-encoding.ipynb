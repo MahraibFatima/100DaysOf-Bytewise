{
 "cells": [
  {
   "cell_type": "code",
   "execution_count": 1,
   "id": "a4665882",
   "metadata": {
    "_cell_guid": "b1076dfc-b9ad-4769-8c92-a6c4dae69d19",
    "_uuid": "8f2839f25d086af736a60e9eeb907d3b93b6e0e5",
    "execution": {
     "iopub.execute_input": "2024-07-28T06:06:30.655395Z",
     "iopub.status.busy": "2024-07-28T06:06:30.654154Z",
     "iopub.status.idle": "2024-07-28T06:06:31.495659Z",
     "shell.execute_reply": "2024-07-28T06:06:31.494153Z"
    },
    "papermill": {
     "duration": 0.851726,
     "end_time": "2024-07-28T06:06:31.498048",
     "exception": false,
     "start_time": "2024-07-28T06:06:30.646322",
     "status": "completed"
    },
    "tags": []
   },
   "outputs": [
    {
     "name": "stdout",
     "output_type": "stream",
     "text": [
      "/kaggle/input/car-evaluation-data-set/car_evaluation.csv\n"
     ]
    }
   ],
   "source": [
    "import numpy as np \n",
    "import pandas as pd \n",
    "\n",
    "import os\n",
    "for dirname, _, filenames in os.walk('/kaggle/input'):\n",
    "    for filename in filenames:\n",
    "        print(os.path.join(dirname, filename))\n"
   ]
  },
  {
   "cell_type": "code",
   "execution_count": 2,
   "id": "0f4051c1",
   "metadata": {
    "execution": {
     "iopub.execute_input": "2024-07-28T06:06:31.511771Z",
     "iopub.status.busy": "2024-07-28T06:06:31.511272Z",
     "iopub.status.idle": "2024-07-28T06:06:31.536607Z",
     "shell.execute_reply": "2024-07-28T06:06:31.535503Z"
    },
    "papermill": {
     "duration": 0.034777,
     "end_time": "2024-07-28T06:06:31.539126",
     "exception": false,
     "start_time": "2024-07-28T06:06:31.504349",
     "status": "completed"
    },
    "tags": []
   },
   "outputs": [],
   "source": [
    "df = pd.read_csv('/kaggle/input/car-evaluation-data-set/car_evaluation.csv')"
   ]
  },
  {
   "cell_type": "code",
   "execution_count": 3,
   "id": "db5cf88a",
   "metadata": {
    "execution": {
     "iopub.execute_input": "2024-07-28T06:06:31.552635Z",
     "iopub.status.busy": "2024-07-28T06:06:31.551866Z",
     "iopub.status.idle": "2024-07-28T06:06:31.575763Z",
     "shell.execute_reply": "2024-07-28T06:06:31.574503Z"
    },
    "papermill": {
     "duration": 0.033333,
     "end_time": "2024-07-28T06:06:31.578204",
     "exception": false,
     "start_time": "2024-07-28T06:06:31.544871",
     "status": "completed"
    },
    "tags": []
   },
   "outputs": [
    {
     "data": {
      "text/html": [
       "<div>\n",
       "<style scoped>\n",
       "    .dataframe tbody tr th:only-of-type {\n",
       "        vertical-align: middle;\n",
       "    }\n",
       "\n",
       "    .dataframe tbody tr th {\n",
       "        vertical-align: top;\n",
       "    }\n",
       "\n",
       "    .dataframe thead th {\n",
       "        text-align: right;\n",
       "    }\n",
       "</style>\n",
       "<table border=\"1\" class=\"dataframe\">\n",
       "  <thead>\n",
       "    <tr style=\"text-align: right;\">\n",
       "      <th></th>\n",
       "      <th>vhigh</th>\n",
       "      <th>vhigh.1</th>\n",
       "      <th>2</th>\n",
       "      <th>2.1</th>\n",
       "      <th>small</th>\n",
       "      <th>low</th>\n",
       "      <th>unacc</th>\n",
       "    </tr>\n",
       "  </thead>\n",
       "  <tbody>\n",
       "    <tr>\n",
       "      <th>0</th>\n",
       "      <td>vhigh</td>\n",
       "      <td>vhigh</td>\n",
       "      <td>2</td>\n",
       "      <td>2</td>\n",
       "      <td>small</td>\n",
       "      <td>med</td>\n",
       "      <td>unacc</td>\n",
       "    </tr>\n",
       "    <tr>\n",
       "      <th>1</th>\n",
       "      <td>vhigh</td>\n",
       "      <td>vhigh</td>\n",
       "      <td>2</td>\n",
       "      <td>2</td>\n",
       "      <td>small</td>\n",
       "      <td>high</td>\n",
       "      <td>unacc</td>\n",
       "    </tr>\n",
       "    <tr>\n",
       "      <th>2</th>\n",
       "      <td>vhigh</td>\n",
       "      <td>vhigh</td>\n",
       "      <td>2</td>\n",
       "      <td>2</td>\n",
       "      <td>med</td>\n",
       "      <td>low</td>\n",
       "      <td>unacc</td>\n",
       "    </tr>\n",
       "    <tr>\n",
       "      <th>3</th>\n",
       "      <td>vhigh</td>\n",
       "      <td>vhigh</td>\n",
       "      <td>2</td>\n",
       "      <td>2</td>\n",
       "      <td>med</td>\n",
       "      <td>med</td>\n",
       "      <td>unacc</td>\n",
       "    </tr>\n",
       "    <tr>\n",
       "      <th>4</th>\n",
       "      <td>vhigh</td>\n",
       "      <td>vhigh</td>\n",
       "      <td>2</td>\n",
       "      <td>2</td>\n",
       "      <td>med</td>\n",
       "      <td>high</td>\n",
       "      <td>unacc</td>\n",
       "    </tr>\n",
       "  </tbody>\n",
       "</table>\n",
       "</div>"
      ],
      "text/plain": [
       "   vhigh vhigh.1  2 2.1  small   low  unacc\n",
       "0  vhigh   vhigh  2   2  small   med  unacc\n",
       "1  vhigh   vhigh  2   2  small  high  unacc\n",
       "2  vhigh   vhigh  2   2    med   low  unacc\n",
       "3  vhigh   vhigh  2   2    med   med  unacc\n",
       "4  vhigh   vhigh  2   2    med  high  unacc"
      ]
     },
     "execution_count": 3,
     "metadata": {},
     "output_type": "execute_result"
    }
   ],
   "source": [
    "df.head()"
   ]
  },
  {
   "cell_type": "code",
   "execution_count": 4,
   "id": "8975fa23",
   "metadata": {
    "execution": {
     "iopub.execute_input": "2024-07-28T06:06:31.592335Z",
     "iopub.status.busy": "2024-07-28T06:06:31.591539Z",
     "iopub.status.idle": "2024-07-28T06:06:31.610915Z",
     "shell.execute_reply": "2024-07-28T06:06:31.609593Z"
    },
    "papermill": {
     "duration": 0.029923,
     "end_time": "2024-07-28T06:06:31.614194",
     "exception": false,
     "start_time": "2024-07-28T06:06:31.584271",
     "status": "completed"
    },
    "tags": []
   },
   "outputs": [
    {
     "data": {
      "text/html": [
       "<div>\n",
       "<style scoped>\n",
       "    .dataframe tbody tr th:only-of-type {\n",
       "        vertical-align: middle;\n",
       "    }\n",
       "\n",
       "    .dataframe tbody tr th {\n",
       "        vertical-align: top;\n",
       "    }\n",
       "\n",
       "    .dataframe thead th {\n",
       "        text-align: right;\n",
       "    }\n",
       "</style>\n",
       "<table border=\"1\" class=\"dataframe\">\n",
       "  <thead>\n",
       "    <tr style=\"text-align: right;\">\n",
       "      <th></th>\n",
       "      <th>vhigh</th>\n",
       "      <th>vhigh.1</th>\n",
       "      <th>2</th>\n",
       "      <th>2.1</th>\n",
       "      <th>small</th>\n",
       "      <th>low</th>\n",
       "      <th>unacc</th>\n",
       "    </tr>\n",
       "  </thead>\n",
       "  <tbody>\n",
       "    <tr>\n",
       "      <th>142</th>\n",
       "      <td>vhigh</td>\n",
       "      <td>high</td>\n",
       "      <td>3</td>\n",
       "      <td>2</td>\n",
       "      <td>big</td>\n",
       "      <td>high</td>\n",
       "      <td>unacc</td>\n",
       "    </tr>\n",
       "    <tr>\n",
       "      <th>750</th>\n",
       "      <td>high</td>\n",
       "      <td>med</td>\n",
       "      <td>5more</td>\n",
       "      <td>more</td>\n",
       "      <td>med</td>\n",
       "      <td>med</td>\n",
       "      <td>acc</td>\n",
       "    </tr>\n",
       "    <tr>\n",
       "      <th>1717</th>\n",
       "      <td>low</td>\n",
       "      <td>low</td>\n",
       "      <td>5more</td>\n",
       "      <td>4</td>\n",
       "      <td>big</td>\n",
       "      <td>high</td>\n",
       "      <td>vgood</td>\n",
       "    </tr>\n",
       "    <tr>\n",
       "      <th>1476</th>\n",
       "      <td>low</td>\n",
       "      <td>high</td>\n",
       "      <td>4</td>\n",
       "      <td>more</td>\n",
       "      <td>small</td>\n",
       "      <td>med</td>\n",
       "      <td>acc</td>\n",
       "    </tr>\n",
       "    <tr>\n",
       "      <th>1368</th>\n",
       "      <td>low</td>\n",
       "      <td>vhigh</td>\n",
       "      <td>4</td>\n",
       "      <td>more</td>\n",
       "      <td>small</td>\n",
       "      <td>med</td>\n",
       "      <td>unacc</td>\n",
       "    </tr>\n",
       "  </tbody>\n",
       "</table>\n",
       "</div>"
      ],
      "text/plain": [
       "      vhigh vhigh.1      2   2.1  small   low  unacc\n",
       "142   vhigh    high      3     2    big  high  unacc\n",
       "750    high     med  5more  more    med   med    acc\n",
       "1717    low     low  5more     4    big  high  vgood\n",
       "1476    low    high      4  more  small   med    acc\n",
       "1368    low   vhigh      4  more  small   med  unacc"
      ]
     },
     "execution_count": 4,
     "metadata": {},
     "output_type": "execute_result"
    }
   ],
   "source": [
    "df.sample(5)"
   ]
  },
  {
   "cell_type": "code",
   "execution_count": 5,
   "id": "79515bec",
   "metadata": {
    "execution": {
     "iopub.execute_input": "2024-07-28T06:06:31.628639Z",
     "iopub.status.busy": "2024-07-28T06:06:31.628255Z",
     "iopub.status.idle": "2024-07-28T06:06:31.634903Z",
     "shell.execute_reply": "2024-07-28T06:06:31.633751Z"
    },
    "papermill": {
     "duration": 0.016458,
     "end_time": "2024-07-28T06:06:31.637040",
     "exception": false,
     "start_time": "2024-07-28T06:06:31.620582",
     "status": "completed"
    },
    "tags": []
   },
   "outputs": [
    {
     "data": {
      "text/plain": [
       "(1727, 7)"
      ]
     },
     "execution_count": 5,
     "metadata": {},
     "output_type": "execute_result"
    }
   ],
   "source": [
    "df.shape"
   ]
  },
  {
   "cell_type": "code",
   "execution_count": 6,
   "id": "74f03c0c",
   "metadata": {
    "execution": {
     "iopub.execute_input": "2024-07-28T06:06:31.651321Z",
     "iopub.status.busy": "2024-07-28T06:06:31.650923Z",
     "iopub.status.idle": "2024-07-28T06:06:31.659238Z",
     "shell.execute_reply": "2024-07-28T06:06:31.658166Z"
    },
    "papermill": {
     "duration": 0.018028,
     "end_time": "2024-07-28T06:06:31.661390",
     "exception": false,
     "start_time": "2024-07-28T06:06:31.643362",
     "status": "completed"
    },
    "tags": []
   },
   "outputs": [
    {
     "data": {
      "text/plain": [
       "0"
      ]
     },
     "execution_count": 6,
     "metadata": {},
     "output_type": "execute_result"
    }
   ],
   "source": [
    "df.isnull().sum().sum()"
   ]
  },
  {
   "cell_type": "code",
   "execution_count": 7,
   "id": "1797dee3",
   "metadata": {
    "execution": {
     "iopub.execute_input": "2024-07-28T06:06:31.675691Z",
     "iopub.status.busy": "2024-07-28T06:06:31.675311Z",
     "iopub.status.idle": "2024-07-28T06:06:31.697736Z",
     "shell.execute_reply": "2024-07-28T06:06:31.696762Z"
    },
    "papermill": {
     "duration": 0.032546,
     "end_time": "2024-07-28T06:06:31.700280",
     "exception": false,
     "start_time": "2024-07-28T06:06:31.667734",
     "status": "completed"
    },
    "tags": []
   },
   "outputs": [
    {
     "name": "stdout",
     "output_type": "stream",
     "text": [
      "<class 'pandas.core.frame.DataFrame'>\n",
      "RangeIndex: 1727 entries, 0 to 1726\n",
      "Data columns (total 7 columns):\n",
      " #   Column   Non-Null Count  Dtype \n",
      "---  ------   --------------  ----- \n",
      " 0   vhigh    1727 non-null   object\n",
      " 1   vhigh.1  1727 non-null   object\n",
      " 2   2        1727 non-null   object\n",
      " 3   2.1      1727 non-null   object\n",
      " 4   small    1727 non-null   object\n",
      " 5   low      1727 non-null   object\n",
      " 6   unacc    1727 non-null   object\n",
      "dtypes: object(7)\n",
      "memory usage: 94.6+ KB\n"
     ]
    }
   ],
   "source": [
    "df.info()"
   ]
  },
  {
   "cell_type": "code",
   "execution_count": 8,
   "id": "778643f4",
   "metadata": {
    "execution": {
     "iopub.execute_input": "2024-07-28T06:06:31.714859Z",
     "iopub.status.busy": "2024-07-28T06:06:31.714476Z",
     "iopub.status.idle": "2024-07-28T06:06:31.726449Z",
     "shell.execute_reply": "2024-07-28T06:06:31.725299Z"
    },
    "papermill": {
     "duration": 0.021862,
     "end_time": "2024-07-28T06:06:31.728594",
     "exception": false,
     "start_time": "2024-07-28T06:06:31.706732",
     "status": "completed"
    },
    "tags": []
   },
   "outputs": [
    {
     "name": "stdout",
     "output_type": "stream",
     "text": [
      "vhigh\n",
      "high     432\n",
      "med      432\n",
      "low      432\n",
      "vhigh    431\n",
      "Name: count, dtype: int64\n",
      "vhigh.1\n",
      "high     432\n",
      "med      432\n",
      "low      432\n",
      "vhigh    431\n",
      "Name: count, dtype: int64\n",
      "small\n",
      "med      576\n",
      "big      576\n",
      "small    575\n",
      "Name: count, dtype: int64\n",
      "low\n",
      "med     576\n",
      "high    576\n",
      "low     575\n",
      "Name: count, dtype: int64\n",
      "unacc\n",
      "unacc    1209\n",
      "acc       384\n",
      "good       69\n",
      "vgood      65\n",
      "Name: count, dtype: int64\n"
     ]
    }
   ],
   "source": [
    "print(df['vhigh'].value_counts())\n",
    "print(df['vhigh.1'].value_counts())\n",
    "print(df['small'].value_counts())\n",
    "print(df['low'].value_counts())\n",
    "print(df['unacc'].value_counts())"
   ]
  },
  {
   "cell_type": "code",
   "execution_count": 9,
   "id": "bc0a6a73",
   "metadata": {
    "execution": {
     "iopub.execute_input": "2024-07-28T06:06:31.743654Z",
     "iopub.status.busy": "2024-07-28T06:06:31.743017Z",
     "iopub.status.idle": "2024-07-28T06:06:31.750958Z",
     "shell.execute_reply": "2024-07-28T06:06:31.749571Z"
    },
    "papermill": {
     "duration": 0.017921,
     "end_time": "2024-07-28T06:06:31.753113",
     "exception": false,
     "start_time": "2024-07-28T06:06:31.735192",
     "status": "completed"
    },
    "tags": []
   },
   "outputs": [
    {
     "data": {
      "text/plain": [
       "(1727, 7)"
      ]
     },
     "execution_count": 9,
     "metadata": {},
     "output_type": "execute_result"
    }
   ],
   "source": [
    "df.shape"
   ]
  },
  {
   "cell_type": "markdown",
   "id": "26ff9bcd",
   "metadata": {
    "papermill": {
     "duration": 0.006348,
     "end_time": "2024-07-28T06:06:31.766303",
     "exception": false,
     "start_time": "2024-07-28T06:06:31.759955",
     "status": "completed"
    },
    "tags": []
   },
   "source": [
    "## One hot encoding using Pandas"
   ]
  },
  {
   "cell_type": "code",
   "execution_count": 10,
   "id": "98576d7b",
   "metadata": {
    "execution": {
     "iopub.execute_input": "2024-07-28T06:06:31.781044Z",
     "iopub.status.busy": "2024-07-28T06:06:31.780683Z",
     "iopub.status.idle": "2024-07-28T06:06:31.813535Z",
     "shell.execute_reply": "2024-07-28T06:06:31.812314Z"
    },
    "papermill": {
     "duration": 0.043108,
     "end_time": "2024-07-28T06:06:31.815965",
     "exception": false,
     "start_time": "2024-07-28T06:06:31.772857",
     "status": "completed"
    },
    "tags": []
   },
   "outputs": [
    {
     "data": {
      "text/html": [
       "<div>\n",
       "<style scoped>\n",
       "    .dataframe tbody tr th:only-of-type {\n",
       "        vertical-align: middle;\n",
       "    }\n",
       "\n",
       "    .dataframe tbody tr th {\n",
       "        vertical-align: top;\n",
       "    }\n",
       "\n",
       "    .dataframe thead th {\n",
       "        text-align: right;\n",
       "    }\n",
       "</style>\n",
       "<table border=\"1\" class=\"dataframe\">\n",
       "  <thead>\n",
       "    <tr style=\"text-align: right;\">\n",
       "      <th></th>\n",
       "      <th>2</th>\n",
       "      <th>2.1</th>\n",
       "      <th>vhigh_high</th>\n",
       "      <th>vhigh_low</th>\n",
       "      <th>vhigh_med</th>\n",
       "      <th>vhigh_vhigh</th>\n",
       "      <th>vhigh.1_high</th>\n",
       "      <th>vhigh.1_low</th>\n",
       "      <th>vhigh.1_med</th>\n",
       "      <th>vhigh.1_vhigh</th>\n",
       "      <th>small_big</th>\n",
       "      <th>small_med</th>\n",
       "      <th>small_small</th>\n",
       "      <th>low_high</th>\n",
       "      <th>low_low</th>\n",
       "      <th>low_med</th>\n",
       "      <th>unacc_acc</th>\n",
       "      <th>unacc_good</th>\n",
       "      <th>unacc_unacc</th>\n",
       "      <th>unacc_vgood</th>\n",
       "    </tr>\n",
       "  </thead>\n",
       "  <tbody>\n",
       "    <tr>\n",
       "      <th>0</th>\n",
       "      <td>2</td>\n",
       "      <td>2</td>\n",
       "      <td>False</td>\n",
       "      <td>False</td>\n",
       "      <td>False</td>\n",
       "      <td>True</td>\n",
       "      <td>False</td>\n",
       "      <td>False</td>\n",
       "      <td>False</td>\n",
       "      <td>True</td>\n",
       "      <td>False</td>\n",
       "      <td>False</td>\n",
       "      <td>True</td>\n",
       "      <td>False</td>\n",
       "      <td>False</td>\n",
       "      <td>True</td>\n",
       "      <td>False</td>\n",
       "      <td>False</td>\n",
       "      <td>True</td>\n",
       "      <td>False</td>\n",
       "    </tr>\n",
       "    <tr>\n",
       "      <th>1</th>\n",
       "      <td>2</td>\n",
       "      <td>2</td>\n",
       "      <td>False</td>\n",
       "      <td>False</td>\n",
       "      <td>False</td>\n",
       "      <td>True</td>\n",
       "      <td>False</td>\n",
       "      <td>False</td>\n",
       "      <td>False</td>\n",
       "      <td>True</td>\n",
       "      <td>False</td>\n",
       "      <td>False</td>\n",
       "      <td>True</td>\n",
       "      <td>True</td>\n",
       "      <td>False</td>\n",
       "      <td>False</td>\n",
       "      <td>False</td>\n",
       "      <td>False</td>\n",
       "      <td>True</td>\n",
       "      <td>False</td>\n",
       "    </tr>\n",
       "    <tr>\n",
       "      <th>2</th>\n",
       "      <td>2</td>\n",
       "      <td>2</td>\n",
       "      <td>False</td>\n",
       "      <td>False</td>\n",
       "      <td>False</td>\n",
       "      <td>True</td>\n",
       "      <td>False</td>\n",
       "      <td>False</td>\n",
       "      <td>False</td>\n",
       "      <td>True</td>\n",
       "      <td>False</td>\n",
       "      <td>True</td>\n",
       "      <td>False</td>\n",
       "      <td>False</td>\n",
       "      <td>True</td>\n",
       "      <td>False</td>\n",
       "      <td>False</td>\n",
       "      <td>False</td>\n",
       "      <td>True</td>\n",
       "      <td>False</td>\n",
       "    </tr>\n",
       "    <tr>\n",
       "      <th>3</th>\n",
       "      <td>2</td>\n",
       "      <td>2</td>\n",
       "      <td>False</td>\n",
       "      <td>False</td>\n",
       "      <td>False</td>\n",
       "      <td>True</td>\n",
       "      <td>False</td>\n",
       "      <td>False</td>\n",
       "      <td>False</td>\n",
       "      <td>True</td>\n",
       "      <td>False</td>\n",
       "      <td>True</td>\n",
       "      <td>False</td>\n",
       "      <td>False</td>\n",
       "      <td>False</td>\n",
       "      <td>True</td>\n",
       "      <td>False</td>\n",
       "      <td>False</td>\n",
       "      <td>True</td>\n",
       "      <td>False</td>\n",
       "    </tr>\n",
       "    <tr>\n",
       "      <th>4</th>\n",
       "      <td>2</td>\n",
       "      <td>2</td>\n",
       "      <td>False</td>\n",
       "      <td>False</td>\n",
       "      <td>False</td>\n",
       "      <td>True</td>\n",
       "      <td>False</td>\n",
       "      <td>False</td>\n",
       "      <td>False</td>\n",
       "      <td>True</td>\n",
       "      <td>False</td>\n",
       "      <td>True</td>\n",
       "      <td>False</td>\n",
       "      <td>True</td>\n",
       "      <td>False</td>\n",
       "      <td>False</td>\n",
       "      <td>False</td>\n",
       "      <td>False</td>\n",
       "      <td>True</td>\n",
       "      <td>False</td>\n",
       "    </tr>\n",
       "    <tr>\n",
       "      <th>...</th>\n",
       "      <td>...</td>\n",
       "      <td>...</td>\n",
       "      <td>...</td>\n",
       "      <td>...</td>\n",
       "      <td>...</td>\n",
       "      <td>...</td>\n",
       "      <td>...</td>\n",
       "      <td>...</td>\n",
       "      <td>...</td>\n",
       "      <td>...</td>\n",
       "      <td>...</td>\n",
       "      <td>...</td>\n",
       "      <td>...</td>\n",
       "      <td>...</td>\n",
       "      <td>...</td>\n",
       "      <td>...</td>\n",
       "      <td>...</td>\n",
       "      <td>...</td>\n",
       "      <td>...</td>\n",
       "      <td>...</td>\n",
       "    </tr>\n",
       "    <tr>\n",
       "      <th>1722</th>\n",
       "      <td>5more</td>\n",
       "      <td>more</td>\n",
       "      <td>False</td>\n",
       "      <td>True</td>\n",
       "      <td>False</td>\n",
       "      <td>False</td>\n",
       "      <td>False</td>\n",
       "      <td>True</td>\n",
       "      <td>False</td>\n",
       "      <td>False</td>\n",
       "      <td>False</td>\n",
       "      <td>True</td>\n",
       "      <td>False</td>\n",
       "      <td>False</td>\n",
       "      <td>False</td>\n",
       "      <td>True</td>\n",
       "      <td>False</td>\n",
       "      <td>True</td>\n",
       "      <td>False</td>\n",
       "      <td>False</td>\n",
       "    </tr>\n",
       "    <tr>\n",
       "      <th>1723</th>\n",
       "      <td>5more</td>\n",
       "      <td>more</td>\n",
       "      <td>False</td>\n",
       "      <td>True</td>\n",
       "      <td>False</td>\n",
       "      <td>False</td>\n",
       "      <td>False</td>\n",
       "      <td>True</td>\n",
       "      <td>False</td>\n",
       "      <td>False</td>\n",
       "      <td>False</td>\n",
       "      <td>True</td>\n",
       "      <td>False</td>\n",
       "      <td>True</td>\n",
       "      <td>False</td>\n",
       "      <td>False</td>\n",
       "      <td>False</td>\n",
       "      <td>False</td>\n",
       "      <td>False</td>\n",
       "      <td>True</td>\n",
       "    </tr>\n",
       "    <tr>\n",
       "      <th>1724</th>\n",
       "      <td>5more</td>\n",
       "      <td>more</td>\n",
       "      <td>False</td>\n",
       "      <td>True</td>\n",
       "      <td>False</td>\n",
       "      <td>False</td>\n",
       "      <td>False</td>\n",
       "      <td>True</td>\n",
       "      <td>False</td>\n",
       "      <td>False</td>\n",
       "      <td>True</td>\n",
       "      <td>False</td>\n",
       "      <td>False</td>\n",
       "      <td>False</td>\n",
       "      <td>True</td>\n",
       "      <td>False</td>\n",
       "      <td>False</td>\n",
       "      <td>False</td>\n",
       "      <td>True</td>\n",
       "      <td>False</td>\n",
       "    </tr>\n",
       "    <tr>\n",
       "      <th>1725</th>\n",
       "      <td>5more</td>\n",
       "      <td>more</td>\n",
       "      <td>False</td>\n",
       "      <td>True</td>\n",
       "      <td>False</td>\n",
       "      <td>False</td>\n",
       "      <td>False</td>\n",
       "      <td>True</td>\n",
       "      <td>False</td>\n",
       "      <td>False</td>\n",
       "      <td>True</td>\n",
       "      <td>False</td>\n",
       "      <td>False</td>\n",
       "      <td>False</td>\n",
       "      <td>False</td>\n",
       "      <td>True</td>\n",
       "      <td>False</td>\n",
       "      <td>True</td>\n",
       "      <td>False</td>\n",
       "      <td>False</td>\n",
       "    </tr>\n",
       "    <tr>\n",
       "      <th>1726</th>\n",
       "      <td>5more</td>\n",
       "      <td>more</td>\n",
       "      <td>False</td>\n",
       "      <td>True</td>\n",
       "      <td>False</td>\n",
       "      <td>False</td>\n",
       "      <td>False</td>\n",
       "      <td>True</td>\n",
       "      <td>False</td>\n",
       "      <td>False</td>\n",
       "      <td>True</td>\n",
       "      <td>False</td>\n",
       "      <td>False</td>\n",
       "      <td>True</td>\n",
       "      <td>False</td>\n",
       "      <td>False</td>\n",
       "      <td>False</td>\n",
       "      <td>False</td>\n",
       "      <td>False</td>\n",
       "      <td>True</td>\n",
       "    </tr>\n",
       "  </tbody>\n",
       "</table>\n",
       "<p>1727 rows × 20 columns</p>\n",
       "</div>"
      ],
      "text/plain": [
       "          2   2.1  vhigh_high  vhigh_low  vhigh_med  vhigh_vhigh  \\\n",
       "0         2     2       False      False      False         True   \n",
       "1         2     2       False      False      False         True   \n",
       "2         2     2       False      False      False         True   \n",
       "3         2     2       False      False      False         True   \n",
       "4         2     2       False      False      False         True   \n",
       "...     ...   ...         ...        ...        ...          ...   \n",
       "1722  5more  more       False       True      False        False   \n",
       "1723  5more  more       False       True      False        False   \n",
       "1724  5more  more       False       True      False        False   \n",
       "1725  5more  more       False       True      False        False   \n",
       "1726  5more  more       False       True      False        False   \n",
       "\n",
       "      vhigh.1_high  vhigh.1_low  vhigh.1_med  vhigh.1_vhigh  small_big  \\\n",
       "0            False        False        False           True      False   \n",
       "1            False        False        False           True      False   \n",
       "2            False        False        False           True      False   \n",
       "3            False        False        False           True      False   \n",
       "4            False        False        False           True      False   \n",
       "...            ...          ...          ...            ...        ...   \n",
       "1722         False         True        False          False      False   \n",
       "1723         False         True        False          False      False   \n",
       "1724         False         True        False          False       True   \n",
       "1725         False         True        False          False       True   \n",
       "1726         False         True        False          False       True   \n",
       "\n",
       "      small_med  small_small  low_high  low_low  low_med  unacc_acc  \\\n",
       "0         False         True     False    False     True      False   \n",
       "1         False         True      True    False    False      False   \n",
       "2          True        False     False     True    False      False   \n",
       "3          True        False     False    False     True      False   \n",
       "4          True        False      True    False    False      False   \n",
       "...         ...          ...       ...      ...      ...        ...   \n",
       "1722       True        False     False    False     True      False   \n",
       "1723       True        False      True    False    False      False   \n",
       "1724      False        False     False     True    False      False   \n",
       "1725      False        False     False    False     True      False   \n",
       "1726      False        False      True    False    False      False   \n",
       "\n",
       "      unacc_good  unacc_unacc  unacc_vgood  \n",
       "0          False         True        False  \n",
       "1          False         True        False  \n",
       "2          False         True        False  \n",
       "3          False         True        False  \n",
       "4          False         True        False  \n",
       "...          ...          ...          ...  \n",
       "1722        True        False        False  \n",
       "1723       False        False         True  \n",
       "1724       False         True        False  \n",
       "1725        True        False        False  \n",
       "1726       False        False         True  \n",
       "\n",
       "[1727 rows x 20 columns]"
      ]
     },
     "execution_count": 10,
     "metadata": {},
     "output_type": "execute_result"
    }
   ],
   "source": [
    "pd.get_dummies(df, columns=['vhigh', 'vhigh.1', 'small', 'low', 'unacc'])"
   ]
  },
  {
   "cell_type": "markdown",
   "id": "bc4d2666",
   "metadata": {
    "papermill": {
     "duration": 0.006712,
     "end_time": "2024-07-28T06:06:31.829950",
     "exception": false,
     "start_time": "2024-07-28T06:06:31.823238",
     "status": "completed"
    },
    "tags": []
   },
   "source": [
    "> 1727 rows × 20 columns"
   ]
  },
  {
   "cell_type": "markdown",
   "id": "8ef5787a",
   "metadata": {
    "papermill": {
     "duration": 0.006661,
     "end_time": "2024-07-28T06:06:31.843598",
     "exception": false,
     "start_time": "2024-07-28T06:06:31.836937",
     "status": "completed"
    },
    "tags": []
   },
   "source": [
    "## k-1 OneHot encoding "
   ]
  },
  {
   "cell_type": "code",
   "execution_count": 11,
   "id": "a6dfcb41",
   "metadata": {
    "execution": {
     "iopub.execute_input": "2024-07-28T06:06:31.859998Z",
     "iopub.status.busy": "2024-07-28T06:06:31.859546Z",
     "iopub.status.idle": "2024-07-28T06:06:31.886205Z",
     "shell.execute_reply": "2024-07-28T06:06:31.884998Z"
    },
    "papermill": {
     "duration": 0.037356,
     "end_time": "2024-07-28T06:06:31.888602",
     "exception": false,
     "start_time": "2024-07-28T06:06:31.851246",
     "status": "completed"
    },
    "tags": []
   },
   "outputs": [
    {
     "data": {
      "text/html": [
       "<div>\n",
       "<style scoped>\n",
       "    .dataframe tbody tr th:only-of-type {\n",
       "        vertical-align: middle;\n",
       "    }\n",
       "\n",
       "    .dataframe tbody tr th {\n",
       "        vertical-align: top;\n",
       "    }\n",
       "\n",
       "    .dataframe thead th {\n",
       "        text-align: right;\n",
       "    }\n",
       "</style>\n",
       "<table border=\"1\" class=\"dataframe\">\n",
       "  <thead>\n",
       "    <tr style=\"text-align: right;\">\n",
       "      <th></th>\n",
       "      <th>2</th>\n",
       "      <th>2.1</th>\n",
       "      <th>vhigh_low</th>\n",
       "      <th>vhigh_med</th>\n",
       "      <th>vhigh_vhigh</th>\n",
       "      <th>vhigh.1_low</th>\n",
       "      <th>vhigh.1_med</th>\n",
       "      <th>vhigh.1_vhigh</th>\n",
       "      <th>small_med</th>\n",
       "      <th>small_small</th>\n",
       "      <th>low_low</th>\n",
       "      <th>low_med</th>\n",
       "      <th>unacc_good</th>\n",
       "      <th>unacc_unacc</th>\n",
       "      <th>unacc_vgood</th>\n",
       "    </tr>\n",
       "  </thead>\n",
       "  <tbody>\n",
       "    <tr>\n",
       "      <th>0</th>\n",
       "      <td>2</td>\n",
       "      <td>2</td>\n",
       "      <td>False</td>\n",
       "      <td>False</td>\n",
       "      <td>True</td>\n",
       "      <td>False</td>\n",
       "      <td>False</td>\n",
       "      <td>True</td>\n",
       "      <td>False</td>\n",
       "      <td>True</td>\n",
       "      <td>False</td>\n",
       "      <td>True</td>\n",
       "      <td>False</td>\n",
       "      <td>True</td>\n",
       "      <td>False</td>\n",
       "    </tr>\n",
       "    <tr>\n",
       "      <th>1</th>\n",
       "      <td>2</td>\n",
       "      <td>2</td>\n",
       "      <td>False</td>\n",
       "      <td>False</td>\n",
       "      <td>True</td>\n",
       "      <td>False</td>\n",
       "      <td>False</td>\n",
       "      <td>True</td>\n",
       "      <td>False</td>\n",
       "      <td>True</td>\n",
       "      <td>False</td>\n",
       "      <td>False</td>\n",
       "      <td>False</td>\n",
       "      <td>True</td>\n",
       "      <td>False</td>\n",
       "    </tr>\n",
       "    <tr>\n",
       "      <th>2</th>\n",
       "      <td>2</td>\n",
       "      <td>2</td>\n",
       "      <td>False</td>\n",
       "      <td>False</td>\n",
       "      <td>True</td>\n",
       "      <td>False</td>\n",
       "      <td>False</td>\n",
       "      <td>True</td>\n",
       "      <td>True</td>\n",
       "      <td>False</td>\n",
       "      <td>True</td>\n",
       "      <td>False</td>\n",
       "      <td>False</td>\n",
       "      <td>True</td>\n",
       "      <td>False</td>\n",
       "    </tr>\n",
       "    <tr>\n",
       "      <th>3</th>\n",
       "      <td>2</td>\n",
       "      <td>2</td>\n",
       "      <td>False</td>\n",
       "      <td>False</td>\n",
       "      <td>True</td>\n",
       "      <td>False</td>\n",
       "      <td>False</td>\n",
       "      <td>True</td>\n",
       "      <td>True</td>\n",
       "      <td>False</td>\n",
       "      <td>False</td>\n",
       "      <td>True</td>\n",
       "      <td>False</td>\n",
       "      <td>True</td>\n",
       "      <td>False</td>\n",
       "    </tr>\n",
       "    <tr>\n",
       "      <th>4</th>\n",
       "      <td>2</td>\n",
       "      <td>2</td>\n",
       "      <td>False</td>\n",
       "      <td>False</td>\n",
       "      <td>True</td>\n",
       "      <td>False</td>\n",
       "      <td>False</td>\n",
       "      <td>True</td>\n",
       "      <td>True</td>\n",
       "      <td>False</td>\n",
       "      <td>False</td>\n",
       "      <td>False</td>\n",
       "      <td>False</td>\n",
       "      <td>True</td>\n",
       "      <td>False</td>\n",
       "    </tr>\n",
       "    <tr>\n",
       "      <th>...</th>\n",
       "      <td>...</td>\n",
       "      <td>...</td>\n",
       "      <td>...</td>\n",
       "      <td>...</td>\n",
       "      <td>...</td>\n",
       "      <td>...</td>\n",
       "      <td>...</td>\n",
       "      <td>...</td>\n",
       "      <td>...</td>\n",
       "      <td>...</td>\n",
       "      <td>...</td>\n",
       "      <td>...</td>\n",
       "      <td>...</td>\n",
       "      <td>...</td>\n",
       "      <td>...</td>\n",
       "    </tr>\n",
       "    <tr>\n",
       "      <th>1722</th>\n",
       "      <td>5more</td>\n",
       "      <td>more</td>\n",
       "      <td>True</td>\n",
       "      <td>False</td>\n",
       "      <td>False</td>\n",
       "      <td>True</td>\n",
       "      <td>False</td>\n",
       "      <td>False</td>\n",
       "      <td>True</td>\n",
       "      <td>False</td>\n",
       "      <td>False</td>\n",
       "      <td>True</td>\n",
       "      <td>True</td>\n",
       "      <td>False</td>\n",
       "      <td>False</td>\n",
       "    </tr>\n",
       "    <tr>\n",
       "      <th>1723</th>\n",
       "      <td>5more</td>\n",
       "      <td>more</td>\n",
       "      <td>True</td>\n",
       "      <td>False</td>\n",
       "      <td>False</td>\n",
       "      <td>True</td>\n",
       "      <td>False</td>\n",
       "      <td>False</td>\n",
       "      <td>True</td>\n",
       "      <td>False</td>\n",
       "      <td>False</td>\n",
       "      <td>False</td>\n",
       "      <td>False</td>\n",
       "      <td>False</td>\n",
       "      <td>True</td>\n",
       "    </tr>\n",
       "    <tr>\n",
       "      <th>1724</th>\n",
       "      <td>5more</td>\n",
       "      <td>more</td>\n",
       "      <td>True</td>\n",
       "      <td>False</td>\n",
       "      <td>False</td>\n",
       "      <td>True</td>\n",
       "      <td>False</td>\n",
       "      <td>False</td>\n",
       "      <td>False</td>\n",
       "      <td>False</td>\n",
       "      <td>True</td>\n",
       "      <td>False</td>\n",
       "      <td>False</td>\n",
       "      <td>True</td>\n",
       "      <td>False</td>\n",
       "    </tr>\n",
       "    <tr>\n",
       "      <th>1725</th>\n",
       "      <td>5more</td>\n",
       "      <td>more</td>\n",
       "      <td>True</td>\n",
       "      <td>False</td>\n",
       "      <td>False</td>\n",
       "      <td>True</td>\n",
       "      <td>False</td>\n",
       "      <td>False</td>\n",
       "      <td>False</td>\n",
       "      <td>False</td>\n",
       "      <td>False</td>\n",
       "      <td>True</td>\n",
       "      <td>True</td>\n",
       "      <td>False</td>\n",
       "      <td>False</td>\n",
       "    </tr>\n",
       "    <tr>\n",
       "      <th>1726</th>\n",
       "      <td>5more</td>\n",
       "      <td>more</td>\n",
       "      <td>True</td>\n",
       "      <td>False</td>\n",
       "      <td>False</td>\n",
       "      <td>True</td>\n",
       "      <td>False</td>\n",
       "      <td>False</td>\n",
       "      <td>False</td>\n",
       "      <td>False</td>\n",
       "      <td>False</td>\n",
       "      <td>False</td>\n",
       "      <td>False</td>\n",
       "      <td>False</td>\n",
       "      <td>True</td>\n",
       "    </tr>\n",
       "  </tbody>\n",
       "</table>\n",
       "<p>1727 rows × 15 columns</p>\n",
       "</div>"
      ],
      "text/plain": [
       "          2   2.1  vhigh_low  vhigh_med  vhigh_vhigh  vhigh.1_low  \\\n",
       "0         2     2      False      False         True        False   \n",
       "1         2     2      False      False         True        False   \n",
       "2         2     2      False      False         True        False   \n",
       "3         2     2      False      False         True        False   \n",
       "4         2     2      False      False         True        False   \n",
       "...     ...   ...        ...        ...          ...          ...   \n",
       "1722  5more  more       True      False        False         True   \n",
       "1723  5more  more       True      False        False         True   \n",
       "1724  5more  more       True      False        False         True   \n",
       "1725  5more  more       True      False        False         True   \n",
       "1726  5more  more       True      False        False         True   \n",
       "\n",
       "      vhigh.1_med  vhigh.1_vhigh  small_med  small_small  low_low  low_med  \\\n",
       "0           False           True      False         True    False     True   \n",
       "1           False           True      False         True    False    False   \n",
       "2           False           True       True        False     True    False   \n",
       "3           False           True       True        False    False     True   \n",
       "4           False           True       True        False    False    False   \n",
       "...           ...            ...        ...          ...      ...      ...   \n",
       "1722        False          False       True        False    False     True   \n",
       "1723        False          False       True        False    False    False   \n",
       "1724        False          False      False        False     True    False   \n",
       "1725        False          False      False        False    False     True   \n",
       "1726        False          False      False        False    False    False   \n",
       "\n",
       "      unacc_good  unacc_unacc  unacc_vgood  \n",
       "0          False         True        False  \n",
       "1          False         True        False  \n",
       "2          False         True        False  \n",
       "3          False         True        False  \n",
       "4          False         True        False  \n",
       "...          ...          ...          ...  \n",
       "1722        True        False        False  \n",
       "1723       False        False         True  \n",
       "1724       False         True        False  \n",
       "1725        True        False        False  \n",
       "1726       False        False         True  \n",
       "\n",
       "[1727 rows x 15 columns]"
      ]
     },
     "execution_count": 11,
     "metadata": {},
     "output_type": "execute_result"
    }
   ],
   "source": [
    "pd.get_dummies(df,columns=['vhigh', 'vhigh.1', 'small', 'low', 'unacc'],drop_first=True)"
   ]
  },
  {
   "cell_type": "markdown",
   "id": "ad5d6f2a",
   "metadata": {
    "papermill": {
     "duration": 0.007184,
     "end_time": "2024-07-28T06:06:31.903202",
     "exception": false,
     "start_time": "2024-07-28T06:06:31.896018",
     "status": "completed"
    },
    "tags": []
   },
   "source": [
    "> 1727 rows × 15 columns"
   ]
  },
  {
   "cell_type": "markdown",
   "id": "d198485f",
   "metadata": {
    "papermill": {
     "duration": 0.007268,
     "end_time": "2024-07-28T06:06:31.918547",
     "exception": false,
     "start_time": "2024-07-28T06:06:31.911279",
     "status": "completed"
    },
    "tags": []
   },
   "source": [
    "## OneHotEncoding using Sklearn"
   ]
  },
  {
   "cell_type": "code",
   "execution_count": 12,
   "id": "d0e0134c",
   "metadata": {
    "execution": {
     "iopub.execute_input": "2024-07-28T06:06:31.935027Z",
     "iopub.status.busy": "2024-07-28T06:06:31.934640Z",
     "iopub.status.idle": "2024-07-28T06:06:33.192076Z",
     "shell.execute_reply": "2024-07-28T06:06:33.191002Z"
    },
    "papermill": {
     "duration": 1.268968,
     "end_time": "2024-07-28T06:06:33.194834",
     "exception": false,
     "start_time": "2024-07-28T06:06:31.925866",
     "status": "completed"
    },
    "tags": []
   },
   "outputs": [],
   "source": [
    "from sklearn.model_selection import train_test_split\n",
    "X_train,X_test,y_train,y_test = train_test_split(df.iloc[:,0:],df.iloc[:,-1],test_size=0.2,random_state=2)"
   ]
  },
  {
   "cell_type": "code",
   "execution_count": 13,
   "id": "04869ae2",
   "metadata": {
    "execution": {
     "iopub.execute_input": "2024-07-28T06:06:33.211781Z",
     "iopub.status.busy": "2024-07-28T06:06:33.211380Z",
     "iopub.status.idle": "2024-07-28T06:06:33.224872Z",
     "shell.execute_reply": "2024-07-28T06:06:33.223803Z"
    },
    "papermill": {
     "duration": 0.024561,
     "end_time": "2024-07-28T06:06:33.227128",
     "exception": false,
     "start_time": "2024-07-28T06:06:33.202567",
     "status": "completed"
    },
    "tags": []
   },
   "outputs": [
    {
     "data": {
      "text/html": [
       "<div>\n",
       "<style scoped>\n",
       "    .dataframe tbody tr th:only-of-type {\n",
       "        vertical-align: middle;\n",
       "    }\n",
       "\n",
       "    .dataframe tbody tr th {\n",
       "        vertical-align: top;\n",
       "    }\n",
       "\n",
       "    .dataframe thead th {\n",
       "        text-align: right;\n",
       "    }\n",
       "</style>\n",
       "<table border=\"1\" class=\"dataframe\">\n",
       "  <thead>\n",
       "    <tr style=\"text-align: right;\">\n",
       "      <th></th>\n",
       "      <th>vhigh</th>\n",
       "      <th>vhigh.1</th>\n",
       "      <th>2</th>\n",
       "      <th>2.1</th>\n",
       "      <th>small</th>\n",
       "      <th>low</th>\n",
       "      <th>unacc</th>\n",
       "    </tr>\n",
       "  </thead>\n",
       "  <tbody>\n",
       "    <tr>\n",
       "      <th>1692</th>\n",
       "      <td>low</td>\n",
       "      <td>low</td>\n",
       "      <td>4</td>\n",
       "      <td>more</td>\n",
       "      <td>small</td>\n",
       "      <td>med</td>\n",
       "      <td>acc</td>\n",
       "    </tr>\n",
       "    <tr>\n",
       "      <th>480</th>\n",
       "      <td>high</td>\n",
       "      <td>vhigh</td>\n",
       "      <td>3</td>\n",
       "      <td>more</td>\n",
       "      <td>med</td>\n",
       "      <td>med</td>\n",
       "      <td>unacc</td>\n",
       "    </tr>\n",
       "    <tr>\n",
       "      <th>1690</th>\n",
       "      <td>low</td>\n",
       "      <td>low</td>\n",
       "      <td>4</td>\n",
       "      <td>4</td>\n",
       "      <td>big</td>\n",
       "      <td>high</td>\n",
       "      <td>vgood</td>\n",
       "    </tr>\n",
       "    <tr>\n",
       "      <th>685</th>\n",
       "      <td>high</td>\n",
       "      <td>med</td>\n",
       "      <td>3</td>\n",
       "      <td>4</td>\n",
       "      <td>small</td>\n",
       "      <td>high</td>\n",
       "      <td>acc</td>\n",
       "    </tr>\n",
       "    <tr>\n",
       "      <th>1071</th>\n",
       "      <td>med</td>\n",
       "      <td>high</td>\n",
       "      <td>5more</td>\n",
       "      <td>more</td>\n",
       "      <td>small</td>\n",
       "      <td>med</td>\n",
       "      <td>unacc</td>\n",
       "    </tr>\n",
       "  </tbody>\n",
       "</table>\n",
       "</div>"
      ],
      "text/plain": [
       "     vhigh vhigh.1      2   2.1  small   low  unacc\n",
       "1692   low     low      4  more  small   med    acc\n",
       "480   high   vhigh      3  more    med   med  unacc\n",
       "1690   low     low      4     4    big  high  vgood\n",
       "685   high     med      3     4  small  high    acc\n",
       "1071   med    high  5more  more  small   med  unacc"
      ]
     },
     "execution_count": 13,
     "metadata": {},
     "output_type": "execute_result"
    }
   ],
   "source": [
    "X_train.sample(5)"
   ]
  },
  {
   "cell_type": "code",
   "execution_count": 14,
   "id": "ca75038b",
   "metadata": {
    "execution": {
     "iopub.execute_input": "2024-07-28T06:06:33.244426Z",
     "iopub.status.busy": "2024-07-28T06:06:33.244033Z",
     "iopub.status.idle": "2024-07-28T06:06:33.248902Z",
     "shell.execute_reply": "2024-07-28T06:06:33.247694Z"
    },
    "papermill": {
     "duration": 0.016219,
     "end_time": "2024-07-28T06:06:33.251179",
     "exception": false,
     "start_time": "2024-07-28T06:06:33.234960",
     "status": "completed"
    },
    "tags": []
   },
   "outputs": [],
   "source": [
    "from sklearn.preprocessing import OneHotEncoder"
   ]
  },
  {
   "cell_type": "code",
   "execution_count": 15,
   "id": "0ce6f9a2",
   "metadata": {
    "execution": {
     "iopub.execute_input": "2024-07-28T06:06:33.268273Z",
     "iopub.status.busy": "2024-07-28T06:06:33.267837Z",
     "iopub.status.idle": "2024-07-28T06:06:33.272888Z",
     "shell.execute_reply": "2024-07-28T06:06:33.271819Z"
    },
    "papermill": {
     "duration": 0.016043,
     "end_time": "2024-07-28T06:06:33.275077",
     "exception": false,
     "start_time": "2024-07-28T06:06:33.259034",
     "status": "completed"
    },
    "tags": []
   },
   "outputs": [],
   "source": [
    "ohe = OneHotEncoder(drop='first',sparse_output=False,dtype=np.int32)"
   ]
  },
  {
   "cell_type": "code",
   "execution_count": 16,
   "id": "eb93588b",
   "metadata": {
    "execution": {
     "iopub.execute_input": "2024-07-28T06:06:33.291981Z",
     "iopub.status.busy": "2024-07-28T06:06:33.291600Z",
     "iopub.status.idle": "2024-07-28T06:06:33.307107Z",
     "shell.execute_reply": "2024-07-28T06:06:33.306010Z"
    },
    "papermill": {
     "duration": 0.026734,
     "end_time": "2024-07-28T06:06:33.309506",
     "exception": false,
     "start_time": "2024-07-28T06:06:33.282772",
     "status": "completed"
    },
    "tags": []
   },
   "outputs": [],
   "source": [
    "X_train_new = ohe.fit_transform(X_train[['vhigh', 'vhigh.1', 'small', 'low', 'unacc']])"
   ]
  },
  {
   "cell_type": "code",
   "execution_count": 17,
   "id": "178ba98c",
   "metadata": {
    "execution": {
     "iopub.execute_input": "2024-07-28T06:06:33.326704Z",
     "iopub.status.busy": "2024-07-28T06:06:33.326305Z",
     "iopub.status.idle": "2024-07-28T06:06:33.335582Z",
     "shell.execute_reply": "2024-07-28T06:06:33.334628Z"
    },
    "papermill": {
     "duration": 0.020632,
     "end_time": "2024-07-28T06:06:33.338023",
     "exception": false,
     "start_time": "2024-07-28T06:06:33.317391",
     "status": "completed"
    },
    "tags": []
   },
   "outputs": [],
   "source": [
    "X_test_new = ohe.transform(X_test[['vhigh', 'vhigh.1', 'small', 'low', 'unacc']])"
   ]
  },
  {
   "cell_type": "code",
   "execution_count": 18,
   "id": "d98fdfc0",
   "metadata": {
    "execution": {
     "iopub.execute_input": "2024-07-28T06:06:33.355394Z",
     "iopub.status.busy": "2024-07-28T06:06:33.354980Z",
     "iopub.status.idle": "2024-07-28T06:06:33.362523Z",
     "shell.execute_reply": "2024-07-28T06:06:33.361474Z"
    },
    "papermill": {
     "duration": 0.018716,
     "end_time": "2024-07-28T06:06:33.364624",
     "exception": false,
     "start_time": "2024-07-28T06:06:33.345908",
     "status": "completed"
    },
    "tags": []
   },
   "outputs": [
    {
     "data": {
      "text/plain": [
       "array([[0, 0, 0, ..., 0, 0, 0],\n",
       "       [1, 0, 0, ..., 0, 1, 0],\n",
       "       [1, 0, 0, ..., 0, 1, 0],\n",
       "       ...,\n",
       "       [0, 0, 0, ..., 0, 1, 0],\n",
       "       [0, 0, 0, ..., 0, 1, 0],\n",
       "       [0, 1, 0, ..., 0, 1, 0]], dtype=int32)"
      ]
     },
     "execution_count": 18,
     "metadata": {},
     "output_type": "execute_result"
    }
   ],
   "source": [
    "X_train_new"
   ]
  },
  {
   "cell_type": "code",
   "execution_count": 19,
   "id": "bdc08c90",
   "metadata": {
    "execution": {
     "iopub.execute_input": "2024-07-28T06:06:33.382585Z",
     "iopub.status.busy": "2024-07-28T06:06:33.381787Z",
     "iopub.status.idle": "2024-07-28T06:06:33.388120Z",
     "shell.execute_reply": "2024-07-28T06:06:33.387140Z"
    },
    "papermill": {
     "duration": 0.017891,
     "end_time": "2024-07-28T06:06:33.390528",
     "exception": false,
     "start_time": "2024-07-28T06:06:33.372637",
     "status": "completed"
    },
    "tags": []
   },
   "outputs": [
    {
     "data": {
      "text/plain": [
       "(1381, 13)"
      ]
     },
     "execution_count": 19,
     "metadata": {},
     "output_type": "execute_result"
    }
   ],
   "source": [
    "X_train_new.shape"
   ]
  },
  {
   "cell_type": "code",
   "execution_count": null,
   "id": "22b2e50f",
   "metadata": {
    "papermill": {
     "duration": 0.007625,
     "end_time": "2024-07-28T06:06:33.406188",
     "exception": false,
     "start_time": "2024-07-28T06:06:33.398563",
     "status": "completed"
    },
    "tags": []
   },
   "outputs": [],
   "source": []
  }
 ],
 "metadata": {
  "kaggle": {
   "accelerator": "none",
   "dataSources": [
    {
     "datasetId": 2298,
     "sourceId": 3884,
     "sourceType": "datasetVersion"
    }
   ],
   "dockerImageVersionId": 30746,
   "isGpuEnabled": false,
   "isInternetEnabled": true,
   "language": "python",
   "sourceType": "notebook"
  },
  "kernelspec": {
   "display_name": "Python 3",
   "language": "python",
   "name": "python3"
  },
  "language_info": {
   "codemirror_mode": {
    "name": "ipython",
    "version": 3
   },
   "file_extension": ".py",
   "mimetype": "text/x-python",
   "name": "python",
   "nbconvert_exporter": "python",
   "pygments_lexer": "ipython3",
   "version": "3.10.13"
  },
  "papermill": {
   "default_parameters": {},
   "duration": 6.120048,
   "end_time": "2024-07-28T06:06:34.035706",
   "environment_variables": {},
   "exception": null,
   "input_path": "__notebook__.ipynb",
   "output_path": "__notebook__.ipynb",
   "parameters": {},
   "start_time": "2024-07-28T06:06:27.915658",
   "version": "2.5.0"
  }
 },
 "nbformat": 4,
 "nbformat_minor": 5
}
