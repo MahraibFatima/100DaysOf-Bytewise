{
 "cells": [
  {
   "cell_type": "code",
   "execution_count": 1,
   "id": "53afc1e0",
   "metadata": {
    "_cell_guid": "b1076dfc-b9ad-4769-8c92-a6c4dae69d19",
    "_uuid": "8f2839f25d086af736a60e9eeb907d3b93b6e0e5",
    "execution": {
     "iopub.execute_input": "2024-07-28T05:13:53.220186Z",
     "iopub.status.busy": "2024-07-28T05:13:53.219249Z",
     "iopub.status.idle": "2024-07-28T05:13:54.188922Z",
     "shell.execute_reply": "2024-07-28T05:13:54.187347Z"
    },
    "papermill": {
     "duration": 0.981318,
     "end_time": "2024-07-28T05:13:54.191740",
     "exception": false,
     "start_time": "2024-07-28T05:13:53.210422",
     "status": "completed"
    },
    "tags": []
   },
   "outputs": [
    {
     "name": "stdout",
     "output_type": "stream",
     "text": [
      "/kaggle/input/titanic-dataset/Titanic.csv\n"
     ]
    }
   ],
   "source": [
    "\n",
    "import numpy as np \n",
    "import pandas as pd \n",
    "\n",
    "import os\n",
    "for dirname, _, filenames in os.walk('/kaggle/input'):\n",
    "    for filename in filenames:\n",
    "        print(os.path.join(dirname, filename))\n"
   ]
  },
  {
   "cell_type": "code",
   "execution_count": 2,
   "id": "462e590c",
   "metadata": {
    "execution": {
     "iopub.execute_input": "2024-07-28T05:13:54.208807Z",
     "iopub.status.busy": "2024-07-28T05:13:54.207647Z",
     "iopub.status.idle": "2024-07-28T05:13:54.233625Z",
     "shell.execute_reply": "2024-07-28T05:13:54.232309Z"
    },
    "papermill": {
     "duration": 0.037334,
     "end_time": "2024-07-28T05:13:54.236478",
     "exception": false,
     "start_time": "2024-07-28T05:13:54.199144",
     "status": "completed"
    },
    "tags": []
   },
   "outputs": [],
   "source": [
    "df = pd.read_csv('/kaggle/input/titanic-dataset/Titanic.csv')"
   ]
  },
  {
   "cell_type": "code",
   "execution_count": 3,
   "id": "7ba93b61",
   "metadata": {
    "execution": {
     "iopub.execute_input": "2024-07-28T05:13:54.252340Z",
     "iopub.status.busy": "2024-07-28T05:13:54.251903Z",
     "iopub.status.idle": "2024-07-28T05:13:54.290033Z",
     "shell.execute_reply": "2024-07-28T05:13:54.288874Z"
    },
    "papermill": {
     "duration": 0.048849,
     "end_time": "2024-07-28T05:13:54.292563",
     "exception": false,
     "start_time": "2024-07-28T05:13:54.243714",
     "status": "completed"
    },
    "tags": []
   },
   "outputs": [
    {
     "data": {
      "text/html": [
       "<div>\n",
       "<style scoped>\n",
       "    .dataframe tbody tr th:only-of-type {\n",
       "        vertical-align: middle;\n",
       "    }\n",
       "\n",
       "    .dataframe tbody tr th {\n",
       "        vertical-align: top;\n",
       "    }\n",
       "\n",
       "    .dataframe thead th {\n",
       "        text-align: right;\n",
       "    }\n",
       "</style>\n",
       "<table border=\"1\" class=\"dataframe\">\n",
       "  <thead>\n",
       "    <tr style=\"text-align: right;\">\n",
       "      <th></th>\n",
       "      <th>PassengerId</th>\n",
       "      <th>Survived</th>\n",
       "      <th>Pclass</th>\n",
       "      <th>Name</th>\n",
       "      <th>Sex</th>\n",
       "      <th>Age</th>\n",
       "      <th>SibSp</th>\n",
       "      <th>Parch</th>\n",
       "      <th>Ticket</th>\n",
       "      <th>Fare</th>\n",
       "      <th>Cabin</th>\n",
       "      <th>Embarked</th>\n",
       "    </tr>\n",
       "  </thead>\n",
       "  <tbody>\n",
       "    <tr>\n",
       "      <th>660</th>\n",
       "      <td>661</td>\n",
       "      <td>1</td>\n",
       "      <td>1</td>\n",
       "      <td>Frauenthal, Dr. Henry William</td>\n",
       "      <td>male</td>\n",
       "      <td>50.0</td>\n",
       "      <td>2</td>\n",
       "      <td>0</td>\n",
       "      <td>PC 17611</td>\n",
       "      <td>133.6500</td>\n",
       "      <td>NaN</td>\n",
       "      <td>S</td>\n",
       "    </tr>\n",
       "    <tr>\n",
       "      <th>830</th>\n",
       "      <td>831</td>\n",
       "      <td>1</td>\n",
       "      <td>3</td>\n",
       "      <td>Yasbeck, Mrs. Antoni (Selini Alexander)</td>\n",
       "      <td>female</td>\n",
       "      <td>15.0</td>\n",
       "      <td>1</td>\n",
       "      <td>0</td>\n",
       "      <td>2659</td>\n",
       "      <td>14.4542</td>\n",
       "      <td>NaN</td>\n",
       "      <td>C</td>\n",
       "    </tr>\n",
       "    <tr>\n",
       "      <th>54</th>\n",
       "      <td>55</td>\n",
       "      <td>0</td>\n",
       "      <td>1</td>\n",
       "      <td>Ostby, Mr. Engelhart Cornelius</td>\n",
       "      <td>male</td>\n",
       "      <td>65.0</td>\n",
       "      <td>0</td>\n",
       "      <td>1</td>\n",
       "      <td>113509</td>\n",
       "      <td>61.9792</td>\n",
       "      <td>B30</td>\n",
       "      <td>C</td>\n",
       "    </tr>\n",
       "    <tr>\n",
       "      <th>558</th>\n",
       "      <td>559</td>\n",
       "      <td>1</td>\n",
       "      <td>1</td>\n",
       "      <td>Taussig, Mrs. Emil (Tillie Mandelbaum)</td>\n",
       "      <td>female</td>\n",
       "      <td>39.0</td>\n",
       "      <td>1</td>\n",
       "      <td>1</td>\n",
       "      <td>110413</td>\n",
       "      <td>79.6500</td>\n",
       "      <td>E67</td>\n",
       "      <td>S</td>\n",
       "    </tr>\n",
       "    <tr>\n",
       "      <th>19</th>\n",
       "      <td>20</td>\n",
       "      <td>1</td>\n",
       "      <td>3</td>\n",
       "      <td>Masselmani, Mrs. Fatima</td>\n",
       "      <td>female</td>\n",
       "      <td>NaN</td>\n",
       "      <td>0</td>\n",
       "      <td>0</td>\n",
       "      <td>2649</td>\n",
       "      <td>7.2250</td>\n",
       "      <td>NaN</td>\n",
       "      <td>C</td>\n",
       "    </tr>\n",
       "  </tbody>\n",
       "</table>\n",
       "</div>"
      ],
      "text/plain": [
       "     PassengerId  Survived  Pclass                                     Name  \\\n",
       "660          661         1       1            Frauenthal, Dr. Henry William   \n",
       "830          831         1       3  Yasbeck, Mrs. Antoni (Selini Alexander)   \n",
       "54            55         0       1           Ostby, Mr. Engelhart Cornelius   \n",
       "558          559         1       1   Taussig, Mrs. Emil (Tillie Mandelbaum)   \n",
       "19            20         1       3                  Masselmani, Mrs. Fatima   \n",
       "\n",
       "        Sex   Age  SibSp  Parch    Ticket      Fare Cabin Embarked  \n",
       "660    male  50.0      2      0  PC 17611  133.6500   NaN        S  \n",
       "830  female  15.0      1      0      2659   14.4542   NaN        C  \n",
       "54     male  65.0      0      1    113509   61.9792   B30        C  \n",
       "558  female  39.0      1      1    110413   79.6500   E67        S  \n",
       "19   female   NaN      0      0      2649    7.2250   NaN        C  "
      ]
     },
     "execution_count": 3,
     "metadata": {},
     "output_type": "execute_result"
    }
   ],
   "source": [
    "df.sample(5)"
   ]
  },
  {
   "cell_type": "code",
   "execution_count": 4,
   "id": "1fb5a2ee",
   "metadata": {
    "execution": {
     "iopub.execute_input": "2024-07-28T05:13:54.308305Z",
     "iopub.status.busy": "2024-07-28T05:13:54.307910Z",
     "iopub.status.idle": "2024-07-28T05:13:54.342922Z",
     "shell.execute_reply": "2024-07-28T05:13:54.341790Z"
    },
    "papermill": {
     "duration": 0.045852,
     "end_time": "2024-07-28T05:13:54.345552",
     "exception": false,
     "start_time": "2024-07-28T05:13:54.299700",
     "status": "completed"
    },
    "tags": []
   },
   "outputs": [
    {
     "data": {
      "text/html": [
       "<div>\n",
       "<style scoped>\n",
       "    .dataframe tbody tr th:only-of-type {\n",
       "        vertical-align: middle;\n",
       "    }\n",
       "\n",
       "    .dataframe tbody tr th {\n",
       "        vertical-align: top;\n",
       "    }\n",
       "\n",
       "    .dataframe thead th {\n",
       "        text-align: right;\n",
       "    }\n",
       "</style>\n",
       "<table border=\"1\" class=\"dataframe\">\n",
       "  <thead>\n",
       "    <tr style=\"text-align: right;\">\n",
       "      <th></th>\n",
       "      <th>PassengerId</th>\n",
       "      <th>Survived</th>\n",
       "      <th>Pclass</th>\n",
       "      <th>Age</th>\n",
       "      <th>SibSp</th>\n",
       "      <th>Parch</th>\n",
       "      <th>Fare</th>\n",
       "    </tr>\n",
       "  </thead>\n",
       "  <tbody>\n",
       "    <tr>\n",
       "      <th>count</th>\n",
       "      <td>891.000000</td>\n",
       "      <td>891.000000</td>\n",
       "      <td>891.000000</td>\n",
       "      <td>714.000000</td>\n",
       "      <td>891.000000</td>\n",
       "      <td>891.000000</td>\n",
       "      <td>891.000000</td>\n",
       "    </tr>\n",
       "    <tr>\n",
       "      <th>mean</th>\n",
       "      <td>446.000000</td>\n",
       "      <td>0.383838</td>\n",
       "      <td>2.308642</td>\n",
       "      <td>29.699118</td>\n",
       "      <td>0.523008</td>\n",
       "      <td>0.381594</td>\n",
       "      <td>32.204208</td>\n",
       "    </tr>\n",
       "    <tr>\n",
       "      <th>std</th>\n",
       "      <td>257.353842</td>\n",
       "      <td>0.486592</td>\n",
       "      <td>0.836071</td>\n",
       "      <td>14.526497</td>\n",
       "      <td>1.102743</td>\n",
       "      <td>0.806057</td>\n",
       "      <td>49.693429</td>\n",
       "    </tr>\n",
       "    <tr>\n",
       "      <th>min</th>\n",
       "      <td>1.000000</td>\n",
       "      <td>0.000000</td>\n",
       "      <td>1.000000</td>\n",
       "      <td>0.420000</td>\n",
       "      <td>0.000000</td>\n",
       "      <td>0.000000</td>\n",
       "      <td>0.000000</td>\n",
       "    </tr>\n",
       "    <tr>\n",
       "      <th>25%</th>\n",
       "      <td>223.500000</td>\n",
       "      <td>0.000000</td>\n",
       "      <td>2.000000</td>\n",
       "      <td>20.125000</td>\n",
       "      <td>0.000000</td>\n",
       "      <td>0.000000</td>\n",
       "      <td>7.910400</td>\n",
       "    </tr>\n",
       "    <tr>\n",
       "      <th>50%</th>\n",
       "      <td>446.000000</td>\n",
       "      <td>0.000000</td>\n",
       "      <td>3.000000</td>\n",
       "      <td>28.000000</td>\n",
       "      <td>0.000000</td>\n",
       "      <td>0.000000</td>\n",
       "      <td>14.454200</td>\n",
       "    </tr>\n",
       "    <tr>\n",
       "      <th>75%</th>\n",
       "      <td>668.500000</td>\n",
       "      <td>1.000000</td>\n",
       "      <td>3.000000</td>\n",
       "      <td>38.000000</td>\n",
       "      <td>1.000000</td>\n",
       "      <td>0.000000</td>\n",
       "      <td>31.000000</td>\n",
       "    </tr>\n",
       "    <tr>\n",
       "      <th>max</th>\n",
       "      <td>891.000000</td>\n",
       "      <td>1.000000</td>\n",
       "      <td>3.000000</td>\n",
       "      <td>80.000000</td>\n",
       "      <td>8.000000</td>\n",
       "      <td>6.000000</td>\n",
       "      <td>512.329200</td>\n",
       "    </tr>\n",
       "  </tbody>\n",
       "</table>\n",
       "</div>"
      ],
      "text/plain": [
       "       PassengerId    Survived      Pclass         Age       SibSp  \\\n",
       "count   891.000000  891.000000  891.000000  714.000000  891.000000   \n",
       "mean    446.000000    0.383838    2.308642   29.699118    0.523008   \n",
       "std     257.353842    0.486592    0.836071   14.526497    1.102743   \n",
       "min       1.000000    0.000000    1.000000    0.420000    0.000000   \n",
       "25%     223.500000    0.000000    2.000000   20.125000    0.000000   \n",
       "50%     446.000000    0.000000    3.000000   28.000000    0.000000   \n",
       "75%     668.500000    1.000000    3.000000   38.000000    1.000000   \n",
       "max     891.000000    1.000000    3.000000   80.000000    8.000000   \n",
       "\n",
       "            Parch        Fare  \n",
       "count  891.000000  891.000000  \n",
       "mean     0.381594   32.204208  \n",
       "std      0.806057   49.693429  \n",
       "min      0.000000    0.000000  \n",
       "25%      0.000000    7.910400  \n",
       "50%      0.000000   14.454200  \n",
       "75%      0.000000   31.000000  \n",
       "max      6.000000  512.329200  "
      ]
     },
     "execution_count": 4,
     "metadata": {},
     "output_type": "execute_result"
    }
   ],
   "source": [
    "df.describe()"
   ]
  },
  {
   "cell_type": "code",
   "execution_count": 5,
   "id": "b29d3235",
   "metadata": {
    "execution": {
     "iopub.execute_input": "2024-07-28T05:13:54.362181Z",
     "iopub.status.busy": "2024-07-28T05:13:54.361748Z",
     "iopub.status.idle": "2024-07-28T05:13:54.384547Z",
     "shell.execute_reply": "2024-07-28T05:13:54.383306Z"
    },
    "papermill": {
     "duration": 0.03485,
     "end_time": "2024-07-28T05:13:54.387934",
     "exception": false,
     "start_time": "2024-07-28T05:13:54.353084",
     "status": "completed"
    },
    "tags": []
   },
   "outputs": [
    {
     "name": "stdout",
     "output_type": "stream",
     "text": [
      "<class 'pandas.core.frame.DataFrame'>\n",
      "RangeIndex: 891 entries, 0 to 890\n",
      "Data columns (total 12 columns):\n",
      " #   Column       Non-Null Count  Dtype  \n",
      "---  ------       --------------  -----  \n",
      " 0   PassengerId  891 non-null    int64  \n",
      " 1   Survived     891 non-null    int64  \n",
      " 2   Pclass       891 non-null    int64  \n",
      " 3   Name         891 non-null    object \n",
      " 4   Sex          891 non-null    object \n",
      " 5   Age          714 non-null    float64\n",
      " 6   SibSp        891 non-null    int64  \n",
      " 7   Parch        891 non-null    int64  \n",
      " 8   Ticket       891 non-null    object \n",
      " 9   Fare         891 non-null    float64\n",
      " 10  Cabin        204 non-null    object \n",
      " 11  Embarked     889 non-null    object \n",
      "dtypes: float64(2), int64(5), object(5)\n",
      "memory usage: 83.7+ KB\n"
     ]
    }
   ],
   "source": [
    "df.info()"
   ]
  },
  {
   "cell_type": "code",
   "execution_count": 6,
   "id": "93eed591",
   "metadata": {
    "execution": {
     "iopub.execute_input": "2024-07-28T05:13:54.404869Z",
     "iopub.status.busy": "2024-07-28T05:13:54.404468Z",
     "iopub.status.idle": "2024-07-28T05:13:54.414221Z",
     "shell.execute_reply": "2024-07-28T05:13:54.412989Z"
    },
    "papermill": {
     "duration": 0.021406,
     "end_time": "2024-07-28T05:13:54.416870",
     "exception": false,
     "start_time": "2024-07-28T05:13:54.395464",
     "status": "completed"
    },
    "tags": []
   },
   "outputs": [
    {
     "data": {
      "text/plain": [
       "PassengerId      0\n",
       "Survived         0\n",
       "Pclass           0\n",
       "Name             0\n",
       "Sex              0\n",
       "Age            177\n",
       "SibSp            0\n",
       "Parch            0\n",
       "Ticket           0\n",
       "Fare             0\n",
       "Cabin          687\n",
       "Embarked         2\n",
       "dtype: int64"
      ]
     },
     "execution_count": 6,
     "metadata": {},
     "output_type": "execute_result"
    }
   ],
   "source": [
    "df.isnull().sum()"
   ]
  },
  {
   "cell_type": "code",
   "execution_count": 7,
   "id": "c5f92258",
   "metadata": {
    "execution": {
     "iopub.execute_input": "2024-07-28T05:13:54.433812Z",
     "iopub.status.busy": "2024-07-28T05:13:54.433388Z",
     "iopub.status.idle": "2024-07-28T05:13:54.441154Z",
     "shell.execute_reply": "2024-07-28T05:13:54.439808Z"
    },
    "papermill": {
     "duration": 0.019107,
     "end_time": "2024-07-28T05:13:54.443689",
     "exception": false,
     "start_time": "2024-07-28T05:13:54.424582",
     "status": "completed"
    },
    "tags": []
   },
   "outputs": [
    {
     "data": {
      "text/plain": [
       "(891, 12)"
      ]
     },
     "execution_count": 7,
     "metadata": {},
     "output_type": "execute_result"
    }
   ],
   "source": [
    "df.shape"
   ]
  },
  {
   "cell_type": "markdown",
   "id": "00722efe",
   "metadata": {
    "papermill": {
     "duration": 0.007735,
     "end_time": "2024-07-28T05:13:54.459366",
     "exception": false,
     "start_time": "2024-07-28T05:13:54.451631",
     "status": "completed"
    },
    "tags": []
   },
   "source": [
    "## Droping Cabin col"
   ]
  },
  {
   "cell_type": "markdown",
   "id": "4f3dc6ae",
   "metadata": {
    "papermill": {
     "duration": 0.007417,
     "end_time": "2024-07-28T05:13:54.474540",
     "exception": false,
     "start_time": "2024-07-28T05:13:54.467123",
     "status": "completed"
    },
    "tags": []
   },
   "source": [
    "### Cabin has 687 missing values while total values are 891"
   ]
  },
  {
   "cell_type": "markdown",
   "id": "bcad3ae7",
   "metadata": {
    "papermill": {
     "duration": 0.007498,
     "end_time": "2024-07-28T05:13:54.491720",
     "exception": false,
     "start_time": "2024-07-28T05:13:54.484222",
     "status": "completed"
    },
    "tags": []
   },
   "source": [
    "### missing values are more than 80% of data"
   ]
  },
  {
   "cell_type": "code",
   "execution_count": 8,
   "id": "31e16f67",
   "metadata": {
    "execution": {
     "iopub.execute_input": "2024-07-28T05:13:54.508880Z",
     "iopub.status.busy": "2024-07-28T05:13:54.508487Z",
     "iopub.status.idle": "2024-07-28T05:13:54.516461Z",
     "shell.execute_reply": "2024-07-28T05:13:54.515346Z"
    },
    "papermill": {
     "duration": 0.019505,
     "end_time": "2024-07-28T05:13:54.518959",
     "exception": false,
     "start_time": "2024-07-28T05:13:54.499454",
     "status": "completed"
    },
    "tags": []
   },
   "outputs": [],
   "source": [
    "df.drop(labels='Cabin', axis=1,inplace= True)"
   ]
  },
  {
   "cell_type": "code",
   "execution_count": 9,
   "id": "e635185a",
   "metadata": {
    "execution": {
     "iopub.execute_input": "2024-07-28T05:13:54.535885Z",
     "iopub.status.busy": "2024-07-28T05:13:54.535494Z",
     "iopub.status.idle": "2024-07-28T05:13:54.552650Z",
     "shell.execute_reply": "2024-07-28T05:13:54.551609Z"
    },
    "papermill": {
     "duration": 0.028679,
     "end_time": "2024-07-28T05:13:54.555336",
     "exception": false,
     "start_time": "2024-07-28T05:13:54.526657",
     "status": "completed"
    },
    "tags": []
   },
   "outputs": [
    {
     "data": {
      "text/html": [
       "<div>\n",
       "<style scoped>\n",
       "    .dataframe tbody tr th:only-of-type {\n",
       "        vertical-align: middle;\n",
       "    }\n",
       "\n",
       "    .dataframe tbody tr th {\n",
       "        vertical-align: top;\n",
       "    }\n",
       "\n",
       "    .dataframe thead th {\n",
       "        text-align: right;\n",
       "    }\n",
       "</style>\n",
       "<table border=\"1\" class=\"dataframe\">\n",
       "  <thead>\n",
       "    <tr style=\"text-align: right;\">\n",
       "      <th></th>\n",
       "      <th>PassengerId</th>\n",
       "      <th>Survived</th>\n",
       "      <th>Pclass</th>\n",
       "      <th>Name</th>\n",
       "      <th>Sex</th>\n",
       "      <th>Age</th>\n",
       "      <th>SibSp</th>\n",
       "      <th>Parch</th>\n",
       "      <th>Ticket</th>\n",
       "      <th>Fare</th>\n",
       "      <th>Embarked</th>\n",
       "    </tr>\n",
       "  </thead>\n",
       "  <tbody>\n",
       "    <tr>\n",
       "      <th>0</th>\n",
       "      <td>1</td>\n",
       "      <td>0</td>\n",
       "      <td>3</td>\n",
       "      <td>Braund, Mr. Owen Harris</td>\n",
       "      <td>male</td>\n",
       "      <td>22.0</td>\n",
       "      <td>1</td>\n",
       "      <td>0</td>\n",
       "      <td>A/5 21171</td>\n",
       "      <td>7.2500</td>\n",
       "      <td>S</td>\n",
       "    </tr>\n",
       "    <tr>\n",
       "      <th>1</th>\n",
       "      <td>2</td>\n",
       "      <td>1</td>\n",
       "      <td>1</td>\n",
       "      <td>Cumings, Mrs. John Bradley (Florence Briggs Th...</td>\n",
       "      <td>female</td>\n",
       "      <td>38.0</td>\n",
       "      <td>1</td>\n",
       "      <td>0</td>\n",
       "      <td>PC 17599</td>\n",
       "      <td>71.2833</td>\n",
       "      <td>C</td>\n",
       "    </tr>\n",
       "    <tr>\n",
       "      <th>2</th>\n",
       "      <td>3</td>\n",
       "      <td>1</td>\n",
       "      <td>3</td>\n",
       "      <td>Heikkinen, Miss. Laina</td>\n",
       "      <td>female</td>\n",
       "      <td>26.0</td>\n",
       "      <td>0</td>\n",
       "      <td>0</td>\n",
       "      <td>STON/O2. 3101282</td>\n",
       "      <td>7.9250</td>\n",
       "      <td>S</td>\n",
       "    </tr>\n",
       "    <tr>\n",
       "      <th>3</th>\n",
       "      <td>4</td>\n",
       "      <td>1</td>\n",
       "      <td>1</td>\n",
       "      <td>Futrelle, Mrs. Jacques Heath (Lily May Peel)</td>\n",
       "      <td>female</td>\n",
       "      <td>35.0</td>\n",
       "      <td>1</td>\n",
       "      <td>0</td>\n",
       "      <td>113803</td>\n",
       "      <td>53.1000</td>\n",
       "      <td>S</td>\n",
       "    </tr>\n",
       "    <tr>\n",
       "      <th>4</th>\n",
       "      <td>5</td>\n",
       "      <td>0</td>\n",
       "      <td>3</td>\n",
       "      <td>Allen, Mr. William Henry</td>\n",
       "      <td>male</td>\n",
       "      <td>35.0</td>\n",
       "      <td>0</td>\n",
       "      <td>0</td>\n",
       "      <td>373450</td>\n",
       "      <td>8.0500</td>\n",
       "      <td>S</td>\n",
       "    </tr>\n",
       "  </tbody>\n",
       "</table>\n",
       "</div>"
      ],
      "text/plain": [
       "   PassengerId  Survived  Pclass  \\\n",
       "0            1         0       3   \n",
       "1            2         1       1   \n",
       "2            3         1       3   \n",
       "3            4         1       1   \n",
       "4            5         0       3   \n",
       "\n",
       "                                                Name     Sex   Age  SibSp  \\\n",
       "0                            Braund, Mr. Owen Harris    male  22.0      1   \n",
       "1  Cumings, Mrs. John Bradley (Florence Briggs Th...  female  38.0      1   \n",
       "2                             Heikkinen, Miss. Laina  female  26.0      0   \n",
       "3       Futrelle, Mrs. Jacques Heath (Lily May Peel)  female  35.0      1   \n",
       "4                           Allen, Mr. William Henry    male  35.0      0   \n",
       "\n",
       "   Parch            Ticket     Fare Embarked  \n",
       "0      0         A/5 21171   7.2500        S  \n",
       "1      0          PC 17599  71.2833        C  \n",
       "2      0  STON/O2. 3101282   7.9250        S  \n",
       "3      0            113803  53.1000        S  \n",
       "4      0            373450   8.0500        S  "
      ]
     },
     "execution_count": 9,
     "metadata": {},
     "output_type": "execute_result"
    }
   ],
   "source": [
    "df.head()"
   ]
  },
  {
   "cell_type": "markdown",
   "id": "c3fba79d",
   "metadata": {
    "papermill": {
     "duration": 0.007953,
     "end_time": "2024-07-28T05:13:54.571432",
     "exception": false,
     "start_time": "2024-07-28T05:13:54.563479",
     "status": "completed"
    },
    "tags": []
   },
   "source": [
    "## Mean imputation"
   ]
  },
  {
   "cell_type": "markdown",
   "id": "3f130402",
   "metadata": {
    "papermill": {
     "duration": 0.008106,
     "end_time": "2024-07-28T05:13:54.587683",
     "exception": false,
     "start_time": "2024-07-28T05:13:54.579577",
     "status": "completed"
    },
    "tags": []
   },
   "source": [
    "### Age has 177 missing values"
   ]
  },
  {
   "cell_type": "code",
   "execution_count": 10,
   "id": "e5d6f2aa",
   "metadata": {
    "execution": {
     "iopub.execute_input": "2024-07-28T05:13:54.605612Z",
     "iopub.status.busy": "2024-07-28T05:13:54.605247Z",
     "iopub.status.idle": "2024-07-28T05:13:54.612391Z",
     "shell.execute_reply": "2024-07-28T05:13:54.611184Z"
    },
    "papermill": {
     "duration": 0.019553,
     "end_time": "2024-07-28T05:13:54.615393",
     "exception": false,
     "start_time": "2024-07-28T05:13:54.595840",
     "status": "completed"
    },
    "tags": []
   },
   "outputs": [],
   "source": [
    "df['Age'] = df['Age'].fillna(df['Age'].mean())"
   ]
  },
  {
   "cell_type": "code",
   "execution_count": 11,
   "id": "651be12b",
   "metadata": {
    "execution": {
     "iopub.execute_input": "2024-07-28T05:13:54.634505Z",
     "iopub.status.busy": "2024-07-28T05:13:54.633260Z",
     "iopub.status.idle": "2024-07-28T05:13:54.643973Z",
     "shell.execute_reply": "2024-07-28T05:13:54.642620Z"
    },
    "papermill": {
     "duration": 0.022808,
     "end_time": "2024-07-28T05:13:54.646566",
     "exception": false,
     "start_time": "2024-07-28T05:13:54.623758",
     "status": "completed"
    },
    "tags": []
   },
   "outputs": [
    {
     "data": {
      "text/plain": [
       "PassengerId    0\n",
       "Survived       0\n",
       "Pclass         0\n",
       "Name           0\n",
       "Sex            0\n",
       "Age            0\n",
       "SibSp          0\n",
       "Parch          0\n",
       "Ticket         0\n",
       "Fare           0\n",
       "Embarked       2\n",
       "dtype: int64"
      ]
     },
     "execution_count": 11,
     "metadata": {},
     "output_type": "execute_result"
    }
   ],
   "source": [
    "df.isnull().sum()"
   ]
  },
  {
   "cell_type": "markdown",
   "id": "9162bead",
   "metadata": {
    "papermill": {
     "duration": 0.008063,
     "end_time": "2024-07-28T05:13:54.663684",
     "exception": false,
     "start_time": "2024-07-28T05:13:54.655621",
     "status": "completed"
    },
    "tags": []
   },
   "source": [
    "## Mode Imputation"
   ]
  },
  {
   "cell_type": "code",
   "execution_count": 12,
   "id": "f4d5f1a6",
   "metadata": {
    "execution": {
     "iopub.execute_input": "2024-07-28T05:13:54.682416Z",
     "iopub.status.busy": "2024-07-28T05:13:54.682034Z",
     "iopub.status.idle": "2024-07-28T05:13:54.689333Z",
     "shell.execute_reply": "2024-07-28T05:13:54.688121Z"
    },
    "papermill": {
     "duration": 0.0201,
     "end_time": "2024-07-28T05:13:54.692119",
     "exception": false,
     "start_time": "2024-07-28T05:13:54.672019",
     "status": "completed"
    },
    "tags": []
   },
   "outputs": [],
   "source": [
    "df['Embarked'] = df['Embarked'].fillna(df['Embarked'].mode()[0])"
   ]
  },
  {
   "cell_type": "code",
   "execution_count": 13,
   "id": "c6d9aa17",
   "metadata": {
    "execution": {
     "iopub.execute_input": "2024-07-28T05:13:54.711649Z",
     "iopub.status.busy": "2024-07-28T05:13:54.711229Z",
     "iopub.status.idle": "2024-07-28T05:13:54.721671Z",
     "shell.execute_reply": "2024-07-28T05:13:54.720592Z"
    },
    "papermill": {
     "duration": 0.023268,
     "end_time": "2024-07-28T05:13:54.724138",
     "exception": false,
     "start_time": "2024-07-28T05:13:54.700870",
     "status": "completed"
    },
    "tags": []
   },
   "outputs": [
    {
     "data": {
      "text/plain": [
       "PassengerId    0\n",
       "Survived       0\n",
       "Pclass         0\n",
       "Name           0\n",
       "Sex            0\n",
       "Age            0\n",
       "SibSp          0\n",
       "Parch          0\n",
       "Ticket         0\n",
       "Fare           0\n",
       "Embarked       0\n",
       "dtype: int64"
      ]
     },
     "execution_count": 13,
     "metadata": {},
     "output_type": "execute_result"
    }
   ],
   "source": [
    "df.isnull().sum()"
   ]
  },
  {
   "cell_type": "code",
   "execution_count": null,
   "id": "a5b2acee",
   "metadata": {
    "papermill": {
     "duration": 0.008805,
     "end_time": "2024-07-28T05:13:54.741622",
     "exception": false,
     "start_time": "2024-07-28T05:13:54.732817",
     "status": "completed"
    },
    "tags": []
   },
   "outputs": [],
   "source": []
  }
 ],
 "metadata": {
  "kaggle": {
   "accelerator": "none",
   "dataSources": [
    {
     "datasetId": 4379678,
     "sourceId": 7518666,
     "sourceType": "datasetVersion"
    }
   ],
   "dockerImageVersionId": 30746,
   "isGpuEnabled": false,
   "isInternetEnabled": true,
   "language": "python",
   "sourceType": "notebook"
  },
  "kernelspec": {
   "display_name": "Python 3",
   "language": "python",
   "name": "python3"
  },
  "language_info": {
   "codemirror_mode": {
    "name": "ipython",
    "version": 3
   },
   "file_extension": ".py",
   "mimetype": "text/x-python",
   "name": "python",
   "nbconvert_exporter": "python",
   "pygments_lexer": "ipython3",
   "version": "3.10.13"
  },
  "papermill": {
   "default_parameters": {},
   "duration": 5.207694,
   "end_time": "2024-07-28T05:13:55.273725",
   "environment_variables": {},
   "exception": null,
   "input_path": "__notebook__.ipynb",
   "output_path": "__notebook__.ipynb",
   "parameters": {},
   "start_time": "2024-07-28T05:13:50.066031",
   "version": "2.5.0"
  }
 },
 "nbformat": 4,
 "nbformat_minor": 5
}
