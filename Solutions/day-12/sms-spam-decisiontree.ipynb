{
 "cells": [
  {
   "cell_type": "markdown",
   "id": "76b150aa",
   "metadata": {
    "id": "nmYhm2k72jT5",
    "papermill": {
     "duration": 0.007608,
     "end_time": "2024-07-30T20:29:26.091686",
     "exception": false,
     "start_time": "2024-07-30T20:29:26.084078",
     "status": "completed"
    },
    "tags": []
   },
   "source": [
    "# <p style=\"background-color:#F4A261;font-family:newtimeroman;color:#B43F3F;font-size:150%;text-align:center;border-radius:20px 60px;\">Loading Packages </p>\n"
   ]
  },
  {
   "cell_type": "code",
   "execution_count": 1,
   "id": "30e8b422",
   "metadata": {
    "execution": {
     "iopub.execute_input": "2024-07-30T20:29:26.105967Z",
     "iopub.status.busy": "2024-07-30T20:29:26.105601Z",
     "iopub.status.idle": "2024-07-30T20:29:28.568210Z",
     "shell.execute_reply": "2024-07-30T20:29:28.567127Z"
    },
    "id": "JdomFxHO2SZ8",
    "papermill": {
     "duration": 2.472736,
     "end_time": "2024-07-30T20:29:28.570782",
     "exception": false,
     "start_time": "2024-07-30T20:29:26.098046",
     "status": "completed"
    },
    "tags": []
   },
   "outputs": [],
   "source": [
    "import pandas as pd\n",
    "import pandas as pd\n",
    "import matplotlib.pyplot as plt\n",
    "import seaborn as sns\n",
    "from sklearn.feature_extraction.text import TfidfVectorizer\n",
    "from sklearn.model_selection import train_test_split\n",
    "from sklearn.tree import DecisionTreeClassifier\n",
    "from sklearn.metrics import classification_report, confusion_matrix\n",
    "from sklearn.preprocessing import LabelEncoder"
   ]
  },
  {
   "cell_type": "code",
   "execution_count": 2,
   "id": "134f9f11",
   "metadata": {
    "execution": {
     "iopub.execute_input": "2024-07-30T20:29:28.585101Z",
     "iopub.status.busy": "2024-07-30T20:29:28.584252Z",
     "iopub.status.idle": "2024-07-30T20:29:28.601229Z",
     "shell.execute_reply": "2024-07-30T20:29:28.600213Z"
    },
    "papermill": {
     "duration": 0.026428,
     "end_time": "2024-07-30T20:29:28.603357",
     "exception": false,
     "start_time": "2024-07-30T20:29:28.576929",
     "status": "completed"
    },
    "tags": []
   },
   "outputs": [
    {
     "name": "stdout",
     "output_type": "stream",
     "text": [
      "/kaggle/input/sms-spam-collection-dataset/spam.csv\n"
     ]
    }
   ],
   "source": [
    "import os\n",
    "for dirname, _, filenames in os.walk('/kaggle/input'):\n",
    "    for filename in filenames:\n",
    "        print(os.path.join(dirname, filename))"
   ]
  },
  {
   "cell_type": "markdown",
   "id": "a3aac623",
   "metadata": {
    "papermill": {
     "duration": 0.005993,
     "end_time": "2024-07-30T20:29:28.615535",
     "exception": false,
     "start_time": "2024-07-30T20:29:28.609542",
     "status": "completed"
    },
    "tags": []
   },
   "source": [
    "# <p style=\"background-color:#F4A261;font-family:newtimeroman;color:#B43F3F;font-size:150%;text-align:center;border-radius:20px 60px;\">Data Overview </p>\n"
   ]
  },
  {
   "cell_type": "code",
   "execution_count": 3,
   "id": "030b6145",
   "metadata": {
    "execution": {
     "iopub.execute_input": "2024-07-30T20:29:28.629363Z",
     "iopub.status.busy": "2024-07-30T20:29:28.628970Z",
     "iopub.status.idle": "2024-07-30T20:29:28.669547Z",
     "shell.execute_reply": "2024-07-30T20:29:28.668610Z"
    },
    "id": "_CrgBKSoFXYr",
    "papermill": {
     "duration": 0.05049,
     "end_time": "2024-07-30T20:29:28.672112",
     "exception": false,
     "start_time": "2024-07-30T20:29:28.621622",
     "status": "completed"
    },
    "tags": []
   },
   "outputs": [],
   "source": [
    "data = pd.read_csv('/kaggle/input/sms-spam-collection-dataset/spam.csv', encoding='cp1252')"
   ]
  },
  {
   "cell_type": "code",
   "execution_count": 4,
   "id": "1b4392cd",
   "metadata": {
    "execution": {
     "iopub.execute_input": "2024-07-30T20:29:28.686981Z",
     "iopub.status.busy": "2024-07-30T20:29:28.686588Z",
     "iopub.status.idle": "2024-07-30T20:29:28.709103Z",
     "shell.execute_reply": "2024-07-30T20:29:28.708055Z"
    },
    "id": "PJO6aVRHIITA",
    "outputId": "dee3a542-d2f4-4b20-9cbf-3bdd8fce01ba",
    "papermill": {
     "duration": 0.032329,
     "end_time": "2024-07-30T20:29:28.711212",
     "exception": false,
     "start_time": "2024-07-30T20:29:28.678883",
     "status": "completed"
    },
    "tags": []
   },
   "outputs": [
    {
     "data": {
      "text/html": [
       "<div>\n",
       "<style scoped>\n",
       "    .dataframe tbody tr th:only-of-type {\n",
       "        vertical-align: middle;\n",
       "    }\n",
       "\n",
       "    .dataframe tbody tr th {\n",
       "        vertical-align: top;\n",
       "    }\n",
       "\n",
       "    .dataframe thead th {\n",
       "        text-align: right;\n",
       "    }\n",
       "</style>\n",
       "<table border=\"1\" class=\"dataframe\">\n",
       "  <thead>\n",
       "    <tr style=\"text-align: right;\">\n",
       "      <th></th>\n",
       "      <th>v1</th>\n",
       "      <th>v2</th>\n",
       "      <th>Unnamed: 2</th>\n",
       "      <th>Unnamed: 3</th>\n",
       "      <th>Unnamed: 4</th>\n",
       "    </tr>\n",
       "  </thead>\n",
       "  <tbody>\n",
       "    <tr>\n",
       "      <th>0</th>\n",
       "      <td>ham</td>\n",
       "      <td>Go until jurong point, crazy.. Available only ...</td>\n",
       "      <td>NaN</td>\n",
       "      <td>NaN</td>\n",
       "      <td>NaN</td>\n",
       "    </tr>\n",
       "    <tr>\n",
       "      <th>1</th>\n",
       "      <td>ham</td>\n",
       "      <td>Ok lar... Joking wif u oni...</td>\n",
       "      <td>NaN</td>\n",
       "      <td>NaN</td>\n",
       "      <td>NaN</td>\n",
       "    </tr>\n",
       "    <tr>\n",
       "      <th>2</th>\n",
       "      <td>spam</td>\n",
       "      <td>Free entry in 2 a wkly comp to win FA Cup fina...</td>\n",
       "      <td>NaN</td>\n",
       "      <td>NaN</td>\n",
       "      <td>NaN</td>\n",
       "    </tr>\n",
       "    <tr>\n",
       "      <th>3</th>\n",
       "      <td>ham</td>\n",
       "      <td>U dun say so early hor... U c already then say...</td>\n",
       "      <td>NaN</td>\n",
       "      <td>NaN</td>\n",
       "      <td>NaN</td>\n",
       "    </tr>\n",
       "    <tr>\n",
       "      <th>4</th>\n",
       "      <td>ham</td>\n",
       "      <td>Nah I don't think he goes to usf, he lives aro...</td>\n",
       "      <td>NaN</td>\n",
       "      <td>NaN</td>\n",
       "      <td>NaN</td>\n",
       "    </tr>\n",
       "  </tbody>\n",
       "</table>\n",
       "</div>"
      ],
      "text/plain": [
       "     v1                                                 v2 Unnamed: 2  \\\n",
       "0   ham  Go until jurong point, crazy.. Available only ...        NaN   \n",
       "1   ham                      Ok lar... Joking wif u oni...        NaN   \n",
       "2  spam  Free entry in 2 a wkly comp to win FA Cup fina...        NaN   \n",
       "3   ham  U dun say so early hor... U c already then say...        NaN   \n",
       "4   ham  Nah I don't think he goes to usf, he lives aro...        NaN   \n",
       "\n",
       "  Unnamed: 3 Unnamed: 4  \n",
       "0        NaN        NaN  \n",
       "1        NaN        NaN  \n",
       "2        NaN        NaN  \n",
       "3        NaN        NaN  \n",
       "4        NaN        NaN  "
      ]
     },
     "execution_count": 4,
     "metadata": {},
     "output_type": "execute_result"
    }
   ],
   "source": [
    "data.head()"
   ]
  },
  {
   "cell_type": "code",
   "execution_count": 5,
   "id": "a9cd2c73",
   "metadata": {
    "execution": {
     "iopub.execute_input": "2024-07-30T20:29:28.726265Z",
     "iopub.status.busy": "2024-07-30T20:29:28.725359Z",
     "iopub.status.idle": "2024-07-30T20:29:28.736101Z",
     "shell.execute_reply": "2024-07-30T20:29:28.735095Z"
    },
    "id": "4tCSAwg1IJ6H",
    "outputId": "edad96fa-c4d4-48e7-9435-c972003e8e72",
    "papermill": {
     "duration": 0.020446,
     "end_time": "2024-07-30T20:29:28.738143",
     "exception": false,
     "start_time": "2024-07-30T20:29:28.717697",
     "status": "completed"
    },
    "tags": []
   },
   "outputs": [
    {
     "data": {
      "text/plain": [
       "v1               0\n",
       "v2               0\n",
       "Unnamed: 2    5522\n",
       "Unnamed: 3    5560\n",
       "Unnamed: 4    5566\n",
       "dtype: int64"
      ]
     },
     "execution_count": 5,
     "metadata": {},
     "output_type": "execute_result"
    }
   ],
   "source": [
    "data.isnull().sum()"
   ]
  },
  {
   "cell_type": "code",
   "execution_count": 6,
   "id": "4eed8432",
   "metadata": {
    "execution": {
     "iopub.execute_input": "2024-07-30T20:29:28.752875Z",
     "iopub.status.busy": "2024-07-30T20:29:28.752510Z",
     "iopub.status.idle": "2024-07-30T20:29:28.758579Z",
     "shell.execute_reply": "2024-07-30T20:29:28.757643Z"
    },
    "id": "BE43wlTRIoQv",
    "outputId": "91ccc42d-20d5-4d36-ca7b-5ea87cba049c",
    "papermill": {
     "duration": 0.016082,
     "end_time": "2024-07-30T20:29:28.760907",
     "exception": false,
     "start_time": "2024-07-30T20:29:28.744825",
     "status": "completed"
    },
    "tags": []
   },
   "outputs": [
    {
     "data": {
      "text/plain": [
       "(5572, 5)"
      ]
     },
     "execution_count": 6,
     "metadata": {},
     "output_type": "execute_result"
    }
   ],
   "source": [
    "data.shape"
   ]
  },
  {
   "cell_type": "markdown",
   "id": "1d020a16",
   "metadata": {
    "id": "HkoYITgoJLfZ",
    "papermill": {
     "duration": 0.006418,
     "end_time": "2024-07-30T20:29:28.774440",
     "exception": false,
     "start_time": "2024-07-30T20:29:28.768022",
     "status": "completed"
    },
    "tags": []
   },
   "source": [
    "There are a lot of missing values in unnamed 2, 3 & 4\n",
    "\n",
    "so the best practice is to removes these values."
   ]
  },
  {
   "cell_type": "code",
   "execution_count": 7,
   "id": "11a21cf6",
   "metadata": {
    "execution": {
     "iopub.execute_input": "2024-07-30T20:29:28.790003Z",
     "iopub.status.busy": "2024-07-30T20:29:28.789633Z",
     "iopub.status.idle": "2024-07-30T20:29:28.799500Z",
     "shell.execute_reply": "2024-07-30T20:29:28.798413Z"
    },
    "id": "gir6twuSJfvp",
    "papermill": {
     "duration": 0.020654,
     "end_time": "2024-07-30T20:29:28.801721",
     "exception": false,
     "start_time": "2024-07-30T20:29:28.781067",
     "status": "completed"
    },
    "tags": []
   },
   "outputs": [],
   "source": [
    "data = data.drop(columns=['Unnamed: 2', 'Unnamed: 3', 'Unnamed: 4'])"
   ]
  },
  {
   "cell_type": "markdown",
   "id": "3d182ebc",
   "metadata": {
    "papermill": {
     "duration": 0.006491,
     "end_time": "2024-07-30T20:29:28.815142",
     "exception": false,
     "start_time": "2024-07-30T20:29:28.808651",
     "status": "completed"
    },
    "tags": []
   },
   "source": [
    "## Renaming the cols"
   ]
  },
  {
   "cell_type": "code",
   "execution_count": 8,
   "id": "62b2c878",
   "metadata": {
    "execution": {
     "iopub.execute_input": "2024-07-30T20:29:28.830762Z",
     "iopub.status.busy": "2024-07-30T20:29:28.830381Z",
     "iopub.status.idle": "2024-07-30T20:29:28.843763Z",
     "shell.execute_reply": "2024-07-30T20:29:28.842775Z"
    },
    "id": "-zC-o613Ipt1",
    "outputId": "3a5fc81d-5ef3-4f9d-e107-14a6ba36b699",
    "papermill": {
     "duration": 0.023717,
     "end_time": "2024-07-30T20:29:28.845832",
     "exception": false,
     "start_time": "2024-07-30T20:29:28.822115",
     "status": "completed"
    },
    "tags": []
   },
   "outputs": [
    {
     "data": {
      "text/html": [
       "<div>\n",
       "<style scoped>\n",
       "    .dataframe tbody tr th:only-of-type {\n",
       "        vertical-align: middle;\n",
       "    }\n",
       "\n",
       "    .dataframe tbody tr th {\n",
       "        vertical-align: top;\n",
       "    }\n",
       "\n",
       "    .dataframe thead th {\n",
       "        text-align: right;\n",
       "    }\n",
       "</style>\n",
       "<table border=\"1\" class=\"dataframe\">\n",
       "  <thead>\n",
       "    <tr style=\"text-align: right;\">\n",
       "      <th></th>\n",
       "      <th>target</th>\n",
       "      <th>text</th>\n",
       "    </tr>\n",
       "  </thead>\n",
       "  <tbody>\n",
       "    <tr>\n",
       "      <th>2285</th>\n",
       "      <td>ham</td>\n",
       "      <td>Hi, wkend ok but journey terrible. Wk not good...</td>\n",
       "    </tr>\n",
       "    <tr>\n",
       "      <th>3523</th>\n",
       "      <td>ham</td>\n",
       "      <td>Yeah that'd pretty much be the best case scenario</td>\n",
       "    </tr>\n",
       "    <tr>\n",
       "      <th>4315</th>\n",
       "      <td>ham</td>\n",
       "      <td>I can't speak, bcaz mobile have problem. I can...</td>\n",
       "    </tr>\n",
       "    <tr>\n",
       "      <th>5334</th>\n",
       "      <td>ham</td>\n",
       "      <td>Garbage bags, eggs, jam, bread, hannaford whea...</td>\n",
       "    </tr>\n",
       "    <tr>\n",
       "      <th>2052</th>\n",
       "      <td>spam</td>\n",
       "      <td>Call 09094100151 to use ur mins! Calls cast 10...</td>\n",
       "    </tr>\n",
       "  </tbody>\n",
       "</table>\n",
       "</div>"
      ],
      "text/plain": [
       "     target                                               text\n",
       "2285    ham  Hi, wkend ok but journey terrible. Wk not good...\n",
       "3523    ham  Yeah that'd pretty much be the best case scenario\n",
       "4315    ham  I can't speak, bcaz mobile have problem. I can...\n",
       "5334    ham  Garbage bags, eggs, jam, bread, hannaford whea...\n",
       "2052   spam  Call 09094100151 to use ur mins! Calls cast 10..."
      ]
     },
     "execution_count": 8,
     "metadata": {},
     "output_type": "execute_result"
    }
   ],
   "source": [
    "data.rename(columns={'v1':'target','v2':'text'},inplace=True)\n",
    "data.sample(5)"
   ]
  },
  {
   "cell_type": "code",
   "execution_count": 9,
   "id": "11efd38c",
   "metadata": {
    "execution": {
     "iopub.execute_input": "2024-07-30T20:29:28.860772Z",
     "iopub.status.busy": "2024-07-30T20:29:28.860409Z",
     "iopub.status.idle": "2024-07-30T20:29:28.873910Z",
     "shell.execute_reply": "2024-07-30T20:29:28.872983Z"
    },
    "id": "ldqALc6CKzol",
    "outputId": "9b9b462f-52a9-48d3-d113-18d5a1d5fa8f",
    "papermill": {
     "duration": 0.023445,
     "end_time": "2024-07-30T20:29:28.876032",
     "exception": false,
     "start_time": "2024-07-30T20:29:28.852587",
     "status": "completed"
    },
    "tags": []
   },
   "outputs": [
    {
     "data": {
      "text/plain": [
       "403"
      ]
     },
     "execution_count": 9,
     "metadata": {},
     "output_type": "execute_result"
    }
   ],
   "source": [
    "data.duplicated().sum()"
   ]
  },
  {
   "cell_type": "code",
   "execution_count": 10,
   "id": "7429d1ec",
   "metadata": {
    "execution": {
     "iopub.execute_input": "2024-07-30T20:29:28.891423Z",
     "iopub.status.busy": "2024-07-30T20:29:28.891034Z",
     "iopub.status.idle": "2024-07-30T20:29:28.899038Z",
     "shell.execute_reply": "2024-07-30T20:29:28.898046Z"
    },
    "id": "2kCq23PAKzgC",
    "papermill": {
     "duration": 0.018361,
     "end_time": "2024-07-30T20:29:28.901350",
     "exception": false,
     "start_time": "2024-07-30T20:29:28.882989",
     "status": "completed"
    },
    "tags": []
   },
   "outputs": [],
   "source": [
    "data = data.drop_duplicates(keep='first')"
   ]
  },
  {
   "cell_type": "markdown",
   "id": "5877d66f",
   "metadata": {
    "papermill": {
     "duration": 0.006672,
     "end_time": "2024-07-30T20:29:28.915072",
     "exception": false,
     "start_time": "2024-07-30T20:29:28.908400",
     "status": "completed"
    },
    "tags": []
   },
   "source": [
    "# <p style=\"background-color:#F4A261;font-family:newtimeroman;color:#B43F3F;font-size:150%;text-align:center;border-radius:20px 60px;\">Label Encoding</p>\n"
   ]
  },
  {
   "cell_type": "code",
   "execution_count": 11,
   "id": "e909e8fc",
   "metadata": {
    "execution": {
     "iopub.execute_input": "2024-07-30T20:29:28.930809Z",
     "iopub.status.busy": "2024-07-30T20:29:28.930432Z",
     "iopub.status.idle": "2024-07-30T20:29:28.934952Z",
     "shell.execute_reply": "2024-07-30T20:29:28.933948Z"
    },
    "id": "4kWNRozgKqfz",
    "papermill": {
     "duration": 0.014941,
     "end_time": "2024-07-30T20:29:28.937031",
     "exception": false,
     "start_time": "2024-07-30T20:29:28.922090",
     "status": "completed"
    },
    "tags": []
   },
   "outputs": [],
   "source": [
    "encoder = LabelEncoder()"
   ]
  },
  {
   "cell_type": "code",
   "execution_count": 12,
   "id": "676ff36a",
   "metadata": {
    "execution": {
     "iopub.execute_input": "2024-07-30T20:29:28.952763Z",
     "iopub.status.busy": "2024-07-30T20:29:28.952063Z",
     "iopub.status.idle": "2024-07-30T20:29:28.958980Z",
     "shell.execute_reply": "2024-07-30T20:29:28.958007Z"
    },
    "id": "MNoFtaNAKzwp",
    "papermill": {
     "duration": 0.017243,
     "end_time": "2024-07-30T20:29:28.961148",
     "exception": false,
     "start_time": "2024-07-30T20:29:28.943905",
     "status": "completed"
    },
    "tags": []
   },
   "outputs": [],
   "source": [
    "data['target'] = encoder.fit_transform(data['target'])"
   ]
  },
  {
   "cell_type": "markdown",
   "id": "96019806",
   "metadata": {
    "papermill": {
     "duration": 0.006788,
     "end_time": "2024-07-30T20:29:28.974869",
     "exception": false,
     "start_time": "2024-07-30T20:29:28.968081",
     "status": "completed"
    },
    "tags": []
   },
   "source": [
    "# <p style=\"background-color:#F4A261;font-family:newtimeroman;color:#B43F3F;font-size:150%;text-align:center;border-radius:20px 60px;\">Vectorization</p>\n"
   ]
  },
  {
   "cell_type": "markdown",
   "id": "aae46a3e",
   "metadata": {
    "id": "6vurGa_H7o8r",
    "papermill": {
     "duration": 0.006763,
     "end_time": "2024-07-30T20:29:28.988518",
     "exception": false,
     "start_time": "2024-07-30T20:29:28.981755",
     "status": "completed"
    },
    "tags": []
   },
   "source": [
    "**We have a column with the text values so machine only understand numeric value so that why i am doing vectorization to convert text into a numeric values.**\n"
   ]
  },
  {
   "cell_type": "code",
   "execution_count": 13,
   "id": "60202d43",
   "metadata": {
    "execution": {
     "iopub.execute_input": "2024-07-30T20:29:29.003850Z",
     "iopub.status.busy": "2024-07-30T20:29:29.003461Z",
     "iopub.status.idle": "2024-07-30T20:29:29.122386Z",
     "shell.execute_reply": "2024-07-30T20:29:29.121504Z"
    },
    "id": "4xTdDixA6okZ",
    "papermill": {
     "duration": 0.129395,
     "end_time": "2024-07-30T20:29:29.124795",
     "exception": false,
     "start_time": "2024-07-30T20:29:28.995400",
     "status": "completed"
    },
    "tags": []
   },
   "outputs": [],
   "source": [
    "# Text vectorization using TF-IDF\n",
    "vectorizer = TfidfVectorizer(stop_words='english')\n",
    "X = vectorizer.fit_transform(data['text'])\n",
    "y = data['target']"
   ]
  },
  {
   "cell_type": "markdown",
   "id": "4a002ae9",
   "metadata": {
    "papermill": {
     "duration": 0.006563,
     "end_time": "2024-07-30T20:29:29.138283",
     "exception": false,
     "start_time": "2024-07-30T20:29:29.131720",
     "status": "completed"
    },
    "tags": []
   },
   "source": [
    "# <p style=\"background-color:#F4A261;font-family:newtimeroman;color:#B43F3F;font-size:150%;text-align:center;border-radius:20px 60px;\">Model Training</p>\n"
   ]
  },
  {
   "cell_type": "code",
   "execution_count": 14,
   "id": "a46b6b44",
   "metadata": {
    "execution": {
     "iopub.execute_input": "2024-07-30T20:29:29.153453Z",
     "iopub.status.busy": "2024-07-30T20:29:29.153064Z",
     "iopub.status.idle": "2024-07-30T20:29:29.160003Z",
     "shell.execute_reply": "2024-07-30T20:29:29.159215Z"
    },
    "id": "U7qebxoo7ilP",
    "papermill": {
     "duration": 0.017027,
     "end_time": "2024-07-30T20:29:29.162096",
     "exception": false,
     "start_time": "2024-07-30T20:29:29.145069",
     "status": "completed"
    },
    "tags": []
   },
   "outputs": [],
   "source": [
    "# Split the data into training and testing sets\n",
    "X_train, X_test, y_train, y_test = train_test_split(X, y, test_size=0.3, random_state=42)"
   ]
  },
  {
   "cell_type": "code",
   "execution_count": 15,
   "id": "62fe416b",
   "metadata": {
    "execution": {
     "iopub.execute_input": "2024-07-30T20:29:29.177558Z",
     "iopub.status.busy": "2024-07-30T20:29:29.177190Z",
     "iopub.status.idle": "2024-07-30T20:29:29.411185Z",
     "shell.execute_reply": "2024-07-30T20:29:29.410202Z"
    },
    "id": "1y3s5duF7oDd",
    "outputId": "8b879eab-8554-4252-eb2c-95b3b2ebab78",
    "papermill": {
     "duration": 0.244099,
     "end_time": "2024-07-30T20:29:29.413485",
     "exception": false,
     "start_time": "2024-07-30T20:29:29.169386",
     "status": "completed"
    },
    "tags": []
   },
   "outputs": [
    {
     "data": {
      "text/html": [
       "<style>#sk-container-id-1 {color: black;background-color: white;}#sk-container-id-1 pre{padding: 0;}#sk-container-id-1 div.sk-toggleable {background-color: white;}#sk-container-id-1 label.sk-toggleable__label {cursor: pointer;display: block;width: 100%;margin-bottom: 0;padding: 0.3em;box-sizing: border-box;text-align: center;}#sk-container-id-1 label.sk-toggleable__label-arrow:before {content: \"▸\";float: left;margin-right: 0.25em;color: #696969;}#sk-container-id-1 label.sk-toggleable__label-arrow:hover:before {color: black;}#sk-container-id-1 div.sk-estimator:hover label.sk-toggleable__label-arrow:before {color: black;}#sk-container-id-1 div.sk-toggleable__content {max-height: 0;max-width: 0;overflow: hidden;text-align: left;background-color: #f0f8ff;}#sk-container-id-1 div.sk-toggleable__content pre {margin: 0.2em;color: black;border-radius: 0.25em;background-color: #f0f8ff;}#sk-container-id-1 input.sk-toggleable__control:checked~div.sk-toggleable__content {max-height: 200px;max-width: 100%;overflow: auto;}#sk-container-id-1 input.sk-toggleable__control:checked~label.sk-toggleable__label-arrow:before {content: \"▾\";}#sk-container-id-1 div.sk-estimator input.sk-toggleable__control:checked~label.sk-toggleable__label {background-color: #d4ebff;}#sk-container-id-1 div.sk-label input.sk-toggleable__control:checked~label.sk-toggleable__label {background-color: #d4ebff;}#sk-container-id-1 input.sk-hidden--visually {border: 0;clip: rect(1px 1px 1px 1px);clip: rect(1px, 1px, 1px, 1px);height: 1px;margin: -1px;overflow: hidden;padding: 0;position: absolute;width: 1px;}#sk-container-id-1 div.sk-estimator {font-family: monospace;background-color: #f0f8ff;border: 1px dotted black;border-radius: 0.25em;box-sizing: border-box;margin-bottom: 0.5em;}#sk-container-id-1 div.sk-estimator:hover {background-color: #d4ebff;}#sk-container-id-1 div.sk-parallel-item::after {content: \"\";width: 100%;border-bottom: 1px solid gray;flex-grow: 1;}#sk-container-id-1 div.sk-label:hover label.sk-toggleable__label {background-color: #d4ebff;}#sk-container-id-1 div.sk-serial::before {content: \"\";position: absolute;border-left: 1px solid gray;box-sizing: border-box;top: 0;bottom: 0;left: 50%;z-index: 0;}#sk-container-id-1 div.sk-serial {display: flex;flex-direction: column;align-items: center;background-color: white;padding-right: 0.2em;padding-left: 0.2em;position: relative;}#sk-container-id-1 div.sk-item {position: relative;z-index: 1;}#sk-container-id-1 div.sk-parallel {display: flex;align-items: stretch;justify-content: center;background-color: white;position: relative;}#sk-container-id-1 div.sk-item::before, #sk-container-id-1 div.sk-parallel-item::before {content: \"\";position: absolute;border-left: 1px solid gray;box-sizing: border-box;top: 0;bottom: 0;left: 50%;z-index: -1;}#sk-container-id-1 div.sk-parallel-item {display: flex;flex-direction: column;z-index: 1;position: relative;background-color: white;}#sk-container-id-1 div.sk-parallel-item:first-child::after {align-self: flex-end;width: 50%;}#sk-container-id-1 div.sk-parallel-item:last-child::after {align-self: flex-start;width: 50%;}#sk-container-id-1 div.sk-parallel-item:only-child::after {width: 0;}#sk-container-id-1 div.sk-dashed-wrapped {border: 1px dashed gray;margin: 0 0.4em 0.5em 0.4em;box-sizing: border-box;padding-bottom: 0.4em;background-color: white;}#sk-container-id-1 div.sk-label label {font-family: monospace;font-weight: bold;display: inline-block;line-height: 1.2em;}#sk-container-id-1 div.sk-label-container {text-align: center;}#sk-container-id-1 div.sk-container {/* jupyter's `normalize.less` sets `[hidden] { display: none; }` but bootstrap.min.css set `[hidden] { display: none !important; }` so we also need the `!important` here to be able to override the default hidden behavior on the sphinx rendered scikit-learn.org. See: https://github.com/scikit-learn/scikit-learn/issues/21755 */display: inline-block !important;position: relative;}#sk-container-id-1 div.sk-text-repr-fallback {display: none;}</style><div id=\"sk-container-id-1\" class=\"sk-top-container\"><div class=\"sk-text-repr-fallback\"><pre>DecisionTreeClassifier()</pre><b>In a Jupyter environment, please rerun this cell to show the HTML representation or trust the notebook. <br />On GitHub, the HTML representation is unable to render, please try loading this page with nbviewer.org.</b></div><div class=\"sk-container\" hidden><div class=\"sk-item\"><div class=\"sk-estimator sk-toggleable\"><input class=\"sk-toggleable__control sk-hidden--visually\" id=\"sk-estimator-id-1\" type=\"checkbox\" checked><label for=\"sk-estimator-id-1\" class=\"sk-toggleable__label sk-toggleable__label-arrow\">DecisionTreeClassifier</label><div class=\"sk-toggleable__content\"><pre>DecisionTreeClassifier()</pre></div></div></div></div></div>"
      ],
      "text/plain": [
       "DecisionTreeClassifier()"
      ]
     },
     "execution_count": 15,
     "metadata": {},
     "output_type": "execute_result"
    }
   ],
   "source": [
    "# Train a Decision Tree classifier\n",
    "clf = DecisionTreeClassifier()\n",
    "clf.fit(X_train, y_train)"
   ]
  },
  {
   "cell_type": "code",
   "execution_count": 16,
   "id": "d9a39a42",
   "metadata": {
    "execution": {
     "iopub.execute_input": "2024-07-30T20:29:29.429798Z",
     "iopub.status.busy": "2024-07-30T20:29:29.429397Z",
     "iopub.status.idle": "2024-07-30T20:29:29.435345Z",
     "shell.execute_reply": "2024-07-30T20:29:29.434512Z"
    },
    "id": "GEUzFWF88AhO",
    "papermill": {
     "duration": 0.016983,
     "end_time": "2024-07-30T20:29:29.437632",
     "exception": false,
     "start_time": "2024-07-30T20:29:29.420649",
     "status": "completed"
    },
    "tags": []
   },
   "outputs": [],
   "source": [
    "# Make predictions\n",
    "y_pred = clf.predict(X_test)"
   ]
  },
  {
   "cell_type": "markdown",
   "id": "edb63d93",
   "metadata": {
    "papermill": {
     "duration": 0.006891,
     "end_time": "2024-07-30T20:29:29.452781",
     "exception": false,
     "start_time": "2024-07-30T20:29:29.445890",
     "status": "completed"
    },
    "tags": []
   },
   "source": [
    "# <p style=\"background-color:#F4A261;font-family:newtimeroman;color:#B43F3F;font-size:150%;text-align:center;border-radius:20px 60px;\">Confusion matrix</p>\n"
   ]
  },
  {
   "cell_type": "code",
   "execution_count": 17,
   "id": "b3f0a4b4",
   "metadata": {
    "execution": {
     "iopub.execute_input": "2024-07-30T20:29:29.468581Z",
     "iopub.status.busy": "2024-07-30T20:29:29.468202Z",
     "iopub.status.idle": "2024-07-30T20:29:29.755566Z",
     "shell.execute_reply": "2024-07-30T20:29:29.754524Z"
    },
    "papermill": {
     "duration": 0.298016,
     "end_time": "2024-07-30T20:29:29.757865",
     "exception": false,
     "start_time": "2024-07-30T20:29:29.459849",
     "status": "completed"
    },
    "tags": []
   },
   "outputs": [
    {
     "data": {
      "image/png": "[encoded data removed]",
      "text/plain": [
       "<Figure size 800x600 with 2 Axes>"
      ]
     },
     "metadata": {},
     "output_type": "display_data"
    }
   ],
   "source": [
    "cm = confusion_matrix(y_test, y_pred)\n",
    "plt.figure(figsize=(8, 6))\n",
    "sns.heatmap(cm, annot=True, fmt='d', cmap=['#F4A261','#E76F51'])\n",
    "plt.xlabel('Predicted')\n",
    "plt.ylabel('Actual')\n",
    "plt.title('Confusion Matrix')\n",
    "plt.show()"
   ]
  },
  {
   "cell_type": "code",
   "execution_count": 18,
   "id": "ad917802",
   "metadata": {
    "execution": {
     "iopub.execute_input": "2024-07-30T20:29:29.774781Z",
     "iopub.status.busy": "2024-07-30T20:29:29.774425Z",
     "iopub.status.idle": "2024-07-30T20:29:29.798557Z",
     "shell.execute_reply": "2024-07-30T20:29:29.797551Z"
    },
    "id": "j2WUoGfQ8B-9",
    "outputId": "f89d488b-68e8-49a5-e088-4ea9a521f434",
    "papermill": {
     "duration": 0.035359,
     "end_time": "2024-07-30T20:29:29.800812",
     "exception": false,
     "start_time": "2024-07-30T20:29:29.765453",
     "status": "completed"
    },
    "tags": []
   },
   "outputs": [
    {
     "data": {
      "text/html": [
       "<div>\n",
       "<style scoped>\n",
       "    .dataframe tbody tr th:only-of-type {\n",
       "        vertical-align: middle;\n",
       "    }\n",
       "\n",
       "    .dataframe tbody tr th {\n",
       "        vertical-align: top;\n",
       "    }\n",
       "\n",
       "    .dataframe thead th {\n",
       "        text-align: right;\n",
       "    }\n",
       "</style>\n",
       "<table border=\"1\" class=\"dataframe\">\n",
       "  <thead>\n",
       "    <tr style=\"text-align: right;\">\n",
       "      <th></th>\n",
       "      <th>precision</th>\n",
       "      <th>recall</th>\n",
       "      <th>f1-score</th>\n",
       "      <th>support</th>\n",
       "    </tr>\n",
       "  </thead>\n",
       "  <tbody>\n",
       "    <tr>\n",
       "      <th>0</th>\n",
       "      <td>0.968935</td>\n",
       "      <td>0.984222</td>\n",
       "      <td>0.976519</td>\n",
       "      <td>1331.000000</td>\n",
       "    </tr>\n",
       "    <tr>\n",
       "      <th>1</th>\n",
       "      <td>0.894472</td>\n",
       "      <td>0.809091</td>\n",
       "      <td>0.849642</td>\n",
       "      <td>220.000000</td>\n",
       "    </tr>\n",
       "    <tr>\n",
       "      <th>accuracy</th>\n",
       "      <td>0.959381</td>\n",
       "      <td>0.959381</td>\n",
       "      <td>0.959381</td>\n",
       "      <td>0.959381</td>\n",
       "    </tr>\n",
       "    <tr>\n",
       "      <th>macro avg</th>\n",
       "      <td>0.931704</td>\n",
       "      <td>0.896657</td>\n",
       "      <td>0.913080</td>\n",
       "      <td>1551.000000</td>\n",
       "    </tr>\n",
       "    <tr>\n",
       "      <th>weighted avg</th>\n",
       "      <td>0.958373</td>\n",
       "      <td>0.959381</td>\n",
       "      <td>0.958522</td>\n",
       "      <td>1551.000000</td>\n",
       "    </tr>\n",
       "  </tbody>\n",
       "</table>\n",
       "</div>"
      ],
      "text/plain": [
       "              precision    recall  f1-score      support\n",
       "0              0.968935  0.984222  0.976519  1331.000000\n",
       "1              0.894472  0.809091  0.849642   220.000000\n",
       "accuracy       0.959381  0.959381  0.959381     0.959381\n",
       "macro avg      0.931704  0.896657  0.913080  1551.000000\n",
       "weighted avg   0.958373  0.959381  0.958522  1551.000000"
      ]
     },
     "execution_count": 18,
     "metadata": {},
     "output_type": "execute_result"
    }
   ],
   "source": [
    "pd.DataFrame(classification_report(y_test, y_pred, output_dict=True)).transpose()"
   ]
  },
  {
   "cell_type": "code",
   "execution_count": null,
   "id": "aeefb1f7",
   "metadata": {
    "papermill": {
     "duration": 0.007343,
     "end_time": "2024-07-30T20:29:29.816073",
     "exception": false,
     "start_time": "2024-07-30T20:29:29.808730",
     "status": "completed"
    },
    "tags": []
   },
   "outputs": [],
   "source": []
  }
 ],
 "metadata": {
  "colab": {
   "provenance": []
  },
  "kaggle": {
   "accelerator": "none",
   "dataSources": [
    {
     "datasetId": 483,
     "sourceId": 982,
     "sourceType": "datasetVersion"
    }
   ],
   "dockerImageVersionId": 30746,
   "isGpuEnabled": false,
   "isInternetEnabled": true,
   "language": "python",
   "sourceType": "notebook"
  },
  "kernelspec": {
   "display_name": "Python 3",
   "language": "python",
   "name": "python3"
  },
  "language_info": {
   "codemirror_mode": {
    "name": "ipython",
    "version": 3
   },
   "file_extension": ".py",
   "mimetype": "text/x-python",
   "name": "python",
   "nbconvert_exporter": "python",
   "pygments_lexer": "ipython3",
   "version": "3.10.13"
  },
  "papermill": {
   "default_parameters": {},
   "duration": 6.999203,
   "end_time": "2024-07-30T20:29:30.444270",
   "environment_variables": {},
   "exception": null,
   "input_path": "__notebook__.ipynb",
   "output_path": "__notebook__.ipynb",
   "parameters": {},
   "start_time": "2024-07-30T20:29:23.445067",
   "version": "2.5.0"
  }
 },
 "nbformat": 4,
 "nbformat_minor": 5
}
