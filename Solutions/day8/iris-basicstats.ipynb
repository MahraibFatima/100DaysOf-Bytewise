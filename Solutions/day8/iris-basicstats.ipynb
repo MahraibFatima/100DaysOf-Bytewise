{
 "cells": [
  {
   "cell_type": "code",
   "execution_count": 1,
   "id": "8fc33661",
   "metadata": {
    "_cell_guid": "b1076dfc-b9ad-4769-8c92-a6c4dae69d19",
    "_uuid": "8f2839f25d086af736a60e9eeb907d3b93b6e0e5",
    "execution": {
     "iopub.execute_input": "2024-07-03T09:44:54.635617Z",
     "iopub.status.busy": "2024-07-03T09:44:54.635159Z",
     "iopub.status.idle": "2024-07-03T09:44:56.760551Z",
     "shell.execute_reply": "2024-07-03T09:44:56.759136Z"
    },
    "papermill": {
     "duration": 2.13806,
     "end_time": "2024-07-03T09:44:56.763084",
     "exception": false,
     "start_time": "2024-07-03T09:44:54.625024",
     "status": "completed"
    },
    "tags": []
   },
   "outputs": [
    {
     "name": "stdout",
     "output_type": "stream",
     "text": [
      "/kaggle/input/iris-flower-dataset/IRIS.csv\n"
     ]
    }
   ],
   "source": [
    "import numpy as np \n",
    "import pandas as pd \n",
    "from scipy.stats import kde\n",
    "from scipy import stats\n",
    "from scipy.stats import norm\n",
    "import matplotlib.pyplot as plt\n",
    "\n",
    "import os\n",
    "for dirname, _, filenames in os.walk('/kaggle/input'):\n",
    "    for filename in filenames:\n",
    "        print(os.path.join(dirname, filename))\n"
   ]
  },
  {
   "cell_type": "code",
   "execution_count": 2,
   "id": "dc1904a9",
   "metadata": {
    "execution": {
     "iopub.execute_input": "2024-07-03T09:44:56.781418Z",
     "iopub.status.busy": "2024-07-03T09:44:56.780848Z",
     "iopub.status.idle": "2024-07-03T09:44:56.803403Z",
     "shell.execute_reply": "2024-07-03T09:44:56.802384Z"
    },
    "papermill": {
     "duration": 0.034543,
     "end_time": "2024-07-03T09:44:56.806122",
     "exception": false,
     "start_time": "2024-07-03T09:44:56.771579",
     "status": "completed"
    },
    "tags": []
   },
   "outputs": [],
   "source": [
    "iris = pd.read_csv('/kaggle/input/iris-flower-dataset/IRIS.csv')"
   ]
  },
  {
   "cell_type": "code",
   "execution_count": 3,
   "id": "89d74f63",
   "metadata": {
    "execution": {
     "iopub.execute_input": "2024-07-03T09:44:56.823438Z",
     "iopub.status.busy": "2024-07-03T09:44:56.823005Z",
     "iopub.status.idle": "2024-07-03T09:44:56.851533Z",
     "shell.execute_reply": "2024-07-03T09:44:56.850309Z"
    },
    "papermill": {
     "duration": 0.040229,
     "end_time": "2024-07-03T09:44:56.854205",
     "exception": false,
     "start_time": "2024-07-03T09:44:56.813976",
     "status": "completed"
    },
    "tags": []
   },
   "outputs": [
    {
     "data": {
      "text/html": [
       "<div>\n",
       "<style scoped>\n",
       "    .dataframe tbody tr th:only-of-type {\n",
       "        vertical-align: middle;\n",
       "    }\n",
       "\n",
       "    .dataframe tbody tr th {\n",
       "        vertical-align: top;\n",
       "    }\n",
       "\n",
       "    .dataframe thead th {\n",
       "        text-align: right;\n",
       "    }\n",
       "</style>\n",
       "<table border=\"1\" class=\"dataframe\">\n",
       "  <thead>\n",
       "    <tr style=\"text-align: right;\">\n",
       "      <th></th>\n",
       "      <th>sepal_length</th>\n",
       "      <th>sepal_width</th>\n",
       "      <th>petal_length</th>\n",
       "      <th>petal_width</th>\n",
       "      <th>species</th>\n",
       "    </tr>\n",
       "  </thead>\n",
       "  <tbody>\n",
       "    <tr>\n",
       "      <th>0</th>\n",
       "      <td>5.1</td>\n",
       "      <td>3.5</td>\n",
       "      <td>1.4</td>\n",
       "      <td>0.2</td>\n",
       "      <td>Iris-setosa</td>\n",
       "    </tr>\n",
       "    <tr>\n",
       "      <th>1</th>\n",
       "      <td>4.9</td>\n",
       "      <td>3.0</td>\n",
       "      <td>1.4</td>\n",
       "      <td>0.2</td>\n",
       "      <td>Iris-setosa</td>\n",
       "    </tr>\n",
       "    <tr>\n",
       "      <th>2</th>\n",
       "      <td>4.7</td>\n",
       "      <td>3.2</td>\n",
       "      <td>1.3</td>\n",
       "      <td>0.2</td>\n",
       "      <td>Iris-setosa</td>\n",
       "    </tr>\n",
       "    <tr>\n",
       "      <th>3</th>\n",
       "      <td>4.6</td>\n",
       "      <td>3.1</td>\n",
       "      <td>1.5</td>\n",
       "      <td>0.2</td>\n",
       "      <td>Iris-setosa</td>\n",
       "    </tr>\n",
       "    <tr>\n",
       "      <th>4</th>\n",
       "      <td>5.0</td>\n",
       "      <td>3.6</td>\n",
       "      <td>1.4</td>\n",
       "      <td>0.2</td>\n",
       "      <td>Iris-setosa</td>\n",
       "    </tr>\n",
       "  </tbody>\n",
       "</table>\n",
       "</div>"
      ],
      "text/plain": [
       "   sepal_length  sepal_width  petal_length  petal_width      species\n",
       "0           5.1          3.5           1.4          0.2  Iris-setosa\n",
       "1           4.9          3.0           1.4          0.2  Iris-setosa\n",
       "2           4.7          3.2           1.3          0.2  Iris-setosa\n",
       "3           4.6          3.1           1.5          0.2  Iris-setosa\n",
       "4           5.0          3.6           1.4          0.2  Iris-setosa"
      ]
     },
     "execution_count": 3,
     "metadata": {},
     "output_type": "execute_result"
    }
   ],
   "source": [
    "iris.head()"
   ]
  },
  {
   "cell_type": "markdown",
   "id": "4761bc18",
   "metadata": {
    "papermill": {
     "duration": 0.007731,
     "end_time": "2024-07-03T09:44:56.870162",
     "exception": false,
     "start_time": "2024-07-03T09:44:56.862431",
     "status": "completed"
    },
    "tags": []
   },
   "source": [
    "### Calculate the mean, median, and mode of the sepal lengths in the Iris dataset."
   ]
  },
  {
   "cell_type": "code",
   "execution_count": 4,
   "id": "81b2bffe",
   "metadata": {
    "execution": {
     "iopub.execute_input": "2024-07-03T09:44:56.888013Z",
     "iopub.status.busy": "2024-07-03T09:44:56.887566Z",
     "iopub.status.idle": "2024-07-03T09:44:56.901473Z",
     "shell.execute_reply": "2024-07-03T09:44:56.900190Z"
    },
    "papermill": {
     "duration": 0.025938,
     "end_time": "2024-07-03T09:44:56.904081",
     "exception": false,
     "start_time": "2024-07-03T09:44:56.878143",
     "status": "completed"
    },
    "tags": []
   },
   "outputs": [
    {
     "name": "stdout",
     "output_type": "stream",
     "text": [
      "Mean: 5.843333333333334\n",
      "Median: 5.8\n",
      "ModeResult(mode=5.0, count=10)\n"
     ]
    }
   ],
   "source": [
    "print(\"Mean:\",np.mean(iris['sepal_length']))\n",
    "print(\"Median:\",np.median(iris['sepal_length']))\n",
    "print(stats.mode(iris['sepal_length']))\n"
   ]
  },
  {
   "cell_type": "markdown",
   "id": "a524ff61",
   "metadata": {
    "papermill": {
     "duration": 0.008304,
     "end_time": "2024-07-03T09:44:56.920868",
     "exception": false,
     "start_time": "2024-07-03T09:44:56.912564",
     "status": "completed"
    },
    "tags": []
   },
   "source": [
    "### Calculate the variance and standard deviation of the petal widths in the Iris dataset."
   ]
  },
  {
   "cell_type": "code",
   "execution_count": 5,
   "id": "3fc773bd",
   "metadata": {
    "execution": {
     "iopub.execute_input": "2024-07-03T09:44:56.939887Z",
     "iopub.status.busy": "2024-07-03T09:44:56.939498Z",
     "iopub.status.idle": "2024-07-03T09:44:56.946180Z",
     "shell.execute_reply": "2024-07-03T09:44:56.944900Z"
    },
    "papermill": {
     "duration": 0.019448,
     "end_time": "2024-07-03T09:44:56.948924",
     "exception": false,
     "start_time": "2024-07-03T09:44:56.929476",
     "status": "completed"
    },
    "tags": []
   },
   "outputs": [
    {
     "name": "stdout",
     "output_type": "stream",
     "text": [
      "Variance:  0.5785315555555555\n"
     ]
    }
   ],
   "source": [
    "print(\"Variance: \", np.var(iris[\"petal_width\"]))"
   ]
  },
  {
   "cell_type": "code",
   "execution_count": 6,
   "id": "1bf5ea56",
   "metadata": {
    "execution": {
     "iopub.execute_input": "2024-07-03T09:44:56.967781Z",
     "iopub.status.busy": "2024-07-03T09:44:56.966999Z",
     "iopub.status.idle": "2024-07-03T09:44:56.973371Z",
     "shell.execute_reply": "2024-07-03T09:44:56.972258Z"
    },
    "papermill": {
     "duration": 0.018799,
     "end_time": "2024-07-03T09:44:56.975970",
     "exception": false,
     "start_time": "2024-07-03T09:44:56.957171",
     "status": "completed"
    },
    "tags": []
   },
   "outputs": [
    {
     "name": "stdout",
     "output_type": "stream",
     "text": [
      "std:  0.7606126185881716\n"
     ]
    }
   ],
   "source": [
    "print(\"std: \",np.std(iris[\"petal_width\"]))"
   ]
  },
  {
   "cell_type": "markdown",
   "id": "a599c098",
   "metadata": {
    "papermill": {
     "duration": 0.008004,
     "end_time": "2024-07-03T09:44:56.992452",
     "exception": false,
     "start_time": "2024-07-03T09:44:56.984448",
     "status": "completed"
    },
    "tags": []
   },
   "source": [
    "### Create a summary table that includes the mean, median, variance, and standard deviation for all numerical features in the dataset"
   ]
  },
  {
   "cell_type": "code",
   "execution_count": 7,
   "id": "24f5523f",
   "metadata": {
    "execution": {
     "iopub.execute_input": "2024-07-03T09:44:57.011621Z",
     "iopub.status.busy": "2024-07-03T09:44:57.010457Z",
     "iopub.status.idle": "2024-07-03T09:44:57.037532Z",
     "shell.execute_reply": "2024-07-03T09:44:57.035539Z"
    },
    "papermill": {
     "duration": 0.039935,
     "end_time": "2024-07-03T09:44:57.040790",
     "exception": false,
     "start_time": "2024-07-03T09:44:57.000855",
     "status": "completed"
    },
    "tags": []
   },
   "outputs": [
    {
     "name": "stdout",
     "output_type": "stream",
     "text": [
      "       sepal_length  sepal_width  petal_length  petal_width\n",
      "count        150.00       150.00        150.00       150.00\n",
      "mean           5.84         3.05          3.76         1.20\n",
      "std            0.83         0.43          1.76         0.76\n",
      "min            4.30         2.00          1.00         0.10\n",
      "25%            5.10         2.80          1.60         0.30\n",
      "50%            5.80         3.00          4.35         1.30\n",
      "75%            6.40         3.30          5.10         1.80\n",
      "max            7.90         4.40          6.90         2.50\n"
     ]
    }
   ],
   "source": [
    "numerical_features = iris.select_dtypes(include=[np.number])  # Select numerical columns\n",
    "summary_stats = numerical_features.describe(percentiles=[0.25, 0.5, 0.75])  # Calculate statistics\n",
    "\n",
    "print(summary_stats.round(2))"
   ]
  },
  {
   "cell_type": "markdown",
   "id": "5cbb3771",
   "metadata": {
    "papermill": {
     "duration": 0.008341,
     "end_time": "2024-07-03T09:44:57.058039",
     "exception": false,
     "start_time": "2024-07-03T09:44:57.049698",
     "status": "completed"
    },
    "tags": []
   },
   "source": [
    "###  Define a random variable for the sepal length and calculate the probability distribution of sepal lengths."
   ]
  },
  {
   "cell_type": "code",
   "execution_count": 8,
   "id": "5400d6c1",
   "metadata": {
    "execution": {
     "iopub.execute_input": "2024-07-03T09:44:57.077346Z",
     "iopub.status.busy": "2024-07-03T09:44:57.076878Z",
     "iopub.status.idle": "2024-07-03T09:44:57.088358Z",
     "shell.execute_reply": "2024-07-03T09:44:57.087032Z"
    },
    "papermill": {
     "duration": 0.024264,
     "end_time": "2024-07-03T09:44:57.091013",
     "exception": false,
     "start_time": "2024-07-03T09:44:57.066749",
     "status": "completed"
    },
    "tags": []
   },
   "outputs": [
    {
     "name": "stdout",
     "output_type": "stream",
     "text": [
      "Probability of sepal length: 0.4206733692833103\n"
     ]
    }
   ],
   "source": [
    "mu = 5.84  \n",
    "sigma = 0.83\n",
    "\n",
    "X = norm(loc=mu, scale=sigma)\n",
    "print(f\"Probability of sepal length:\", X.cdf(6) - X.cdf(5))"
   ]
  },
  {
   "cell_type": "markdown",
   "id": "bf8bb226",
   "metadata": {
    "papermill": {
     "duration": 0.009093,
     "end_time": "2024-07-03T09:44:57.109096",
     "exception": false,
     "start_time": "2024-07-03T09:44:57.100003",
     "status": "completed"
    },
    "tags": []
   },
   "source": [
    "### Plot the probability distribution of sepal lengths using a histogram."
   ]
  },
  {
   "cell_type": "code",
   "execution_count": 9,
   "id": "b6b136ea",
   "metadata": {
    "execution": {
     "iopub.execute_input": "2024-07-03T09:44:57.129467Z",
     "iopub.status.busy": "2024-07-03T09:44:57.128430Z",
     "iopub.status.idle": "2024-07-03T09:44:57.408301Z",
     "shell.execute_reply": "2024-07-03T09:44:57.407186Z"
    },
    "papermill": {
     "duration": 0.292464,
     "end_time": "2024-07-03T09:44:57.410894",
     "exception": false,
     "start_time": "2024-07-03T09:44:57.118430",
     "status": "completed"
    },
    "tags": []
   },
   "outputs": [
    {
     "data": {
      "image/png": "[encoded data removed]",
      "text/plain": [
       "<Figure size 640x480 with 1 Axes>"
      ]
     },
     "metadata": {},
     "output_type": "display_data"
    }
   ],
   "source": [
    "sepal_length = iris[\"sepal_length\"]\n",
    "\n",
    "plt.hist(sepal_length)\n",
    "plt.xlabel(\"Sepal Length (cm)\")\n",
    "plt.ylabel(\"Frequency\")\n",
    "plt.title(\"Sepal Length Distribution (Histogram)\")\n",
    "plt.show()"
   ]
  },
  {
   "cell_type": "markdown",
   "id": "f40f9ea0",
   "metadata": {
    "papermill": {
     "duration": 0.008675,
     "end_time": "2024-07-03T09:44:57.428933",
     "exception": false,
     "start_time": "2024-07-03T09:44:57.420258",
     "status": "completed"
    },
    "tags": []
   },
   "source": [
    "### Calculate the cumulative distribution function (CDF) for the petal lengths and plot it."
   ]
  },
  {
   "cell_type": "code",
   "execution_count": 10,
   "id": "b940c9e4",
   "metadata": {
    "execution": {
     "iopub.execute_input": "2024-07-03T09:44:57.449817Z",
     "iopub.status.busy": "2024-07-03T09:44:57.449417Z",
     "iopub.status.idle": "2024-07-03T09:44:57.707616Z",
     "shell.execute_reply": "2024-07-03T09:44:57.706344Z"
    },
    "papermill": {
     "duration": 0.271921,
     "end_time": "2024-07-03T09:44:57.710355",
     "exception": false,
     "start_time": "2024-07-03T09:44:57.438434",
     "status": "completed"
    },
    "tags": []
   },
   "outputs": [
    {
     "data": {
      "image/png": "[encoded data removed]",
      "text/plain": [
       "<Figure size 640x480 with 1 Axes>"
      ]
     },
     "metadata": {},
     "output_type": "display_data"
    }
   ],
   "source": [
    "petal_length = iris[\"petal_length\"]\n",
    "sorted_petal_length = sorted(petal_length)\n",
    "cdf = [sorted_petal_length.index(p) / (len(sorted_petal_length) - 1) for p in sorted_petal_length]\n",
    "\n",
    "plt.plot(sorted_petal_length, cdf)\n",
    "plt.xlabel(\"Petal Length (cm)\")\n",
    "plt.ylabel(\"Cumulative Probability\")\n",
    "plt.title(\"Cumulative Distribution Function (CDF) of Petal Lengths\")\n",
    "plt.grid(True)\n",
    "plt.show()"
   ]
  },
  {
   "cell_type": "markdown",
   "id": "f07ccb4f",
   "metadata": {
    "papermill": {
     "duration": 0.00937,
     "end_time": "2024-07-03T09:44:57.730071",
     "exception": false,
     "start_time": "2024-07-03T09:44:57.720701",
     "status": "completed"
    },
    "tags": []
   },
   "source": [
    "### Calculate and plot the probability density function (PDF) for sepal width."
   ]
  },
  {
   "cell_type": "code",
   "execution_count": 11,
   "id": "7646f783",
   "metadata": {
    "execution": {
     "iopub.execute_input": "2024-07-03T09:44:57.751541Z",
     "iopub.status.busy": "2024-07-03T09:44:57.751077Z",
     "iopub.status.idle": "2024-07-03T09:44:58.072434Z",
     "shell.execute_reply": "2024-07-03T09:44:58.070690Z"
    },
    "papermill": {
     "duration": 0.335596,
     "end_time": "2024-07-03T09:44:58.075297",
     "exception": false,
     "start_time": "2024-07-03T09:44:57.739701",
     "status": "completed"
    },
    "tags": []
   },
   "outputs": [
    {
     "name": "stderr",
     "output_type": "stream",
     "text": [
      "/tmp/ipykernel_18/2321066010.py:2: DeprecationWarning: Please use `gaussian_kde` from the `scipy.stats` namespace, the `scipy.stats.kde` namespace is deprecated.\n",
      "  kde_dist = kde.gaussian_kde(sepal_width)\n"
     ]
    },
    {
     "data": {
      "image/png": "[encoded data removed]",
      "text/plain": [
       "<Figure size 640x480 with 1 Axes>"
      ]
     },
     "metadata": {},
     "output_type": "display_data"
    }
   ],
   "source": [
    "sepal_width = iris[\"sepal_width\"]\n",
    "kde_dist = kde.gaussian_kde(sepal_width)\n",
    "x = np.linspace(min(sepal_width), max(sepal_width), 100)  \n",
    "\n",
    "density = kde_dist(x)\n",
    "\n",
    "plt.plot(x, density)\n",
    "plt.xlabel(\"Sepal Width (cm)\")\n",
    "plt.ylabel(\"Density\")\n",
    "plt.title(\"Probability Density Function (PDF) of Sepal Width\")\n",
    "plt.grid(True)\n",
    "plt.show()"
   ]
  },
  {
   "cell_type": "markdown",
   "id": "54c878ec",
   "metadata": {
    "papermill": {
     "duration": 0.010379,
     "end_time": "2024-07-03T09:44:58.096938",
     "exception": false,
     "start_time": "2024-07-03T09:44:58.086559",
     "status": "completed"
    },
    "tags": []
   },
   "source": [
    "### Determine the probability of a randomly selected iris flower having a petal length greater than a given value.\n"
   ]
  },
  {
   "cell_type": "code",
   "execution_count": 12,
   "id": "35065f13",
   "metadata": {
    "execution": {
     "iopub.execute_input": "2024-07-03T09:44:58.120998Z",
     "iopub.status.busy": "2024-07-03T09:44:58.120580Z",
     "iopub.status.idle": "2024-07-03T09:44:58.129449Z",
     "shell.execute_reply": "2024-07-03T09:44:58.128010Z"
    },
    "papermill": {
     "duration": 0.023564,
     "end_time": "2024-07-03T09:44:58.132127",
     "exception": false,
     "start_time": "2024-07-03T09:44:58.108563",
     "status": "completed"
    },
    "tags": []
   },
   "outputs": [
    {
     "name": "stdout",
     "output_type": "stream",
     "text": [
      "Probability of petal length > 4.0cm: 0.5600\n"
     ]
    }
   ],
   "source": [
    "petal_length = iris[\"petal_length\"]\n",
    "threshold_value =  4.00\n",
    "\n",
    "greater_than_threshold = petal_length[petal_length > threshold_value]\n",
    "probability = len(greater_than_threshold) / len(petal_length)\n",
    "print(f\"Probability of petal length > {threshold_value}cm: {probability:.4f}\")"
   ]
  },
  {
   "cell_type": "markdown",
   "id": "04e4efbf",
   "metadata": {
    "papermill": {
     "duration": 0.010151,
     "end_time": "2024-07-03T09:44:58.153003",
     "exception": false,
     "start_time": "2024-07-03T09:44:58.142852",
     "status": "completed"
    },
    "tags": []
   },
   "source": [
    "### Perform a hypothesis test to determine if there is a significant difference in the mean petal length between two species of iris flowers.\n"
   ]
  },
  {
   "cell_type": "code",
   "execution_count": 13,
   "id": "21c23e10",
   "metadata": {
    "execution": {
     "iopub.execute_input": "2024-07-03T09:44:58.177353Z",
     "iopub.status.busy": "2024-07-03T09:44:58.176833Z",
     "iopub.status.idle": "2024-07-03T09:44:58.193642Z",
     "shell.execute_reply": "2024-07-03T09:44:58.192187Z"
    },
    "papermill": {
     "duration": 0.031923,
     "end_time": "2024-07-03T09:44:58.196267",
     "exception": false,
     "start_time": "2024-07-03T09:44:58.164344",
     "status": "completed"
    },
    "tags": []
   },
   "outputs": [
    {
     "name": "stdout",
     "output_type": "stream",
     "text": [
      "Fail to reject H0: Evidence is inconclusive for a significant difference.\n"
     ]
    }
   ],
   "source": [
    "species1 = \"setosa\"  \n",
    "species2 = \"versicolor\"  \n",
    "petal_length_species1 = iris[iris[\"species\"] == species1][\"petal_length\"]\n",
    "petal_length_species2 = iris[iris[\"species\"] == species2][\"petal_length\"]\n",
    "\n",
    "# Perform two-sample t-test\n",
    "t_statistic, p_value = stats.ttest_ind(petal_length_species1, petal_length_species2)\n",
    "\n",
    "alpha = 0.05\n",
    "\n",
    "if p_value < alpha:\n",
    "    print(\"Reject H0: There is a significant difference in mean petal length between\", species1, \"and\", species2)\n",
    "else:\n",
    "    print(\"Fail to reject H0: Evidence is inconclusive for a significant difference.\")"
   ]
  },
  {
   "cell_type": "markdown",
   "id": "58653839",
   "metadata": {
    "papermill": {
     "duration": 0.010396,
     "end_time": "2024-07-03T09:44:58.217476",
     "exception": false,
     "start_time": "2024-07-03T09:44:58.207080",
     "status": "completed"
    },
    "tags": []
   },
   "source": [
    "### Calculate and interpret the covariance and correlation between sepal length and sepal width."
   ]
  },
  {
   "cell_type": "code",
   "execution_count": 14,
   "id": "0430e257",
   "metadata": {
    "execution": {
     "iopub.execute_input": "2024-07-03T09:44:58.241846Z",
     "iopub.status.busy": "2024-07-03T09:44:58.241436Z",
     "iopub.status.idle": "2024-07-03T09:44:58.253103Z",
     "shell.execute_reply": "2024-07-03T09:44:58.251679Z"
    },
    "papermill": {
     "duration": 0.027481,
     "end_time": "2024-07-03T09:44:58.255663",
     "exception": false,
     "start_time": "2024-07-03T09:44:58.228182",
     "status": "completed"
    },
    "tags": []
   },
   "outputs": [
    {
     "name": "stdout",
     "output_type": "stream",
     "text": [
      "Covariance: -0.03926845637583893\n",
      "Correlation coefficient: -0.10936924995064937\n",
      "Interpretation: Negative covariance suggests sepal length and sepal width tend to move in opposite directions.\n"
     ]
    }
   ],
   "source": [
    "sepal_length = iris[\"sepal_length\"]\n",
    "sepal_width = iris[\"sepal_width\"]\n",
    "\n",
    "# Covariance\n",
    "covariance = np.cov(sepal_length, sepal_width)[0, 1]  # Access co-variance value\n",
    "\n",
    "# Correlation coefficient\n",
    "correlation = np.corrcoef(sepal_length, sepal_width)[0, 1]  # Access correlation value\n",
    "\n",
    "print(\"Covariance:\", covariance)\n",
    "print(\"Correlation coefficient:\", correlation)\n",
    "\n",
    "if covariance > 0:\n",
    "  print(\"Interpretation: Positive covariance suggests sepal length and sepal width tend to increase together.\")\n",
    "elif covariance < 0:\n",
    "  print(\"Interpretation: Negative covariance suggests sepal length and sepal width tend to move in opposite directions.\")\n",
    "else:\n",
    "  print(\"Interpretation: Covariance is zero, indicating no linear relationship between sepal length and sepal width.\")"
   ]
  },
  {
   "cell_type": "code",
   "execution_count": null,
   "id": "ebe00441",
   "metadata": {
    "papermill": {
     "duration": 0.010305,
     "end_time": "2024-07-03T09:44:58.276779",
     "exception": false,
     "start_time": "2024-07-03T09:44:58.266474",
     "status": "completed"
    },
    "tags": []
   },
   "outputs": [],
   "source": []
  }
 ],
 "metadata": {
  "kaggle": {
   "accelerator": "none",
   "dataSources": [
    {
     "datasetId": 17860,
     "sourceId": 23404,
     "sourceType": "datasetVersion"
    }
   ],
   "dockerImageVersionId": 30732,
   "isGpuEnabled": false,
   "isInternetEnabled": true,
   "language": "python",
   "sourceType": "notebook"
  },
  "kernelspec": {
   "display_name": "Python 3",
   "language": "python",
   "name": "python3"
  },
  "language_info": {
   "codemirror_mode": {
    "name": "ipython",
    "version": 3
   },
   "file_extension": ".py",
   "mimetype": "text/x-python",
   "name": "python",
   "nbconvert_exporter": "python",
   "pygments_lexer": "ipython3",
   "version": "3.10.13"
  },
  "papermill": {
   "default_parameters": {},
   "duration": 7.563478,
   "end_time": "2024-07-03T09:44:58.910389",
   "environment_variables": {},
   "exception": null,
   "input_path": "__notebook__.ipynb",
   "output_path": "__notebook__.ipynb",
   "parameters": {},
   "start_time": "2024-07-03T09:44:51.346911",
   "version": "2.5.0"
  }
 },
 "nbformat": 4,
 "nbformat_minor": 5
}
